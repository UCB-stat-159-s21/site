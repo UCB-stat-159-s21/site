{
 "cells": [
  {
   "cell_type": "markdown",
   "id": "normal-jordan",
   "metadata": {},
   "source": [
    "# Some tips for HW06\n",
    "\n",
    "These notes should help you work through some of the issues we discussed in lecture today, regarding how to render the sphinx documentation for cryptorandom in the hub, and how to then view your own build of these docs through the hub.\n",
    "\n",
    "Basically we need to solve the following problems:\n",
    "\n",
    "1. We need to ensure that pytest, Sphinx and other tools find and use our in-development version of `cryptorandom` instead of the system-wide one, so our new work is reflected in the tests and documentation we create.\n",
    "1. We need to be able to build the documentation on JupyterHub and view the resulting docs online easily, through the Hub.\n",
    "\n",
    "\n",
    "Credit and huge thanks to [Yuvi Panda](https://github.com/yuvipanda) from the JupyterHub/Berkeley team for his help navigating the proxy issues detailed below."
   ]
  },
  {
   "cell_type": "markdown",
   "id": "analyzed-moore",
   "metadata": {},
   "source": [
    "## Install `cryptorandom` locally in development mode\n",
    "\n",
    "The first issue we must solve is for Sphinx to find the version of `cryptorandom` that you are working on, rather than the installed one. This manifests itself immediately as the `AttributeError` you see regarding a missing `__version__` attribute when trying to build the docs, but even if you fix that with a quick hack as I did in lecture, you'll still have a problem. The issue is that the docs will import the _system-wide installed_ version of `cryptorandom`, and not your local development copy. So any new docstrings or function signatures you edit will not be correctly reflected in the resulting docs.\n",
    "\n",
    "The solution is to install your working copy as a _development version_, also known as an _\"editable install\"_ (hence the `-e` command line argument). We now explain how to do this, and you can find more details in the [pip documentation](https://pip.pypa.io/en/stable/reference/pip_install/#editable-installs).\n",
    "\n",
    "In the top-level of the `cryptorandom` directory, where the file `setup.py` lives, run the command:\n",
    "\n",
    "`pip install -e .`\n",
    "\n",
    "You should see something like the following output (with your own user name in the path):\n",
    "\n",
    "```\n",
    "jovyan@jupyter-fernando-2eperez:~/cryptorandom$ pip install -e .\n",
    "Obtaining file:///home/jovyan/cryptorandom\n",
    "Requirement already satisfied: numpy>=1.20 in /opt/conda/lib/python3.8/site-packages (from cryptorandom==0.3rc2.dev0) (1.20.1)\n",
    "Requirement already satisfied: scipy>=1.6 in /opt/conda/lib/python3.8/site-packages (from cryptorandom==0.3rc2.dev0) (1.6.0)\n",
    "Installing collected packages: cryptorandom\n",
    "  Attempting uninstall: cryptorandom\n",
    "    Found existing installation: cryptorandom 0.2\n",
    "    Uninstalling cryptorandom-0.2:\n",
    "      Successfully uninstalled cryptorandom-0.2\n",
    "  Running setup.py develop for cryptorandom\n",
    "Successfully installed cryptorandom\n",
    "```\n",
    "\n",
    "Check that you got it right by doing the following:\n",
    "\n",
    "```\n",
    "cd doc/\n",
    "python -c \"import cryptorandom as cr;print(cr.__version__)\"\n",
    "```\n",
    "\n",
    "You should see:\n",
    "\n",
    "```\n",
    "jovyan@jupyter-fernando-2eperez:~/cryptorandom$ cd doc/\n",
    "jovyan@jupyter-fernando-2eperez:~/cryptorandom/doc$ python -c \"import cryptorandom as cr;print(cr.__version__)\"\n",
    "0.3rc2.dev0\n",
    "```\n"
   ]
  },
  {
   "cell_type": "markdown",
   "id": "naughty-watts",
   "metadata": {},
   "source": [
    "## Set up the sphinx build for JupyterHub-hosted viewing\n",
    "\n",
    "First, you need to make a change to `conf.py` so that the build can be seen through a JupyterHub installation. This change can probably go into cryptorandom proper in the end, but for now we suggest you make it directly into the team repo in a single commit, that all team members then pull from, so you all have it in one place. You need to add three lines below - the comment is there in the file already, around line 108, and we leave it here for ease of reference. You neeed to add the code starting with `import os`:\n",
    "\n",
    "```python\n",
    "# -- Options for HTML output ----------------------------------------------\n",
    "\n",
    "import os\n",
    "\n",
    "if \"JUPYTERHUB_SERVICE_PREFIX\" in os.environ:\n",
    "    html_baseurl = f'{os.environ[\"JUPYTERHUB_SERVICE_PREFIX\"]}/proxy/absolute/8000'\n",
    "```\n",
    "\n",
    "Just to make sure these changes apply everywhere, in the `doc/` directory run `make clean` once after the above, and then continue with the below. In what follows you may want to keep at least _two_ terminals open, one where you keep running the HTML Sphinx build, and one to run the server to check your builds (some might keep a third open in the top-level directory for git work, commits, pushes, etc). Take advantage of JupyterLab's ability to lay them out in whatever way you find most visually convenient!\n",
    "\n",
    "Once you make these changes you should commit and push them to the team repo, and all members need to ensure they pull from that correctly and they all have the same `conf.py`."
   ]
  },
  {
   "cell_type": "markdown",
   "id": "popular-yield",
   "metadata": {},
   "source": [
    "## Editing the docs and testing your build\n",
    "\n",
    "Make your edits and run `make html` in the `doc/` directory.  To check your build, then go to your other terminal (if you chose to have more than one) and go to the `build/html` subdirectory. There, run:\n",
    "\n",
    "`python -m http.server`\n",
    "\n",
    "as we saw today in class.  This will print a message like:\n",
    "\n",
    "```\n",
    "jovyan@jupyter-fernando-2eperez:~/cryptorandom/doc/build/html$ python -m http.server\n",
    "Serving HTTP on 0.0.0.0 port 8000 (http://0.0.0.0:8000/) ...\n",
    "```\n",
    "\n",
    "but you can _not_ access `http://0.0.0.0:8000` as we explained today in class, as on your home computer that would correspond to a local port. Instead you need to reach that port but on the Stat159 DataHub!\n",
    "\n",
    "In order to support that, the Hub runs what is called a proxy service, that basically hooks up port 8000 on the Hub service to a publicly available path on the internet, so that you can see that internal port from your home computer. \n",
    "\n",
    "The file you are trying to reach is `index.html` at the `doc/build/html` directory, being served on port 8000 on the server. To access that file from home, instead you tell your laptop to go to:\n",
    "\n",
    "https://stat159.datahub.berkeley.edu/user-redirect/proxy/8000/index.html\n",
    "\n",
    "(if you had configured the python HTTP server to use a different port than 8000 you'd change that number, and similarly if the name of the file you wanted to look at was different you'd adjust the path).\n",
    "\n",
    "That URL will automatically change to a different one, with your username, and should show you the build of the docs. This is what that looks like for me when it's all running:\n",
    "\n",
    "![](Fig/hw06-sphinx-build-hub-proxy-view.png)\n",
    "\n",
    "As a side note, you may want to explore using [sphinx-autobuild](https://github.com/executablebooks/sphinx-autobuild), a tool that automatically builds and reloads your Sphinx docs as you make changes. I haven't personally tested it yet but it looks interesting, it is developed by the same team from the Executable Books project that builds JupyterBook."
   ]
  },
  {
   "cell_type": "markdown",
   "id": "equivalent-optimum",
   "metadata": {},
   "source": [
    "## Development workfow\n",
    "\n",
    "You can now keep the Python HTTP server running, and continue a cycle of making edits, running `make html` in the `doc/` directory, and checking the resulting HTML until it is to your liking.\n",
    "\n",
    "Once you're happy, commit, push, make PRs, and communicate happily with your team on your progress!"
   ]
  }
 ],
 "metadata": {
  "kernelspec": {
   "display_name": "Python 3",
   "language": "python",
   "name": "python3"
  },
  "language_info": {
   "codemirror_mode": {
    "name": "ipython",
    "version": 3
   },
   "file_extension": ".py",
   "mimetype": "text/x-python",
   "name": "python",
   "nbconvert_exporter": "python",
   "pygments_lexer": "ipython3",
   "version": "3.8.8"
  }
 },
 "nbformat": 4,
 "nbformat_minor": 5
}
