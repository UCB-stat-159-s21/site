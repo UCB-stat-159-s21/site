{
 "cells": [
  {
   "cell_type": "markdown",
   "metadata": {},
   "source": [
    "# Numerical stability \n",
    "\n",
    "In this notebook we look at some issues with the stability and errors that can arise when doing arithmetic on a computer. This will be a very quick pass over this rich topic, we encourage you to read the classic [What Every Computer Scientist Should Know About Floating-Point Arithmetic](\n",
    "https://docs.oracle.com/cd/E19957-01/806-3568/ncg_goldberg.html) to learn much more about this important topic.\n",
    "\n",
    "In the last lecture, we discussed how _binary_ floating point arithmetic can be subtle.  Consider the follwing three numbers:"
   ]
  },
  {
   "cell_type": "code",
   "execution_count": 1,
   "metadata": {},
   "outputs": [],
   "source": [
    "a, b, c = 1e-16, 1, -1e-16"
   ]
  },
  {
   "cell_type": "markdown",
   "metadata": {},
   "source": [
    "Before running any code below, think about what the output of\n",
    "\\begin{equation*}\n",
    "a + b + c\n",
    "\\end{equation*}\n",
    "should be.\n",
    "\n",
    "Should it be any different whether you compute it as\n",
    "\\begin{equation*}\n",
    "(a + b) + c\n",
    "\\end{equation*}\n",
    "or\n",
    "\\begin{equation*}\n",
    "a + (b + c)?\n",
    "\\end{equation*}\n",
    "\n",
    "Let's take a look:"
   ]
  },
  {
   "cell_type": "code",
   "execution_count": 2,
   "metadata": {},
   "outputs": [
    {
     "name": "stdout",
     "output_type": "stream",
     "text": [
      "(a + b) + c = 0.9999999999999999\n",
      "a + (b + c) = 1.0\n"
     ]
    }
   ],
   "source": [
    "print(f\"(a + b) + c = {(a + b) + c}\")\n",
    "print(f\"a + (b + c) = {a + (b + c)}\")"
   ]
  },
  {
   "cell_type": "markdown",
   "metadata": {},
   "source": [
    "**Lesson:** the finite precision of floating point arithmetic leads to the fact that _even simple properties of elementary arithmetic, like the associativity of addition, don't necessarily hold in all cases_.\n",
    "\n",
    "Now, the above issue is one related to loss of accuracy due to the finite precision and range of binary floating point. These issues run further, however. Consider computing\n",
    "\\begin{equation*}\n",
    "0.1 + 0.1 + 0.1 - 0.3\n",
    "\\end{equation*}\n",
    "which obviously we expect to be equal to 0. Is it?"
   ]
  },
  {
   "cell_type": "code",
   "execution_count": 3,
   "metadata": {},
   "outputs": [
    {
     "data": {
      "text/plain": [
       "5.551115123125783e-17"
      ]
     },
     "execution_count": 3,
     "metadata": {},
     "output_type": "execute_result"
    }
   ],
   "source": [
    "0.1 + 0.1 + 0.1 - 0.3"
   ]
  },
  {
   "cell_type": "code",
   "execution_count": 4,
   "metadata": {},
   "outputs": [
    {
     "data": {
      "text/plain": [
       "0.30000000000000004"
      ]
     },
     "execution_count": 4,
     "metadata": {},
     "output_type": "execute_result"
    }
   ],
   "source": [
    "0.1 + 0.2"
   ]
  },
  {
   "cell_type": "markdown",
   "metadata": {},
   "source": [
    "This problem isn't one of loss of precision, but one of _representability_: due to the way binary floating point arithmetic represents numbers, not all decimal fractions can be correctly represented, and thus arithmetic operations incur small errors that can lead to unexpected results."
   ]
  },
  {
   "cell_type": "markdown",
   "metadata": {},
   "source": [
    "## Decimal Arithmetic in Python\n",
    "\n",
    "A quick aside before we continue. This kind of tool isn't very commonly used in scientific computing, but the Python Standard Library includes the [`decimal` module](https://docs.python.org/3/library/decimal.html), an implementation of Decimal arithmetic (see the full [IBM IBM’s General Decimal Arithmetic Specification](http://speleotrove.com/decimal/decarith.html) for more details).  Using `Decimal`s, the above issue doesn't occur:"
   ]
  },
  {
   "cell_type": "code",
   "execution_count": 5,
   "metadata": {},
   "outputs": [
    {
     "name": "stdout",
     "output_type": "stream",
     "text": [
      "(a + b) + c = 1.000000000000000000000000000\n",
      "a + (b + c) = 1.000000000000000000000000000\n"
     ]
    }
   ],
   "source": [
    "from decimal import Decimal\n",
    "\n",
    "a1, b1, c1 = Decimal(1e-16), Decimal(1), Decimal(-1e-16)\n",
    "print(f\"(a + b) + c = {(a1 + b1) + c1}\")\n",
    "print(f\"a + (b + c) = {a1 + (b1 + c1)}\")"
   ]
  },
  {
   "cell_type": "markdown",
   "metadata": {},
   "source": [
    "And for our other example:"
   ]
  },
  {
   "cell_type": "code",
   "execution_count": 6,
   "metadata": {},
   "outputs": [
    {
     "data": {
      "text/plain": [
       "Decimal('2.775557561565156540423631668E-17')"
      ]
     },
     "execution_count": 6,
     "metadata": {},
     "output_type": "execute_result"
    }
   ],
   "source": [
    "x, y = Decimal(0.1), Decimal(0.3)\n",
    "x + x + x - y"
   ]
  },
  {
   "cell_type": "markdown",
   "metadata": {},
   "source": [
    "mmmhh... What happened here?"
   ]
  },
  {
   "cell_type": "code",
   "execution_count": 7,
   "metadata": {},
   "outputs": [
    {
     "data": {
      "text/plain": [
       "Decimal('0.0')"
      ]
     },
     "execution_count": 7,
     "metadata": {},
     "output_type": "execute_result"
    }
   ],
   "source": [
    "x, y = Decimal(\"0.1\"), Decimal(\"0.3\")\n",
    "x + x + x - y"
   ]
  },
  {
   "cell_type": "markdown",
   "metadata": {},
   "source": [
    "## Back to numerics\n",
    "\n",
    "> **Note:** For numerical computing, if you need arbitrary precision arithmetic in floating point with support for advanced mathematical operations including special functions, the [mpmath library](https://mpmath.org) is an excellent resource to know about."
   ]
  },
  {
   "cell_type": "markdown",
   "metadata": {},
   "source": [
    "This behavior can have serious implications in a variety of numerical work scenarios. \n",
    "\n",
    "Consider the seemingly trivial problem of evaluating with a computer the\n",
    "expression\n",
    "\n",
    "$$f(x) = r x (1-x)$$\n",
    "\n",
    "where $r$ and $x$ are real numbers with $r \\in [0,4]$ and $x \\in (0,1)$.\n",
    "This expression can also be written in an algebraically equivalent form:\n",
    "\n",
    "$$f_2(x) = rx - rx^2.$$\n",
    "\n",
    "Like above, when using binary floating point these two forms don't\n",
    "necessarily produce the same answer. First a look at a few simple tests:"
   ]
  },
  {
   "cell_type": "code",
   "execution_count": 8,
   "metadata": {},
   "outputs": [
    {
     "name": "stdout",
     "output_type": "stream",
     "text": [
      "f1: 0.30399999999999994\n",
      "f2: 0.3039999999999998\n"
     ]
    }
   ],
   "source": [
    "def f1(x): return r*x*(1-x)\n",
    "def f2(x): return r*x - r*x**2\n",
    "\n",
    "r = 1.9\n",
    "x = 0.8\n",
    "print('f1:', f1(x))\n",
    "print('f2:', f2(x))"
   ]
  },
  {
   "cell_type": "code",
   "execution_count": 9,
   "metadata": {},
   "outputs": [
    {
     "name": "stdout",
     "output_type": "stream",
     "text": [
      "f1: 0.6239999999999999\n",
      "f2: 0.6239999999999997\n"
     ]
    }
   ],
   "source": [
    "r = 3.9\n",
    "x = 0.8\n",
    "print('f1:', f1(x))\n",
    "print('f2:', f2(x))"
   ]
  },
  {
   "cell_type": "markdown",
   "metadata": {},
   "source": [
    "The difference is small but not zero:"
   ]
  },
  {
   "cell_type": "code",
   "execution_count": 10,
   "metadata": {},
   "outputs": [
    {
     "name": "stdout",
     "output_type": "stream",
     "text": [
      "difference: 2.220446049250313e-16\n"
     ]
    }
   ],
   "source": [
    "print('difference:', (f1(x)-f2(x)))"
   ]
  },
  {
   "cell_type": "markdown",
   "metadata": {},
   "source": [
    "More importantly, this difference begins to accumulate as we perform the\n",
    "same operations over and over. Let's illustrate this behavior by using\n",
    "the formulas above *iteratively*, that is, by feeding the result of the\n",
    "evaluation back into the same formula:\n",
    "\n",
    "$$x_{n+1} = f(x_n), n=0,1, \\ldots$$\n",
    "\n",
    "We can experiment with different values of $r$ and different starting\n",
    "points $x_0$ to observe the different results. We will simply build a\n",
    "python list that contains the results of three different (algebraically\n",
    "equivalent) forms of evaluating the above expression.\n",
    "\n",
    "<div class=\"admonition\">\n",
    "\n",
    "<p class=\"admonition-title\">Exercise</p>\n",
    "\n",
    "<p>Write code that computes the iteration of $f(x)$ using three different ways of writing the expression. Store your results and plot them using the `plt.plot()` function (the solution follows).</p>\n",
    "\n",
    "</div>\n",
    "\n",
    "For completeness, we define three algebraically equivalent formulations:"
   ]
  },
  {
   "cell_type": "code",
   "execution_count": 11,
   "metadata": {},
   "outputs": [],
   "source": [
    "def f1(x, r=r): return r*x*(1-x)\n",
    "def f2(x, r=r): return r*x - r*x**2\n",
    "def f3(x, r=r): return r*(x-x**2)"
   ]
  },
  {
   "cell_type": "markdown",
   "metadata": {},
   "source": [
    "In order to see the difference between the initial behavior and the\n",
    "later evolution, let's declare two variables to control our plotting:"
   ]
  },
  {
   "cell_type": "code",
   "execution_count": 12,
   "metadata": {},
   "outputs": [],
   "source": [
    "num_points = 100  # total number of points to compute\n",
    "drop_points = 0  # don't display the first drop_points"
   ]
  },
  {
   "cell_type": "markdown",
   "metadata": {},
   "source": [
    "Using these, we can get the following figure:"
   ]
  },
  {
   "cell_type": "code",
   "execution_count": 13,
   "metadata": {},
   "outputs": [
    {
     "data": {
      "application/vnd.jupyter.widget-view+json": {
       "model_id": "228841dda1a14eed947a904fa0b54a03",
       "version_major": 2,
       "version_minor": 0
      },
      "text/plain": [
       "Canvas(toolbar=Toolbar(toolitems=[('Home', 'Reset original view', 'home', 'home'), ('Back', 'Back to previous …"
      ]
     },
     "metadata": {},
     "output_type": "display_data"
    }
   ],
   "source": [
    "%matplotlib widget\n",
    "import matplotlib.pyplot as plt\n",
    "import numpy as np\n",
    "\n",
    "x0 = 0.55 # Any starting value\n",
    "r  = 3.9  # Change this to see changes in behavior\n",
    "fp = (r-1.0)/r\n",
    "x1 = x2 = x3 = x0\n",
    "data = []\n",
    "data.append([x1,x2,x3])\n",
    "for i in range(num_points):\n",
    "    x1 = f1(x1)\n",
    "    x2 = f2(x2)\n",
    "    x3 = f3(x3)\n",
    "    data.append([x1,x2,x3])\n",
    "\n",
    "# Display the results\n",
    "plt.figure()\n",
    "plt.title('r=%1.1f' % r)\n",
    "plt.axhline(fp, color='black')\n",
    "plt.plot(data[drop_points:], '-o', markersize=4)\n",
    "plt.show()"
   ]
  },
  {
   "cell_type": "markdown",
   "metadata": {},
   "source": [
    "<div class=\"admonition\">\n",
    "\n",
    "<p class=\"admonition-title\">Exercise</p>\n",
    "\n",
    "<p>Now, experiment with different values of $r$ as well as different\n",
    "starting points $x_0$. What do you see? What happens when $r$ is small\n",
    "(close to 0)? Experiment with these values of $r$: \\[1.9, 2.9, 3.1, 3.5,\n",
    "3.9\\] and think about the behavior of the system as you change $r$.</p>\n",
    "\n",
    "</div>"
   ]
  },
  {
   "cell_type": "code",
   "execution_count": 14,
   "metadata": {},
   "outputs": [
    {
     "data": {
      "application/vnd.jupyter.widget-view+json": {
       "model_id": "e79ac20bbae44ea09a682477896e475c",
       "version_major": 2,
       "version_minor": 0
      },
      "text/plain": [
       "Canvas(toolbar=Toolbar(toolitems=[('Home', 'Reset original view', 'home', 'home'), ('Back', 'Back to previous …"
      ]
     },
     "metadata": {},
     "output_type": "display_data"
    },
    {
     "data": {
      "application/vnd.jupyter.widget-view+json": {
       "model_id": "d07b6879d68742e8ad1b1f3b6a70ac68",
       "version_major": 2,
       "version_minor": 0
      },
      "text/plain": [
       "interactive(children=(FloatSlider(value=1.0, description='r', max=4.0, min=0.01, step=0.05), Output()), _dom_c…"
      ]
     },
     "metadata": {},
     "output_type": "display_data"
    }
   ],
   "source": [
    "from ipywidgets import interact\n",
    "\n",
    "fig, ax = plt.subplots()\n",
    "\n",
    "@interact(r=(0.01, 4, 0.05))\n",
    "def _(r=1):\n",
    "    x0 = 0.55 # Any starting value\n",
    "    fp = (r-1.0)/r\n",
    "    x1 = x2 = x3 = x0\n",
    "    data = []\n",
    "    data.append([x1,x2,x3])\n",
    "    for i in range(num_points):\n",
    "        x1 = f1(x1, r)\n",
    "        x2 = f2(x2, r)\n",
    "        x3 = f3(x3, r)\n",
    "        data.append([x1,x2,x3])\n",
    "\n",
    "    # Display the results\n",
    "    ax.clear()\n",
    "    ax.set_title('r=%1.1f' % r)\n",
    "    ax.axhline(fp, color='black')\n",
    "    ax.plot(data[drop_points:], '-o', markersize=4)\n",
    "    fig.canvas.draw_idle()"
   ]
  },
  {
   "cell_type": "markdown",
   "metadata": {},
   "source": [
    "Once we've understood the basic pattern, let's try to think of the\n",
    "entire evolution of the system *as a function of* $r$. First, observe\n",
    "that a sequence generated by an iterative process of the form\n",
    "\n",
    "$$x_{n+1} = f(x_n), n=0,1, \\ldots$$\n",
    "\n",
    "will stop producing new values if there is a certain $x^*$ such that\n",
    "\n",
    "$$x^* = f(x^*).$$\n",
    "\n",
    "This special $x^*$ is called a *fixed point* of the iterative process.\n",
    "It is easy to show that for our $f(x)$, the fixed point is\n",
    "\n",
    "$$x^* = \\frac{r-1}{r}$$\n",
    "\n",
    "(in fact, that's the value plotted as a thin black line in the earlier\n",
    "script).\n",
    "\n",
    "<div class=\"admonition\">\n",
    "\n",
    "<p class=\"admonition-title\">Exercise</p>\n",
    "\n",
    "<p>Study whether the iteration converges to the fixed point or not by\n",
    "letting it run for each value of r for a few hundred points and\n",
    "discarding those, and then plotting the rest. Make a diagram with these\n",
    "plots as a function of r.</p>\n",
    "</div>\n",
    "\n",
    "The following code is a simple solution:"
   ]
  },
  {
   "cell_type": "code",
   "execution_count": 15,
   "metadata": {},
   "outputs": [
    {
     "data": {
      "application/vnd.jupyter.widget-view+json": {
       "model_id": "f78059b3691147cfb88afc1c5a512d62",
       "version_major": 2,
       "version_minor": 0
      },
      "text/plain": [
       "Canvas(toolbar=Toolbar(toolitems=[('Home', 'Reset original view', 'home', 'home'), ('Back', 'Back to previous …"
      ]
     },
     "metadata": {},
     "output_type": "display_data"
    }
   ],
   "source": [
    "def f(x, r):\n",
    "    return r*x*(1-x)\n",
    "\n",
    "num_points = 500\n",
    "drop_points = 50\n",
    "rmin, rmax = 3.4, 4\n",
    "xmin, xmax = 0, 1\n",
    "x0 = 0.65\n",
    "fig, ax = plt.subplots()\n",
    "ax.set_xlim(rmin, rmax)\n",
    "ax.set_ylim(xmin, xmax)\n",
    "for r in np.linspace(rmin, rmax, 2000):\n",
    "    x = np.empty(num_points)\n",
    "    x[0] = x0\n",
    "    for n in range(1, num_points):\n",
    "        x[n] = f(x[n-1], r)\n",
    "    x = x[drop_points:]\n",
    "    rplot = r*np.ones_like(x)\n",
    "    ax.plot(rplot, x, 'b,')\n",
    "\n",
    "plt.show()"
   ]
  },
  {
   "cell_type": "markdown",
   "metadata": {},
   "source": [
    "<link rel=\"stylesheet\" type=\"text/css\" href=\"style.css\"></link>\n",
    "\n",
    "<div class=\"admonition\">\n",
    "\n",
    "<p class=\"admonition-title\">Exercise</p>\n",
    "\n",
    "<p>Can you relate the features of this figure to the behavior you saw in\n",
    "your earlier plots? Zoom in the region past $r=3$, what finer features\n",
    "do you see? Where is the fixed point we discussed earlier?</p>\n",
    "\n",
    "</div>"
   ]
  },
  {
   "cell_type": "code",
   "execution_count": 16,
   "metadata": {},
   "outputs": [
    {
     "data": {
      "text/html": [
       "<style>\n",
       "/*\n",
       "Some convenient CSS rules for displaying notes, exercises, etc in class-oriented notebooks.\n",
       "*/\n",
       "\n",
       "/* -- admonitions and warnings----------------------------------------- */\n",
       "\n",
       "div.admonition {\n",
       "    margin-top: 10px;\n",
       "    margin-bottom: 10px;\n",
       "    padding: 7px;\n",
       "}\n",
       "\n",
       "div.admonition dt {\n",
       "    font-weight: bold;\n",
       "}\n",
       "\n",
       "div.admonition dl {\n",
       "    margin-bottom: 0;\n",
       "}\n",
       "\n",
       "p.admonition-title {\n",
       "    margin: 0px 10px 5px 0px;\n",
       "    font-weight: bold;\n",
       "}\n",
       "\n",
       "div.body p.centered {\n",
       "    text-align: center;\n",
       "    margin-top: 25px;\n",
       "}\n",
       "\n",
       "\n",
       "\n",
       "div.admonition, div.warning {\n",
       "    font-size: 0.9em;\n",
       "    margin: 1em 0 1em 0;\n",
       "    border: 1px solid #86989B;\n",
       "    background-color: #f7f7f7;\n",
       "    padding: 0;\n",
       "}\n",
       "\n",
       "div.admonition p, div.warning p {\n",
       "    margin: 0.5em 1em 0.5em 1em;\n",
       "    padding: 0;\n",
       "}\n",
       "\n",
       "div.admonition pre, div.warning pre {\n",
       "    margin: 0.4em 1em 0.4em 1em;\n",
       "}\n",
       "\n",
       "div.admonition p.admonition-title,\n",
       "div.warning p.admonition-title {\n",
       "    margin: 0;\n",
       "    padding: 0.1em 0 0.1em 0.5em;\n",
       "    color: white;\n",
       "    border-bottom: 1px solid #86989B;\n",
       "    font-weight: bold;\n",
       "    background-color: #AFC1C4;\n",
       "}\n",
       "\n",
       "div.warning {\n",
       "    border: 1px solid #940000;\n",
       "}\n",
       "\n",
       "div.warning p.admonition-title {\n",
       "    background-color: #CF0000;\n",
       "    border-bottom-color: #940000;\n",
       "}\n",
       "\n",
       "div.admonition ul, div.admonition ol,\n",
       "div.warning ul, div.warning ol {\n",
       "    margin: 0.1em 0.5em 0.5em 3em;\n",
       "    padding: 0;\n",
       "}\n",
       "\n",
       "</style>"
      ],
      "text/plain": [
       "<IPython.core.display.HTML object>"
      ]
     },
     "metadata": {},
     "output_type": "display_data"
    }
   ],
   "source": [
    "# Run this cell any time outputs have been removed to load CSS styles in use\n",
    "from IPython.display import display, HTML\n",
    "display(HTML(filename=\"../style.css\"))"
   ]
  }
 ],
 "metadata": {
  "kernelspec": {
   "display_name": "Python 3",
   "language": "python",
   "name": "python3"
  },
  "language_info": {
   "codemirror_mode": {
    "name": "ipython",
    "version": 3
   },
   "file_extension": ".py",
   "mimetype": "text/x-python",
   "name": "python",
   "nbconvert_exporter": "python",
   "pygments_lexer": "ipython3",
   "version": "3.8.6"
  }
 },
 "nbformat": 4,
 "nbformat_minor": 4
}
