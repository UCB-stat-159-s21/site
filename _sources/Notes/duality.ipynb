{
 "cells": [
  {
   "cell_type": "markdown",
   "metadata": {},
   "source": [
    "# Duality between confidence sets and hypothesis tests\n",
    "\n",
    "### We will observe $X \\sim \\mathbb P_\\mu$, where $\\mu \\in \\Theta$.  \n",
    "+ $\\Theta$ is known\n",
    "+ $\\theta \\rightarrow \\mathbb P_\\theta$ is known\n",
    "+ $\\mu$ is unknown\n",
    "+ $X$ takes values in $\\mathcal X$.\n",
    "\n",
    "(We will ignore issues of measurability here: tacitly assume that for all $\\theta \\in \\Theta$, $A_\\eta$ is $\\mathbb P_\\theta$-measurable\n",
    "and that $\\mathcal I(X)$ is set-valued $\\mathbb P_\\theta$-measurable function.)\n",
    "\n",
    "<div class=\"definition\">\n",
    "$A_\\theta \\subset \\mathcal X$ is the acceptance region for a level-$\\alpha$ test of the hypothesis $\\mu = \\theta$ iff\n",
    "$$\\mathbb P_\\theta (X \\notin A_\\theta) \\le \\alpha.$$\n",
    "</div>\n",
    "\n",
    "<div class=\"definition\">\n",
    "$\\mathcal I(X)$ is a $1-\\alpha$ confidence set for $\\mu$ iff \n",
    "$$ \\forall \\theta \\in \\Theta, \\;\\;\\; \\mathbb P_\\theta ( \\mathcal I(X) \\ni \\theta) \\ge 1-\\alpha.$$\n",
    "</div>\n",
    "\n",
    "\n",
    "<div class=\"proposition\">\n",
    "Suppose \n",
    "$$\\{A_\\theta: \\theta \\in \\Theta \\}$$\n",
    "is a family of level-$\\alpha$ acceptance regions. Then \n",
    "$$ \\mathcal I(X) \\equiv \\{ \\theta \\in \\Theta: X \\in A_\\theta \\}$$\n",
    "is a $1-\\alpha$ confidence set for $\\mu$.\n",
    "</div>"
   ]
  },
  {
   "cell_type": "markdown",
   "metadata": {},
   "source": [
    "<div class=\"proof\">\n",
    " For any $\\theta \\in \\Theta$,\n",
    "   $$ \\mathbb P_\\theta \\left (\\{ \\eta \\in \\Theta: X \\in A_\\eta \\} \\ni \\theta \\right )  = \n",
    "        \\mathbb P_\\theta ( X \\in A_\\theta ) $$\n",
    "   $$ \\ge 1-\\alpha.$$\n",
    "</div>"
   ]
  },
  {
   "cell_type": "markdown",
   "metadata": {},
   "source": [
    "## We will use this approach&mdash;inverting tests&mdash;to construct confidence sets.\n",
    "\n",
    "+ We are interested in _confidence bounds_ for real-valued parameters, typically 1-sided bounds\n",
    "+ Typically, one-sided tests for a one-dimensional location parameter lead to one-sided confidence bounds for the parameter\n",
    "+ Inverting a family of tests that rejects $\\mu = \\theta$ when $X$ is sufficiently small typically leads to an _upper_ confidence bound for $\\mu$\n",
    "+ Inverting a family of tests that rejects $\\mu = \\theta$ when $X$ is sufficiently large typically leads to a _lower_ confidence bound for $\\mu$\n",
    "+ Inverting a family of tests that rejects $\\mu = \\theta$ when $X$ is sufficiently \"extreme\" typically leads to a confidence interval for $\\mu$\n",
    "\n",
    "(Exceptions arise from non-monotone likelihood ratios, etc.)"
   ]
  },
  {
   "cell_type": "markdown",
   "metadata": {},
   "source": [
    "## Example: one-sided binomial tests\n",
    "\n",
    "Consider $n$ independent, uniform draws (i.e., a random sample with replacement) from a $\\{0, 1\\}$ population containing a fraction $p$ of 1s.\n",
    "Let $X$ denote the number of 1s in the random sample. Then $X$ has a Binomial distribution with parameters $n$ and $p$.\n",
    "\n",
    "In particular,\n",
    "$$ \\mathbb P_{n,p} (X = k) = {n \\choose k} p^k (1-p)^{n-k}$$\n",
    "for $0 \\le k \\le n$.\n",
    "\n",
    "To find a one-sided lower confidence bound for $p$ in a Binomial$(n,p)$ distribution, with $n$ known, we would invert one-sided upper tests, that is, tests that reject the hypothesis $p = \\pi$ when $X$ is large.\n",
    "\n",
    "The form of the acceptance region for the test is:\n",
    "$$ A_\\pi \\equiv \\ [0, a_\\pi],$$\n",
    "where \n",
    "$$ a_\\pi \\equiv \\min \\left \\{ k: \\sum_{i=k+1}^n {{n}\\choose{i}} \\pi^i (1-\\pi)^{n-i} \\le \\alpha \\right \\}.$$\n",
    "\n",
    "Let's see this graphically:"
   ]
  },
  {
   "cell_type": "code",
   "execution_count": 1,
   "metadata": {},
   "outputs": [],
   "source": [
    "# This is the first cell with code: set up the Python environment\n",
    "%matplotlib inline\n",
    "import matplotlib.pyplot as plt\n",
    "import math\n",
    "import numpy as np\n",
    "import scipy as sp\n",
    "import scipy.stats\n",
    "from scipy.stats import binom\n",
    "import pandas as pd\n",
    "from ipywidgets import interact, interactive, fixed\n",
    "import ipywidgets as widgets\n",
    "from IPython.display import clear_output, display, HTML"
   ]
  },
  {
   "cell_type": "code",
   "execution_count": 2,
   "metadata": {},
   "outputs": [
    {
     "data": {
      "text/plain": [
       "<function __main__.binomialHiLite>"
      ]
     },
     "execution_count": 2,
     "metadata": {},
     "output_type": "execute_result"
    },
    {
     "data": {
      "image/png": "[encoded data removed]",
      "text/plain": [
       "<matplotlib.figure.Figure at 0x113b16450>"
      ]
     },
     "metadata": {},
     "output_type": "display_data"
    }
   ],
   "source": [
    "def binomialHiLite(n, p, alpha):\n",
    "    ''' \n",
    "       Plots probability histogram for a binomial with parameters n and p, \n",
    "       highlighting the upper alpha quantile in yelow.\n",
    "       The blue region corresponds to the acceptance region for a level-alpha\n",
    "         test about p.\n",
    "       Plots a red vertical line at the expected value.\n",
    "    '''\n",
    "    fig, ax = plt.subplots(nrows=1, ncols=1)\n",
    "    x = np.arange(n+1)\n",
    "    val = binom.ppf(1-alpha, n, p)\n",
    "    inx = np.searchsorted(x, val, side=\"right\")\n",
    "    xb = x[:inx]\n",
    "    xy = x[inx:]\n",
    "    width = 1.0\n",
    "    ax.bar(xb, binom.pmf(xb, n, p), width, color='b', align='center')\n",
    "    hilit = ax.bar(xy, binom.pmf(xy, n, p), width, color='y', align='center')\n",
    "    plt.xlim([-width,n+width])\n",
    "    plt.axvline(x=n*p, color='r')\n",
    "    probStr = str(round(100*(1-binom.cdf(x[inx-1],n, p)),2))\n",
    "    label = r'$\\mathbf{P}(X \\geq ' + str(x[inx]) + r') \\approx' + probStr + '$'\n",
    "    plt.legend([hilit[0]], [label], loc = 'best')\n",
    "\n",
    "interact(binomialHiLite, n=widgets.IntSlider(min=5, max=300, step=1, value=30),\\\n",
    "         p=widgets.FloatSlider(min=0.001, max=1, step=0.001, value=.5),\\\n",
    "         alpha=widgets.FloatSlider(min=0.0, max=1.0, step=0.001, value=.05)\\\n",
    "        )"
   ]
  },
  {
   "cell_type": "markdown",
   "metadata": {},
   "source": [
    "## Inverting the test to find a confidence bound\n",
    "To turn this family of tests into a lower confidence bound, we need to find\n",
    "$$ \\min \\{ \\pi: A_\\pi \\ni X \\},$$\n",
    "that is,\n",
    "$$ \\min \\left \\{ \\pi: \\sum_{i=X}^n {{n}\\choose{i}} \\pi^i (1-\\pi)^{n-i} > \\alpha \\right \\}.$$\n",
    "\n",
    "The following code implements this, using a bisection search."
   ]
  },
  {
   "cell_type": "code",
   "execution_count": 3,
   "metadata": {},
   "outputs": [],
   "source": [
    "def bisect(lo, hi, tol, fun):\n",
    "    mid = (lo+hi)/2.0\n",
    "    while (hi-lo)/2 > tol:\n",
    "        if fun(mid) == 0.0:\n",
    "            return mid\n",
    "        elif fun(lo)*fun(mid) < 0.0:\n",
    "            hi = mid\n",
    "        else:\n",
    "            lo = mid\n",
    "        mid = (lo+hi)/2.0\n",
    "    return mid\n",
    "        \n",
    "def binoLowerCL(n, x, cl = 0.975, inc=0.000001, p = None):\n",
    "    \"Lower confidence level cl confidence interval for Binomial p, for x successes in n trials\"\n",
    "    if p is None:\n",
    "            p = float(x)/float(n)\n",
    "    lo = 0.0\n",
    "    if (x > 0):\n",
    "            f = lambda q: cl - scipy.stats.binom.cdf(x-1, n, q)\n",
    "            lo = bisect(0.0, p, inc, f)\n",
    "    return lo"
   ]
  },
  {
   "cell_type": "markdown",
   "metadata": {},
   "source": [
    "Let's use the code to find a lower confidence bound for $p$ if 50 iid draws from a {0, 1} population yield 40 1s and 10 0s."
   ]
  },
  {
   "cell_type": "code",
   "execution_count": 4,
   "metadata": {},
   "outputs": [
    {
     "name": "stdout",
     "output_type": "stream",
     "text": [
      "0.68440322876\n"
     ]
    }
   ],
   "source": [
    "p_lower_bound = binoLowerCL(50, 40, cl=0.95)\n",
    "print p_lower_bound"
   ]
  },
  {
   "cell_type": "markdown",
   "metadata": {},
   "source": [
    "Now let's check that against the probability histogram. Note that reducing $p$ below $0.6844$ drops the upper tail probability below 5%; for $p > 0.6844$ the probability is at least 5%, so the confidence interval is $[0.6844, 1]$:"
   ]
  },
  {
   "cell_type": "code",
   "execution_count": 5,
   "metadata": {},
   "outputs": [
    {
     "data": {
      "text/plain": [
       "<function __main__.binomialHiLite>"
      ]
     },
     "execution_count": 5,
     "metadata": {},
     "output_type": "execute_result"
    },
    {
     "data": {
      "image/png": "[encoded data removed]",
      "text/plain": [
       "<matplotlib.figure.Figure at 0x115ff4390>"
      ]
     },
     "metadata": {},
     "output_type": "display_data"
    }
   ],
   "source": [
    "interact(binomialHiLite, n=widgets.IntSlider(min=5, max=300, step=1, value=50),\\\n",
    "         p=widgets.FloatSlider(min=0.001, max=1, step=0.001, value=p_lower_bound),\\\n",
    "         alpha=widgets.FloatSlider(min=0.0, max=1.0, step=0.001, value=.05)\\\n",
    "        )"
   ]
  },
  {
   "cell_type": "markdown",
   "metadata": {},
   "source": [
    "## Upper confidence bounds for $p$\n",
    "For completeness, here's the code to find an upper confidence bound for Binomial $p$:"
   ]
  },
  {
   "cell_type": "code",
   "execution_count": 6,
   "metadata": {},
   "outputs": [],
   "source": [
    "def binoUpperCL(n, x, cl = 0.975, inc=0.000001, p = None):\n",
    "    \"Upper confidence level cl confidence interval for Binomial p, for x successes in n trials\"\n",
    "    if p is None:\n",
    "            p = float(x)/float(n)\n",
    "    hi = 1.0\n",
    "    if (x < n):\n",
    "            f = lambda q: scipy.stats.binom.cdf(x, n, q) - (1-cl)\n",
    "            hi = bisect(p, 1.0, inc, f)\n",
    "    return hi"
   ]
  },
  {
   "cell_type": "markdown",
   "metadata": {},
   "source": [
    "## What's next?\n",
    "We will consider some methods for constructing confidence bounds that work where the normal approximation failed, focusing at first on (lower) one-sided confidence intervals for the mean of bounded populations\n",
    "\n",
    "- [Next: Binomial confidence intervals](binom.ipynb)\n",
    "- [Previous: Confidence intervals based on the normal approximation](normApprox.ipynb)\n",
    "- [Index](index.ipynb)"
   ]
  },
  {
   "cell_type": "code",
   "execution_count": null,
   "metadata": {},
   "outputs": [],
   "source": []
  }
 ],
 "metadata": {
  "anaconda-cloud": {},
  "kernelspec": {
   "display_name": "Python 3",
   "language": "python",
   "name": "python3"
  },
  "language_info": {
   "codemirror_mode": {
    "name": "ipython",
    "version": 3
   },
   "file_extension": ".py",
   "mimetype": "text/x-python",
   "name": "python",
   "nbconvert_exporter": "python",
   "pygments_lexer": "ipython3",
   "version": "3.6.1"
  }
 },
 "nbformat": 4,
 "nbformat_minor": 1
}
