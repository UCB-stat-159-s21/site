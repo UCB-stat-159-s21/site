{
 "cells": [
  {
   "cell_type": "markdown",
   "metadata": {},
   "source": [
    "\n",
    "# Introduction to Git and Github\n",
    "\n",
    "## A short tutorial for Stat 159/259 at Berkeley\n",
    "\n",
    "Based on content previously developed by F. Pérez. Command-line material was developed by Fernando Paolo.\n",
    "\n",
    "This directory was used as part of the 2020 ICESat-2 HackWeek, with contributions by the following other instructors: _Shane Grigsby, Aimee Barciauskas, Sebastian Alvis, Yara Mohajerani, Anthony Arendt, David Shean, Daniel Shapero, Tyler Sutterley, Jessica Scheick_\n",
    "\n",
    "## Index of notebooks in this repository\n",
    "\n",
    "- [Overview of our basic tools and setup: Jupyter and JupyterHub](intro-jupyter-hub.ipynb)\n",
    "- [Command Line Basics](intro-shell.ipynb)\n",
    "- [Git: Introduction and Fundamentals](git-intro-concepts.ipynb)\n",
    "- [Git: first tasks](git-first-tasks.ipynb)\n",
    "- [Git: collaboration practice](collaboration-exercise.ipynb)\n",
    "- [Git: extras](git-extras.ipynb)\n"
   ]
  },
  {
   "cell_type": "code",
   "execution_count": null,
   "metadata": {},
   "outputs": [],
   "source": []
  }
 ],
 "metadata": {
  "kernelspec": {
   "display_name": "Python 3",
   "language": "python",
   "name": "python3"
  },
  "language_info": {
   "codemirror_mode": {
    "name": "ipython",
    "version": 3
   },
   "file_extension": ".py",
   "mimetype": "text/x-python",
   "name": "python",
   "nbconvert_exporter": "python",
   "pygments_lexer": "ipython3",
   "version": "3.7.9"
  }
 },
 "nbformat": 4,
 "nbformat_minor": 4
}
