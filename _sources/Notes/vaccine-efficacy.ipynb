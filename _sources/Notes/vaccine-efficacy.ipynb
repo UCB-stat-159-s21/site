{
 "cells": [
  {
   "cell_type": "markdown",
   "metadata": {},
   "source": [
    "# Estimating Vaccine Efficacy\n",
    "\n",
    "You have probably read things like \"the Moderna vaccine is 90% effective.\" What does that mean?\n",
    "How is effectiveness estimated? Can the uncertainty of the estimate be quantified meaningfully? How?\n",
    "\n"
   ]
  },
  {
   "cell_type": "markdown",
   "metadata": {},
   "source": [
    "## The experiment\n",
    "\n",
    "We will idealize the experiment as follows: there is a population of $N$ subjects of whom $n$ are selected at random to be vaccinated with the active vaccine; the remaining $m=N-n$ subjects receive a placebo.\n",
    "In reality, the randomization involves stratifying on age and other covariates and may also be stratified by recruitment center.\n",
    "\n",
    "We will ignore how the $N$ subjects were recruited: they are not necessarily representative of any larger group.\n",
    "\n",
    "In"
   ]
  },
  {
   "cell_type": "markdown",
   "metadata": {},
   "source": [
    "Vaccine efficacy is defined as\n",
    "\n",
    "\\begin{equation*}\n",
    "\\mbox{VE} \\equiv 1 - \\frac{\\mbox{risk among unvaccinated} - \\mbox{risk among vaccinated}}{\\mbox{risk among unvaccinated}}.\n",
    "\\end{equation*}\n",
    "This is the naive estimate of the fraction of infections vaccinations prevent.\n",
    "\n",
    "### Complications\n",
    "\n",
    "+ recruitment happens over some period of time\n",
    "+ infections are observed only if they occur during some period; not all infections during that period are necessarily observed\n",
    "+ vaccination may affect behavior"
   ]
  },
  {
   "cell_type": "markdown",
   "metadata": {},
   "source": [
    "## Bayesian estimation of a binomial probability\n",
    "\n",
    "### The beta-binomial distribution\n",
    "\n",
    "The random variable $X$ has a beta-binomial distribution with parameters $n$, $\\alpha$, and $\\beta$ if $X \\sim \\mbox{Binom}(n, P)$ with $P \\sim \\mbox{Beta}(\\alpha, \\beta)$.\n",
    "\n",
    "That is, the probability density of $P$ is\n",
    "\\begin{equation*}\n",
    "f_P(p) = p^{\\alpha-1}(1-p){\\beta-1}/B(\\alpha, \\beta),\n",
    "\\end{equation*}\n",
    "where $B(\\cdot, \\cdot)$ is the Beta function.\n",
    "The probability mass function of $X$ is\n",
    "\\begin{equation*}\n",
    "p_X(k) = \\binom{n}{k} \\frac{B(k+\\alpha, n-k+\\beta)}{B(\\alpha, \\beta)}.\n",
    "\\end{equation*}\n",
    "\n",
    "The Beta distribution is _conjugate_ to the binomial."
   ]
  },
  {
   "cell_type": "markdown",
   "metadata": {},
   "source": [
    "### Connection to other distributions\n",
    "\n",
    "There is a population of $N$ objects of which $G$ are labeled \"1\" and the rest are labeled \"0.\"\n",
    "\n",
    "If we sample with replacement $n$ times from this population, the distribution of the sample sum is binomial with parameters $n$ and $p=G/N$.\n",
    "If we sample without replacement $n\\le N$ times from this population, the distribution of the sample sum is hypergeometric with parameters $N$, $G$, and $n$.\n",
    "If we sample from this population and each time we draw, we not only replace the item drawn but also put another item with the same value into the population, the sample sum is beta-binomial with parameters $n$, $\\alpha = G$, and $\\beta = N-G$."
   ]
  },
  {
   "cell_type": "code",
   "execution_count": 3,
   "metadata": {},
   "outputs": [],
   "source": [
    "import scipy as sp\n",
    "import scipy.stats as stats\n",
    "import numpy as np\n",
    "import matplotlib.pyplot as plt\n",
    "import math\n",
    "\n",
    "from ipywidgets import interact, interactive, fixed, interact_manual\n",
    "import ipywidgets as widgets\n",
    "from IPython.display import clear_output, display, HTML"
   ]
  },
  {
   "cell_type": "code",
   "execution_count": 29,
   "metadata": {},
   "outputs": [],
   "source": [
    "def plotBeta(alpha, beta, points=100):\n",
    "    '''\n",
    "    Plot the beta density function\n",
    "    \n",
    "    Parameters\n",
    "    ----------\n",
    "    alpha : float\n",
    "        the alpha parameter of the beta distribution\n",
    "    beta : float\n",
    "        the alpha parameter of the beta distribution\n",
    "        \n",
    "    Returns\n",
    "    -------\n",
    "    no return value\n",
    "    '''\n",
    "    fig, ax = plt.subplots(1, 1)\n",
    "    x = np.linspace(stats.beta.ppf(0.01, alpha, beta),\n",
    "                stats.beta.ppf(0.99, alpha, beta), points)\n",
    "    lbl = 'beta pdf with parameters \\alpha={} and \\beta={}'.format(alpha,beta)\n",
    "    ax.plot(x, stats.beta.pdf(x, alpha, beta), 'r-', lw=5, label=lbl)"
   ]
  },
  {
   "cell_type": "code",
   "execution_count": 35,
   "metadata": {},
   "outputs": [
    {
     "data": {
      "application/vnd.jupyter.widget-view+json": {
       "model_id": "d21f0d2556eb4dada1099887f43842a2",
       "version_major": 2,
       "version_minor": 0
      },
      "text/plain": [
       "interactive(children=(FloatSlider(value=1.0, description='alpha', max=10.0), FloatSlider(value=1.0, descriptio…"
      ]
     },
     "metadata": {},
     "output_type": "display_data"
    },
    {
     "data": {
      "text/plain": [
       "<function __main__.plotBeta(alpha, beta, points=100)>"
      ]
     },
     "execution_count": 35,
     "metadata": {},
     "output_type": "execute_result"
    }
   ],
   "source": [
    "interact(plotBeta, alpha=widgets.FloatSlider(value=1, min=0, max=10),\\\n",
    "                   beta=widgets.FloatSlider(value=1, min=0, max=10),\\\n",
    "                   points=fixed(100))"
   ]
  },
  {
   "cell_type": "code",
   "execution_count": 31,
   "metadata": {},
   "outputs": [
    {
     "data": {
      "image/png": "[encoded data removed]",
      "text/plain": [
       "<Figure size 432x288 with 1 Axes>"
      ]
     },
     "metadata": {
      "needs_background": "light"
     },
     "output_type": "display_data"
    }
   ],
   "source": [
    "a, b = 0.700102, 1\n",
    "plotBeta(a,b)"
   ]
  },
  {
   "cell_type": "code",
   "execution_count": 13,
   "metadata": {},
   "outputs": [],
   "source": [
    "D_0 = 2474507\n",
    "D_6 = 1877963\n",
    "N_0 = 4997716\n",
    "N_6 = 4092373\n",
    "p_6 = .459\n",
    "p_0 = .495\n",
    "p_pool = (p_6*N_6 + p_0*N_0)/(N_6 + N_0)"
   ]
  },
  {
   "cell_type": "code",
   "execution_count": 16,
   "metadata": {},
   "outputs": [
    {
     "data": {
      "text/plain": [
       "396.33161841757175"
      ]
     },
     "execution_count": 16,
     "metadata": {},
     "output_type": "execute_result"
    }
   ],
   "source": [
    "Z_1 = (D_0 - D_6)/math.sqrt(N_6*p_6*(1-p_6)+N_0*p_0*(1-p_0))\n",
    "Z_1"
   ]
  },
  {
   "cell_type": "code",
   "execution_count": 17,
   "metadata": {},
   "outputs": [
    {
     "data": {
      "text/plain": [
       "396.0768029064531"
      ]
     },
     "execution_count": 17,
     "metadata": {},
     "output_type": "execute_result"
    }
   ],
   "source": [
    "Z_2 = (D_0 - D_6)/math.sqrt(N_6*p_pool*(1-p_pool)+N_0*p_pool*(1-p_pool))\n",
    "Z_2"
   ]
  },
  {
   "cell_type": "code",
   "execution_count": 6,
   "metadata": {},
   "outputs": [
    {
     "data": {
      "text/plain": [
       "True"
      ]
     },
     "execution_count": 6,
     "metadata": {},
     "output_type": "execute_result"
    }
   ],
   "source": [
    "x = np.array([0, -1, 1])\n",
    "any(x<0)"
   ]
  },
  {
   "cell_type": "code",
   "execution_count": 24,
   "metadata": {},
   "outputs": [],
   "source": [
    "from numpy.random import default_rng, binomial, exponential\n",
    "rng = default_rng(1502021) # set the seed for reproducibility\n",
    "n = 4\n",
    "p=0.3\n",
    "steps = 100\n"
   ]
  },
  {
   "cell_type": "code",
   "execution_count": 23,
   "metadata": {},
   "outputs": [
    {
     "data": {
      "text/plain": [
       "array([ 0.00000000e+00, -2.00000000e-01, -4.00000000e-01,  4.00000000e-01,\n",
       "        1.20000000e+00,  1.00000000e+00,  1.80000000e+00,  1.60000000e+00,\n",
       "        4.00000000e-01,  2.00000000e-01,  2.00000000e+00,  1.80000000e+00,\n",
       "        1.60000000e+00,  2.40000000e+00,  1.20000000e+00,  1.00000000e+00,\n",
       "        1.80000000e+00,  6.00000000e-01,  4.00000000e-01,  2.00000000e-01,\n",
       "       -1.00000000e+00, -2.00000000e-01,  6.00000000e-01,  4.00000000e-01,\n",
       "        2.00000000e-01,  1.00000000e+00,  8.00000000e-01,  6.00000000e-01,\n",
       "        1.40000000e+00,  2.20000000e+00,  1.00000000e+00,  8.00000000e-01,\n",
       "        6.00000000e-01, -6.00000000e-01, -8.00000000e-01, -1.00000000e+00,\n",
       "       -1.20000000e+00, -1.40000000e+00, -6.00000000e-01,  1.20000000e+00,\n",
       "        1.00000000e+00,  1.80000000e+00,  6.00000000e-01,  1.40000000e+00,\n",
       "        2.20000000e+00,  3.00000000e+00,  2.80000000e+00,  1.60000000e+00,\n",
       "        2.40000000e+00,  1.20000000e+00,  1.77635684e-15,  8.00000000e-01,\n",
       "       -4.00000000e-01, -6.00000000e-01, -8.00000000e-01, -2.00000000e+00,\n",
       "       -1.20000000e+00, -1.40000000e+00,  1.40000000e+00,  2.00000000e-01,\n",
       "        1.99840144e-15, -1.20000000e+00, -4.00000000e-01, -6.00000000e-01,\n",
       "        2.00000000e-01,  2.22044605e-15,  8.00000000e-01,  6.00000000e-01,\n",
       "        4.00000000e-01,  2.00000000e-01,  2.00000000e+00,  1.80000000e+00,\n",
       "        2.60000000e+00,  2.40000000e+00,  3.20000000e+00,  3.00000000e+00,\n",
       "        1.80000000e+00,  1.60000000e+00,  1.40000000e+00,  2.20000000e+00,\n",
       "        2.00000000e+00,  2.80000000e+00,  3.60000000e+00,  4.40000000e+00,\n",
       "        5.20000000e+00,  4.00000000e+00,  2.80000000e+00,  3.60000000e+00,\n",
       "        3.40000000e+00,  3.20000000e+00,  3.00000000e+00,  2.80000000e+00,\n",
       "        3.60000000e+00,  4.40000000e+00,  4.20000000e+00,  5.00000000e+00,\n",
       "        5.80000000e+00,  6.60000000e+00,  5.40000000e+00,  6.20000000e+00,\n",
       "        5.00000000e+00])"
      ]
     },
     "execution_count": 23,
     "metadata": {},
     "output_type": "execute_result"
    }
   ],
   "source": [
    "X = rng.binomial(n, p, size=steps)\n",
    "W = np.cumsum(X - n*p)\n",
    "np.insert(W, 0, 0)"
   ]
  },
  {
   "cell_type": "code",
   "execution_count": 19,
   "metadata": {},
   "outputs": [
    {
     "data": {
      "text/plain": [
       "array([ 0.0000e+00, -2.0000e-01,  3.8000e+00,  9.8000e+00,  1.6800e+01,\n",
       "        2.4800e+01,  3.4800e+01,  4.6800e+01,  5.9800e+01,  7.2800e+01,\n",
       "        8.6800e+01,  1.0180e+02,  1.1780e+02,  1.3580e+02,  1.5580e+02,\n",
       "        1.7680e+02,  1.9780e+02,  2.1880e+02,  2.3980e+02,  2.6080e+02,\n",
       "        2.8380e+02,  3.0780e+02,  3.3180e+02,  3.5680e+02,  3.8480e+02,\n",
       "        4.1380e+02,  4.4380e+02,  4.7580e+02,  5.0880e+02,  5.4280e+02,\n",
       "        5.7680e+02,  6.1180e+02,  6.4880e+02,  6.8780e+02,  7.2880e+02,\n",
       "        7.6980e+02,  8.1180e+02,  8.5480e+02,  8.9980e+02,  9.4480e+02,\n",
       "        9.9080e+02,  1.0388e+03,  1.0878e+03,  1.1388e+03,  1.1908e+03,\n",
       "        1.2458e+03,  1.3018e+03,  1.3588e+03,  1.4168e+03,  1.4758e+03,\n",
       "        1.5348e+03,  1.5948e+03,  1.6558e+03,  1.7168e+03,  1.7808e+03,\n",
       "        1.8448e+03,  1.9098e+03,  1.9768e+03,  2.0448e+03,  2.1128e+03,\n",
       "        2.1828e+03,  2.2538e+03,  2.3258e+03,  2.3988e+03,  2.4718e+03,\n",
       "        2.5448e+03,  2.6188e+03,  2.6928e+03,  2.7678e+03,  2.8448e+03,\n",
       "        2.9218e+03,  2.9998e+03,  3.0798e+03,  3.1608e+03,  3.2438e+03,\n",
       "        3.3278e+03,  3.4128e+03,  3.4998e+03,  3.5878e+03,  3.6758e+03,\n",
       "        3.7668e+03,  3.8588e+03,  3.9528e+03,  4.0478e+03,  4.1438e+03,\n",
       "        4.2418e+03,  4.3408e+03,  4.4408e+03,  4.5418e+03,  4.6428e+03,\n",
       "        4.7448e+03,  4.8468e+03,  4.9508e+03,  5.0558e+03,  5.1618e+03,\n",
       "        5.2688e+03,  5.3768e+03,  5.4848e+03,  5.5938e+03,  5.7028e+03,\n",
       "        5.8138e+03])"
      ]
     },
     "execution_count": 19,
     "metadata": {},
     "output_type": "execute_result"
    }
   ],
   "source": [
    "W"
   ]
  },
  {
   "cell_type": "code",
   "execution_count": 25,
   "metadata": {},
   "outputs": [
    {
     "data": {
      "text/plain": [
       "4.05148214114725"
      ]
     },
     "execution_count": 25,
     "metadata": {},
     "output_type": "execute_result"
    }
   ],
   "source": [
    "rng.exponential(5)"
   ]
  },
  {
   "cell_type": "markdown",
   "metadata": {},
   "source": [
    "## A permutation approach\n",
    "\n",
    "Shift model for effect; assume exchangeability under the null.\n",
    "\n",
    "How many 1s need to be added to the treatment group for the test not to reject?\n",
    "\n"
   ]
  },
  {
   "cell_type": "markdown",
   "metadata": {},
   "source": [
    "### Critiquing the permutation approach\n",
    "\n",
    "Assumes \"non-interference.\" Any given subject's response depends only on that subject's assignment, not on the assignment of any other subject.\n",
    "Might or might not be a good model, depending on how the subjects were recruited.\n",
    "\n",
    "Does not account for clustering of cases, contact among subjects, etc."
   ]
  },
  {
   "cell_type": "code",
   "execution_count": 28,
   "metadata": {},
   "outputs": [
    {
     "data": {
      "text/plain": [
       "0.31302316081931464"
      ]
     },
     "execution_count": 28,
     "metadata": {},
     "output_type": "execute_result"
    }
   ],
   "source": [
    "from math import factorial\n",
    "\n",
    "def prob(n):\n",
    "    f = lambda i: factorial(m)*factorial(n)/(factorial(i)*factorial(n-2*i)*factorial(m-n+i)*(2**i)*(m**n))\n",
    "    prob = 0\n",
    "    i = 0\n",
    "    while i < n/2:\n",
    "        prob += f(i)\n",
    "        i += 1\n",
    "    return prob\n",
    "    \n",
    "m = 1000\n",
    "\n",
    "prob(200)"
   ]
  },
  {
   "cell_type": "code",
   "execution_count": null,
   "metadata": {},
   "outputs": [],
   "source": []
  }
 ],
 "metadata": {
  "kernelspec": {
   "display_name": "Python 3",
   "language": "python",
   "name": "python3"
  },
  "language_info": {
   "codemirror_mode": {
    "name": "ipython",
    "version": 3
   },
   "file_extension": ".py",
   "mimetype": "text/x-python",
   "name": "python",
   "nbconvert_exporter": "python",
   "pygments_lexer": "ipython3",
   "version": "3.7.6"
  }
 },
 "nbformat": 4,
 "nbformat_minor": 4
}
