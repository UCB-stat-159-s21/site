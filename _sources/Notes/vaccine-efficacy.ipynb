{
 "cells": [
  {
   "cell_type": "markdown",
   "metadata": {},
   "source": [
    "# Estimating Vaccine Efficacy\n",
    "\n",
    "You have probably read things like \"the Moderna vaccine is 90% effective.\" What does that mean?\n",
    "How is effectiveness estimated? Can the uncertainty of the estimate be quantified meaningfully? How?\n",
    "\n",
    "Answering the question will involve many of the ideas and techniques we have seen, including inference in the presence of nuisance parameters."
   ]
  },
  {
   "cell_type": "markdown",
   "metadata": {},
   "source": [
    "Vaccine efficacy is defined as\n",
    "\\begin{equation*}\n",
    "\\mbox{VE} \\equiv 1 - \\frac{\\mbox{risk among unvaccinated} - \\mbox{risk among vaccinated}}{\\mbox{risk among unvaccinated}}.\n",
    "\\end{equation*}\n",
    "This is the naive estimate of the fraction of infections that vaccination prevents."
   ]
  },
  {
   "cell_type": "markdown",
   "metadata": {},
   "source": [
    "## Tests\n",
    "\n",
    "We now consider testing vaccine efficacy. We start with a cartoon version of the problem, as follows:\n",
    "\n",
    "We recruit $N$ subjects for the study. (They are not a random sample and thus\n",
    "cannot be assumed to be representative of any larger group.)\n",
    "\n",
    "None of the subjects has the disease when the trial starts. \n",
    "The vaccine is administered to $N_t$ of the subjects (the _treatment group_), selected at random; the remaining $N_c=N-N_t$ subjects (the _control group_) reveive a placebo.\n",
    "\n",
    "\n",
    "(Why is administering a placebo important?)\n",
    "\n",
    "All subjects are observed for the same period of time.\n",
    "(In a real trial, different subjects are observed for different periods of time: subjects recruited early in the trial are generally observed longer than those recruited later, and some subjects are lost to followup.)\n",
    "\n",
    "At the end of the observation period, $x_t$ of the vaccinated subjects and\n",
    "$x_c$ of the unvaccinated subjects have contracted the disease.\n",
    "\n",
    "The _incidence rate_ is $r_t := x_t/N_t$ among the vaccinated and $r_c := x_c/N_c$ among\n",
    "the unvaccinated.\n",
    "The _relative risk_ is $1-r_t/r_c$.\n",
    "We assume that $r_t < r_c$: there is _prima facie_ evidence that the vaccine works."
   ]
  },
  {
   "cell_type": "markdown",
   "metadata": {},
   "source": [
    "### Complications in practice\n",
    "\n",
    "In a real study, recruitment happens over a period of time, so not all subjects are \"on trial\" for the same amount of time. \n",
    "This is often addressed using methods from _survival analysis_.\n",
    "\n",
    "In a real study, the randomization is typically _stratified_ and at least partially _balanced_. \n",
    "The randomization is stratified because subjects are generally recruited at a number of centers and the randomization to treatment or control is conducted independently at different centers.\n",
    "The randomization might also be stratified by gender, age, or other covariates.\n",
    "It is generally _balanced_ to ensuring that subgroups are assigned in roughly equal numbers to treatment and control.\n",
    "\n",
    "Infections are observed only if they occur during the trial period, but not all infections during that period are necessarily observed.\n",
    "Vaccination may affect behavior."
   ]
  },
  {
   "cell_type": "markdown",
   "metadata": {},
   "source": [
    "### Binomial responses\n",
    "\n",
    "In one of the simplest stochastic response models, the probabiity that a given individual \n",
    "becomes infected is $p_c$ if the subject is not vaccinated and $p_t$ if the subject is vaccinated.\n",
    "Whether different subjects become infected are independent events.\n",
    "The assumption of independence would not be reasonable for a communicable disease if some subjects were in a position to infect each other, for instance, people who live or work or study together.\n",
    "Modeling responses as if all subjects have the same two values of $p$, $p_c$ and $p_t$, might be unreasonable, too: individual differences might matter.\n",
    "If this model holds, the number of vaccinated subjects who become infected has a Binomial distribution with parameters $n_t$ and $p_t$, and the number of unvaccinated subjects\n",
    "who become infected has a Binomial distribution with parameters $n_c$ and $p_c$.\n",
    "The \"true\" relative risk is $p_t/p_c$.\n",
    "The \"true\" treatment effect could be defined to be $p_c-p_t$ or $p_c/p_t$ or the\n",
    "\"true\" vaccine efficacy, $1-p_t/p_c$."
   ]
  },
  {
   "cell_type": "markdown",
   "metadata": {},
   "source": [
    "## Bayesian estimation of a binomial probability\n",
    "\n",
    "### The beta-binomial distribution\n",
    "\n",
    "The random variable $X$ has a beta-binomial distribution with parameters $n$, $\\alpha$, and $\\beta$ if $X \\sim \\mbox{Binom}(n, P)$ with $P \\sim \\mbox{Beta}(\\alpha, \\beta)$.\n",
    "\n",
    "That is, the probability density of $P$ is\n",
    "\\begin{equation*}\n",
    "f_P(p) = p^{\\alpha-1}(1-p){\\beta-1}/B(\\alpha, \\beta),\n",
    "\\end{equation*}\n",
    "where $B(\\cdot, \\cdot)$ is the Beta function.\n",
    "The probability mass function of $X$ is\n",
    "\\begin{equation*}\n",
    "p_X(k) = \\binom{n}{k} \\frac{B(k+\\alpha, n-k+\\beta)}{B(\\alpha, \\beta)}.\n",
    "\\end{equation*}\n",
    "\n",
    "The Beta distribution is _conjugate_ to the binomial."
   ]
  },
  {
   "cell_type": "markdown",
   "metadata": {},
   "source": [
    "### Connection to other distributions\n",
    "\n",
    "There is a population of $N$ objects of which $G$ are labeled \"1\" and the rest are labeled \"0.\"\n",
    "\n",
    "If we sample with replacement $n$ times from this population, the distribution of the sample sum is binomial with parameters $n$ and $p=G/N$.\n",
    "If we sample without replacement $n\\le N$ times from this population, the distribution of the sample sum is hypergeometric with parameters $N$, $G$, and $n$.\n",
    "If we sample from this population and each time we draw, we not only replace the item drawn but also put another item with the same value into the population, the sample sum is beta-binomial with parameters $n$, $\\alpha = G$, and $\\beta = N-G$."
   ]
  },
  {
   "cell_type": "code",
   "execution_count": 2,
   "metadata": {},
   "outputs": [],
   "source": [
    "import scipy as sp\n",
    "import scipy.stats as stats\n",
    "import numpy as np\n",
    "import matplotlib.pyplot as plt\n",
    "import math\n",
    "\n",
    "from ipywidgets import interact, interactive, fixed, interact_manual\n",
    "import ipywidgets as widgets\n",
    "from IPython.display import clear_output, display, HTML"
   ]
  },
  {
   "cell_type": "code",
   "execution_count": 29,
   "metadata": {},
   "outputs": [],
   "source": [
    "def plotBeta(alpha, beta, points=100):\n",
    "    '''\n",
    "    Plot the beta density function\n",
    "    \n",
    "    Parameters\n",
    "    ----------\n",
    "    alpha : float\n",
    "        the alpha parameter of the beta distribution\n",
    "    beta : float\n",
    "        the alpha parameter of the beta distribution\n",
    "        \n",
    "    Returns\n",
    "    -------\n",
    "    no return value\n",
    "    '''\n",
    "    fig, ax = plt.subplots(1, 1)\n",
    "    x = np.linspace(stats.beta.ppf(0.01, alpha, beta),\n",
    "                stats.beta.ppf(0.99, alpha, beta), points)\n",
    "    lbl = 'beta pdf with parameters \\alpha={} and \\beta={}'.format(alpha,beta)\n",
    "    ax.plot(x, stats.beta.pdf(x, alpha, beta), 'r-', lw=5, label=lbl)"
   ]
  },
  {
   "cell_type": "code",
   "execution_count": 35,
   "metadata": {},
   "outputs": [
    {
     "data": {
      "application/vnd.jupyter.widget-view+json": {
       "model_id": "d21f0d2556eb4dada1099887f43842a2",
       "version_major": 2,
       "version_minor": 0
      },
      "text/plain": [
       "interactive(children=(FloatSlider(value=1.0, description='alpha', max=10.0), FloatSlider(value=1.0, descriptio…"
      ]
     },
     "metadata": {},
     "output_type": "display_data"
    },
    {
     "data": {
      "text/plain": [
       "<function __main__.plotBeta(alpha, beta, points=100)>"
      ]
     },
     "execution_count": 35,
     "metadata": {},
     "output_type": "execute_result"
    }
   ],
   "source": [
    "interact(plotBeta, alpha=widgets.FloatSlider(value=1, min=0, max=10),\\\n",
    "                   beta=widgets.FloatSlider(value=1, min=0, max=10),\\\n",
    "                   points=fixed(100))"
   ]
  },
  {
   "cell_type": "code",
   "execution_count": 31,
   "metadata": {},
   "outputs": [
    {
     "data": {
      "image/png": "[encoded data removed]",
      "text/plain": [
       "<Figure size 432x288 with 1 Axes>"
      ]
     },
     "metadata": {
      "needs_background": "light"
     },
     "output_type": "display_data"
    }
   ],
   "source": [
    "a, b = 0.700102, 1\n",
    "plotBeta(a,b)"
   ]
  },
  {
   "cell_type": "markdown",
   "metadata": {},
   "source": [
    "## A permutation approach\n",
    "\n",
    "See [nuisance parameters](./nuisance.ipynb). [MORE TO COME]\n",
    "\n"
   ]
  },
  {
   "cell_type": "markdown",
   "metadata": {},
   "source": [
    "### Critiquing the permutation approach\n",
    "\n",
    "Assumes \"non-interference.\" Any given subject's response depends only on that subject's assignment, not on the assignment of any other subject.\n",
    "Might or might not be a good model, depending on how the subjects were recruited.\n",
    "\n",
    "Does not account for clustering of cases, contact among subjects, etc."
   ]
  }
 ],
 "metadata": {
  "kernelspec": {
   "display_name": "Python 3 (ipykernel)",
   "language": "python",
   "name": "python3"
  },
  "language_info": {
   "codemirror_mode": {
    "name": "ipython",
    "version": 3
   },
   "file_extension": ".py",
   "mimetype": "text/x-python",
   "name": "python",
   "nbconvert_exporter": "python",
   "pygments_lexer": "ipython3",
   "version": "3.8.12"
  }
 },
 "nbformat": 4,
 "nbformat_minor": 4
}
