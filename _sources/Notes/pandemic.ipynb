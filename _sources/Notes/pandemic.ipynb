{
 "cells": [
  {
   "cell_type": "markdown",
   "metadata": {},
   "source": [
    "# Modeling the COVID-19 Pandemic"
   ]
  },
  {
   "cell_type": "markdown",
   "metadata": {},
   "source": [
    "## Reading\n",
    "\n",
    "1. Murray, C.J.L., and IHME COVID-19 health service utilization forecasting team, 2020. Forecasting COVID-19 impact on hospital bed-days, ICU-days, ventilator-days and deaths by US state in the next 4 months,\n",
    "https://www.medrxiv.org/content/10.1101/2020.03.27.20043752v1.full-text\n",
    "\n",
    "1. Jewell, N.P.,  J.A. Lewnard,  and B.L. Jewell, 2020.\n",
    "Predictive Mathematical Models of the COVID-19 Pandemic: Underlying Principles and Value of Projections,\n",
    "_JAMA_, 323(19):1893-1894. doi:10.1001/jama.2020.6585\n",
    "\n",
    "1. Froese, H., 2020. Infectious Disease Modelling: Fit Your Model to Coronavirus Data, Towards Data Science, https://towardsdatascience.com/infectious-disease-modelling-fit-your-model-to-coronavirus-data-2568e672dbc7; https://github.com/henrifroese/infectious_disease_modelling \n",
    "\n",
    "\n"
   ]
  },
  {
   "cell_type": "markdown",
   "metadata": {},
   "source": [
    "# SIR models\n",
    "\n",
    "Simplest model of contagion and recovery. \n",
    "It ignores births, immigration, emigration, deaths from other causes, carriers, population heterogeneity, geography,\n",
    "population mixing, etc.\n",
    "\n",
    "Here are the state variables:\n",
    "\n",
    "+ $N$: initial population size\n",
    "+ $S(t)$: number of susceptible individuals in the population at time $t$\n",
    "+ $I(t)$: number of infected individuals in the population at time $t$\n",
    "+ $R(t)$: number dead or recovered in the population at time $t$\n",
    "\n",
    "Assumptions:\n",
    "\n",
    "+ Everyone is either susceptible, infected, recovered, or dead. (There are more complex models with more \"compartments.\")\n",
    "+ There are no births, no immigration, no emigration, and no deaths from other causes.\n",
    "+ If a susceptible person is infected, that person eventually dies or recovers. \n",
    "+ While a person is infected, the person is infectious.\n",
    "+ If a susceptible person recovers, that person becomes immune (not susceptible) and is no longer infectious.\n",
    "+ If an infected person gets \"close enough\" to a susceptible person, the susceptible person becomes infected.\n",
    "+ Every unit of time, _every_ infected person gets close enough to $\\beta$ people to infect them if they are susceptible. Ignore the possibility that two or more infected people get close to the same susceptible person.\n",
    "+ Every unit of time, a fraction $\\gamma$ of infected people recover or die.\n",
    "\n",
    "Then $S + I + R = N$ is constant, the initial population size.\n",
    "\n",
    "The basic reproductive number $R_0 = \\beta/\\gamma$ is the number of people each infected person infects before recovering or dying. Note that this interpretation depends on the assumption that, initially, essentially the entire population is susceptible (the proportion who are infected or recovered is small compared to $N$).\n",
    "\n",
    "Define $s(t) \\equiv S(t)/N$, $i(t) \\equiv I(t)/N$, and $r(t) \\equiv R(t)/N$.\n",
    "\n",
    "The parameters of the model has several parameters are $N$, $b$, and $f$.\n",
    "\n",
    "The state of the population is described by three differential equations:\n",
    "\n",
    "+ $dS/dt = -b I S/N$\n",
    "+ $dI/dt = b I S/N - fI$ (equivalently, $di/dt = bis - fi$)\n",
    "+ $dR/dt = fI$\n",
    "\n"
   ]
  },
  {
   "cell_type": "markdown",
   "metadata": {},
   "source": [
    "https://towardsdatascience.com/infectious-disease-modelling-fit-your-model-to-coronavirus-data-2568e672dbc7"
   ]
  }
 ],
 "metadata": {
  "kernelspec": {
   "display_name": "Python 3",
   "language": "python",
   "name": "python3"
  },
  "language_info": {
   "codemirror_mode": {
    "name": "ipython",
    "version": 3
   },
   "file_extension": ".py",
   "mimetype": "text/x-python",
   "name": "python",
   "nbconvert_exporter": "python",
   "pygments_lexer": "ipython3",
   "version": "3.7.6"
  }
 },
 "nbformat": 4,
 "nbformat_minor": 2
}
