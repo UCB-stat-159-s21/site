{
 "cells": [
  {
   "cell_type": "markdown",
   "metadata": {},
   "source": [
    "# Modeling the COVID-19 Pandemic"
   ]
  },
  {
   "cell_type": "markdown",
   "metadata": {},
   "source": [
    "## Reading\n",
    "\n",
    "1. Bregman D.J., A.D. Langmuir, 1990. Farr's law applied to AIDS projections. _JAMA_, 263:1522–1525. doi: 10.1001/jama.263.11.1522. \n",
    "\n",
    "1. King, A.A.,  M.D. de Cellès, F.M.G. Magpantay, and P. Rohani, 2015. Avoidable errors in the modelling of outbreaks of emerging pathogens, with special reference to Ebola, _Proc. R. Soc. B._ 28220150347 http://doi.org/10.1098/rspb.2015.0347.\n",
    "\n",
    "1. Murray, C.J.L., and IHME COVID-19 health service utilization forecasting team, 2020. Forecasting COVID-19 impact on hospital bed-days, ICU-days, ventilator-days and deaths by US state in the next 4 months,\n",
    "https://www.medrxiv.org/content/10.1101/2020.03.27.20043752v1.full-text\n",
    "\n",
    "1. Jewell, N.P.,  J.A. Lewnard,  and B.L. Jewell, 2020.\n",
    "Predictive Mathematical Models of the COVID-19 Pandemic: Underlying Principles and Value of Projections,\n",
    "_JAMA_, 323(19):1893-1894. doi:10.1001/jama.2020.6585\n",
    "\n",
    "1. Froese, H., 2020. Infectious Disease Modelling: Fit Your Model to Coronavirus Data, Towards Data Science, https://towardsdatascience.com/infectious-disease-modelling-fit-your-model-to-coronavirus-data-2568e672dbc7; https://github.com/henrifroese/infectious_disease_modelling \n",
    "\n",
    "1. Smith, D., and L. Moore, 2004. The SIR model for spread of disease, _Convergence_, https://www.maa.org/press/periodicals/loci/joma/the-sir-model-for-spread-of-disease-introduction\n",
    "\n"
   ]
  },
  {
   "cell_type": "markdown",
   "metadata": {},
   "source": [
    "## Models of epidemics\n",
    "\n",
    "This notebook explores two basic approaches to modeling the spread of a communicable disease through a population. There are more complicated approaches than are considered here, but these are common, and the predictions of COVID-19 infections and ICU beds are often based on variations of these models."
   ]
  },
  {
   "cell_type": "markdown",
   "metadata": {},
   "source": [
    "# SIR models\n",
    "\n",
    "Mathematical models of epidemics date back to the early 1900s.\n",
    "\n",
    "One of the simplest models of epidemics is the SIR model, which partitions the population into three disjoint groups: Susceptible, Infected, and Recovered (or Removed).\n",
    "\n",
    "The SIR model treats the population as fixed: no births, immigration, emigration, or deaths from other causes.\n",
    "It ignores the possibility of carriers, population heterogeneity, or geographic heterogeneity.\n",
    "It treats everyone as equivalent and assumes the population \"mixes\" perfectly.\n",
    "\n",
    "Here are the state variables of the SIR model:\n",
    "\n",
    "+ $N$: initial population size\n",
    "+ $S(t)$: number of susceptible individuals in the population at time $t$\n",
    "+ $I(t)$: number of infected individuals in the population at time $t$\n",
    "+ $R(t)$: number \"removed\" from risk (dead or recovered) in the population at time $t$\n",
    "\n",
    "Assumptions:\n",
    "\n",
    "+ Everyone is either susceptible, infected, or removed (recovered or dead). (There are more complex models with more \"compartments.\")\n",
    "+ There are no births, immigration, emigration, or deaths from other causes.\n",
    "+ If a susceptible person is infected, that person eventually dies or recovers. \n",
    "+ While a person is infected, the person is infectious.\n",
    "+ There is no incubation period between being infected and being infectious.\n",
    "+ If an infected person gets \"close enough\" to a susceptible person, the susceptible person becomes infected.\n",
    "+ Every unit of time, every infected person exposes $\\beta$ people.\n",
    "+ Every susceptible person exposed to an infected person becomes infected.\n",
    "+ Every infected person exposes a disjoint group of people.\n",
    "+ Every unit of time, a fraction $\\gamma$ of infected people recover or die.\n",
    "+ People who recover or die are not infectious.\n",
    "+ People who recover or die never become susceptible again.\n",
    "\n",
    "Then $S + I + R = N$ is constant, the initial population size.\n",
    "\n",
    "The basic reproductive number is $R_0 = \\beta/\\gamma$.\n",
    "Initially, when essentially the entire population is susceptible (the proportion who are infected or recovered is small compared to $N$), this is the number of people each infected person infects before recovering or dying. \n",
    "(Note that $R_0$ has no connection to $R$: the notation is unfortunate.)\n",
    "\n",
    "Define $s(t) \\equiv S(t)/N$, $i(t) \\equiv I(t)/N$, and $r(t) \\equiv R(t)/N$.\n",
    "Then $s+i+r = 1$ for all $t$.\n",
    "There is an epidemic if $s(0)\\beta/\\gamma > 1$: the rate at which susceptible people are\n",
    "getting infected is greater than the rate at which infected people are recoving. \n",
    "\n",
    "The parameters of the model are:\n",
    "\n",
    "+ $\\beta$, the number of exposed people per unit of time per infected persion\n",
    "+ $\\gamma$, the fraction of infected people who are removed (recover or die) per unit time\n",
    "\n",
    "The state of the population evolves according to three coupled differential equations:\n",
    "\n",
    "+ $dS/dt = -\\beta I S/N$\n",
    "+ $dI/dt = \\beta I S/N - \\gamma I$ (equivalently, $di/dt = \\beta is - \\gamma i$)\n",
    "+ $dR/dt = \\gamma I$\n",
    "\n",
    "Another interesting variable is the cumulative number of infections, $C$.\n",
    "\n",
    "+ $dC/dt = \\beta I S/N$; $C(0) = I(0)$.\n",
    "\n",
    "The SIR model has some built-in features that might not match reality.\n",
    "First, note that the derivative of $R$ is always non-negative and proportional to $I$.\n",
    "Since $R \\le N$ and $N$ is finite, $I$ must eventually be zero; that is, the SIR implies that eventually\n",
    "the entire population will be disease-free. \n",
    "Once $I=0$, it can never grow again, since the derivative of $I$ is proportional to $I$.\n",
    "(If nobody is infected, nobody can infect anyone.)\n",
    "Epidemics that follow the SIR model are necessarily self-limiting.\n",
    "\n",
    "That isn't the case if immunity wears off over time (or if the population is not isolated).\n",
    "In that case, we might we parametrize the transition from recovered to susceptible by \n",
    "assuming that a fraction $\\delta$ of $R$ return to $S$ in each time period. \n",
    "(There are other ways we could do this, for instance, having a variable \"lag\" between recovery and becoming susceptible again.)\n",
    "That yields:\n",
    "\n",
    "+ $dS/dt = -\\beta I S/N + \\delta R$\n",
    "+ $dI/dt = \\beta I S/N - \\gamma I$ (equivalently, $di/dt = \\beta is - \\gamma i$)\n",
    "+ $dR/dt = \\gamma I - \\delta R$\n",
    "\n",
    "In this model, $I$ does not necessarily go to zero eventually.\n",
    "\n",
    "Other generalizations include separate \"compartments\" for dead versus recovered), needing an ICU bed, etc., as well as time-varying values of $\\beta$ to account for lockdowns or other policy interventions, heterogeneity in the population, and more."
   ]
  },
  {
   "cell_type": "markdown",
   "metadata": {},
   "source": [
    "Let's run this model (in discrete time) for a population of $N=1,000,000$ people of whom 0.05% are initially infected.\n",
    "We will take the time interval to be 1 day, the period of infectiousness to be $1/\\gamma = 14$ days,\n",
    "and $R_0 = 2 = \\beta/\\gamma$, so $\\beta = 2 \\gamma = 1/7$. We will start with $\\delta=0$ (no re-infections)."
   ]
  },
  {
   "cell_type": "code",
   "execution_count": 1,
   "metadata": {},
   "outputs": [],
   "source": [
    "# boilerplate\n",
    "import numpy as np\n",
    "import scipy as sp\n",
    "from scipy.integrate import odeint\n",
    "import matplotlib.pyplot as plt\n",
    "import matplotlib.dates as mdates\n",
    "\n",
    "from ipywidgets import interact, interactive, fixed, interact_manual\n",
    "import ipywidgets as widgets\n",
    "from IPython.display import clear_output, display, HTML"
   ]
  },
  {
   "cell_type": "code",
   "execution_count": 2,
   "metadata": {},
   "outputs": [],
   "source": [
    "def sir_model(N, i_0, beta=1, gamma=1, delta=0, steps=365):\n",
    "    '''\n",
    "    Run SIR model as coupled finite-difference equations.\n",
    "    \n",
    "    Assumes that initially a fraction i_0 of the population of N people is infected and \n",
    "    everyone else is susceptible (none has died or recovered).\n",
    "    \n",
    "    Parameters\n",
    "    -----------\n",
    "    N   :   int\n",
    "        population size\n",
    "    i_0 :   double in (0, 1)\n",
    "        initial fraction of population infected\n",
    "    beta :  double in [0, infty)\n",
    "        number of encounters each infected person has per time step\n",
    "    gamma : double in (0, 1)\n",
    "        fraction of infecteds who recover or die per time step\n",
    "    delta : double in (0, 1)\n",
    "        fraction of recovereds who become susceptible per time step\n",
    "    steps : int\n",
    "        number of steps in time to run the model\n",
    "    \n",
    "    Returns\n",
    "    --------\n",
    "    S, I, R, C \n",
    "    S     : list\n",
    "        time history of susceptibles\n",
    "    I     : list\n",
    "        time history of infecteds\n",
    "    R     : list\n",
    "        time history of recovered/dead    \n",
    "    C.    : list\n",
    "        cumulative number of infections over time\n",
    "    '''\n",
    "    assert i_0 > 0, 'initial rate of infection is zero'\n",
    "    assert i_0 <= 1, 'infection rate greater than 1'\n",
    "    assert beta >= 0, 'beta must be nonnegative'\n",
    "    assert gamma > 0, 'gamma must be positive'\n",
    "    assert gamma < 1, 'gamma must be less than 1'\n",
    "    assert delta >= 0, 'delta must be nonnegative'\n",
    "    assert delta < 1, 'delta must be less than 1'\n",
    "    S = np.zeros(steps)\n",
    "    I = np.zeros(steps)\n",
    "    R = np.zeros(steps)\n",
    "    C = np.zeros(steps)\n",
    "    I[0] = int(N*i_0)\n",
    "    C[0] = I[0]\n",
    "    S[0] = N-I[0]\n",
    "    for i in range(steps-1):\n",
    "        new_i = beta*I[i]*S[i]/N\n",
    "        S[i+1] = max(0, S[i] - new_i + delta*R[i])\n",
    "        I[i+1] = max(0, I[i] + new_i - gamma*I[i])\n",
    "        R[i+1] = max(0, R[i] + gamma*I[i] - delta*R[i])\n",
    "        C[i+1] = C[i] + new_i\n",
    "    return S, I, R, C"
   ]
  },
  {
   "cell_type": "code",
   "execution_count": 3,
   "metadata": {},
   "outputs": [],
   "source": [
    "def plot_sir(N, i_0, beta=2/14, gamma=1/14, delta=0, steps=365, verbose=False):\n",
    "    '''\n",
    "    Plot the time history of an SIR model.\n",
    "    \n",
    "    Parameters\n",
    "    -----------\n",
    "    N     : int\n",
    "        population size\n",
    "    i_0   : double in (0, 1)\n",
    "        infection rate at time 0\n",
    "    beta  :  double in [0, infty)\n",
    "        number of encounters each infected person has per time step\n",
    "    gamma : double in (0, 1)\n",
    "        fraction of infecteds who recover or die per time step\n",
    "    delta : double in (0, 1)\n",
    "        fraction of recovereds who become susceptible per time step\n",
    "    steps : int\n",
    "        number of time steps to run the model\n",
    "    verbose : Boolean\n",
    "        if True, return the model predictions\n",
    "    \n",
    "    Returns (if verbose == True)\n",
    "    --------\n",
    "    S : list\n",
    "        susceptibles as a function of time\n",
    "    I : list\n",
    "        infecteds as a function of time\n",
    "    R : list\n",
    "        recovereds as a function of time\n",
    "    C : list\n",
    "        cumulative incidence as a function of time\n",
    "    '''\n",
    "    S, I, R, C = sir_model(N, i_0, beta=beta, gamma=gamma, delta=delta, steps=steps)\n",
    "    times = list(range(steps))\n",
    "    fig, ax = plt.subplots(nrows=1, ncols=1)\n",
    "    ax.plot(times, I, linestyle='--', color='r', label='Infected')\n",
    "    ax.plot(times, S, linestyle='-', color='b', label='Susceptible')\n",
    "    ax.plot(times, R, linestyle=':', color='g', label='Recovered')\n",
    "    ax.plot(times, C, linestyle='-.', color='k', label='Tot infect.')\n",
    "    ax.legend(loc='best')\n",
    "    plt.show()\n",
    "    if verbose:\n",
    "        return S, I, R, C"
   ]
  },
  {
   "cell_type": "code",
   "execution_count": 4,
   "metadata": {},
   "outputs": [
    {
     "data": {
      "image/png": "[encoded data removed]",
      "text/plain": [
       "<Figure size 432x288 with 1 Axes>"
      ]
     },
     "metadata": {
      "needs_background": "light"
     },
     "output_type": "display_data"
    }
   ],
   "source": [
    "i_0 = 0.0005\n",
    "N = int(10**6)\n",
    "steps = 365\n",
    "\n",
    "plot_sir(N, i_0)"
   ]
  },
  {
   "cell_type": "markdown",
   "metadata": {},
   "source": [
    "For these parameters, the number of infections is shaped like a bell curve and the cumulative number of infections is shaped like a CDF: it is \"sigmoidal\" (vaguely \"S\"-shaped). You might imagine fitting a scaled CDF to the curve. Essentially, the IHME model fits a scaled Gaussian CDF to the total number of infections.\n",
    "(More on this below.)"
   ]
  },
  {
   "cell_type": "markdown",
   "metadata": {},
   "source": [
    "What if immunity wears off over time? Let's try a positive value of $\\delta$:"
   ]
  },
  {
   "cell_type": "code",
   "execution_count": 5,
   "metadata": {},
   "outputs": [
    {
     "data": {
      "image/png": "[encoded data removed]",
      "text/plain": [
       "<Figure size 432x288 with 1 Axes>"
      ]
     },
     "metadata": {
      "needs_background": "light"
     },
     "output_type": "display_data"
    }
   ],
   "source": [
    "plot_sir(N, i_0, delta=0.01)"
   ]
  },
  {
   "cell_type": "code",
   "execution_count": 6,
   "metadata": {},
   "outputs": [
    {
     "data": {
      "application/vnd.jupyter.widget-view+json": {
       "model_id": "059572f11601419ab12957d10f4a6f9b",
       "version_major": 2,
       "version_minor": 0
      },
      "text/plain": [
       "interactive(children=(FloatSlider(value=0.0005, description='i_0', max=1.0), FloatSlider(value=0.1428571428571…"
      ]
     },
     "metadata": {},
     "output_type": "display_data"
    },
    {
     "data": {
      "text/plain": [
       "<function __main__.plot_sir(N, i_0, beta=0.14285714285714285, gamma=0.07142857142857142, delta=0, steps=365, verbose=False)>"
      ]
     },
     "execution_count": 6,
     "metadata": {},
     "output_type": "execute_result"
    }
   ],
   "source": [
    "interact(plot_sir, N=fixed(N),\n",
    "                   i_0 = widgets.FloatSlider(min=0, max=1, value=i_0),\n",
    "                   beta=widgets.FloatSlider(value=2/14, min=0.01, max=100),\n",
    "                   gamma=widgets.FloatSlider(value=1/14, min=0, max=1, step=0.01),\n",
    "                   delta=widgets.FloatSlider(value=0, min=0, max=1, step=0.01),\n",
    "                   steps=fixed(steps),\n",
    "                   verbose=fixed(False))"
   ]
  },
  {
   "cell_type": "markdown",
   "metadata": {},
   "source": [
    "## Fitting the SIR model to data\n",
    "\n",
    "Now we will use least squares to fit the SIR model to a time history of infection data collected by researchers at Johns Hopkins University.See https://github.com/CSSEGISandData\n",
    "\n",
    "\n",
    "This exercise is for illustration. There are many reasons to be wary of this modeling:\n",
    "\n",
    "+ There are serious issues with the data quality: these are cases that were _reported_ according to the rules and circumstances of where they were detected. For mortality (rather than incidence), excess mortality might give a more accurate measure.\n",
    "+ The model is a cartoon, not \"physics\" of epidemics, and it omits many factors that plausibly matter. It is not clear what estimates of the parameters mean when the model is wrong.\n",
    "+ Absent a trustworthy generative model for the data, it is not clear how to assess or interpret the uncertainty of the estimates.\n",
    "+ If the estimated model is to be used for prediction, there is no obvious way to assign meaningful uncertainties to the predictions.\n",
    "+ The optimization problem to fit the parameters has no statistical content or motivation. It is not clear that it yields an estimate that is \"good\" in a useful sense. \n",
    "+ The objective function is not convex in the model parameters, and the optimization algorithm is not guaranteed to solve the optimization problem.\n",
    "\n",
    "The data record total \"confirmed\" cases as a function of time, deaths, and recoveries: $C(t)$"
   ]
  },
  {
   "cell_type": "code",
   "execution_count": 7,
   "metadata": {},
   "outputs": [],
   "source": [
    "from scipy.optimize import curve_fit  # nonlinear least squares\n",
    "\n",
    "def f(x, beta, gamma):\n",
    "    '''\n",
    "    Model cumulative infections\n",
    "    \n",
    "    This is just a wrapper for a call to sir_model, to generate a set of\n",
    "    predictions of the cumulative incidence for curve fitting\n",
    "    '''    \n",
    "    return sir_model(N, i_0, beta, gamma, delta=0, steps=len(x))[3]  # C"
   ]
  },
  {
   "cell_type": "code",
   "execution_count": 8,
   "metadata": {},
   "outputs": [
    {
     "data": {
      "text/plain": [
       "array([ 500.        ,  571.39285714,  647.87464122,  729.80689646,\n",
       "        817.5766761 ,  911.59831599, 1012.31532767, 1120.20241833,\n",
       "       1235.76764552, 1359.55471484, 1492.14542917, 1634.1622985 ,\n",
       "       1786.27131969, 1949.18493587, 2123.66518564, 2310.5270524 ,\n",
       "       2510.64202461, 2724.94187786, 2954.42268994, 3200.14910031,\n",
       "       3463.25882519, 3744.96743963, 4046.57343789, 4369.46358264,\n",
       "       4715.11855381])"
      ]
     },
     "execution_count": 8,
     "metadata": {},
     "output_type": "execute_result"
    }
   ],
   "source": [
    "# test f\n",
    "N = int(10**6)\n",
    "i_0 = 0.0005\n",
    "x = range(25)\n",
    "y = f(x, 1/7, 1/14 )\n",
    "y"
   ]
  },
  {
   "cell_type": "code",
   "execution_count": 9,
   "metadata": {},
   "outputs": [
    {
     "data": {
      "text/plain": [
       "array([0.14285714, 0.07142857])"
      ]
     },
     "execution_count": 9,
     "metadata": {},
     "output_type": "execute_result"
    }
   ],
   "source": [
    "# test curve_fit\n",
    "popt, pvoc = curve_fit(f, x, y, p0=[1, 0.5], bounds = (0, [np.inf, 1]))\n",
    "popt"
   ]
  },
  {
   "cell_type": "code",
   "execution_count": 10,
   "metadata": {},
   "outputs": [],
   "source": [
    "# try some real data from the JHU site\n",
    "import pandas as pd\n",
    "# data for countries. THIS IS A \"LIVE\" DATASET THAT IS UPDATED FREQUENTLY\n",
    "url = \"https://raw.githubusercontent.com/CSSEGISandData/COVID-19/master/csse_covid_19_data/csse_covid_19_time_series/time_series_covid19_confirmed_global.csv\"\n",
    "df = pd.read_csv(url, sep=\",\")"
   ]
  },
  {
   "cell_type": "code",
   "execution_count": 11,
   "metadata": {},
   "outputs": [
    {
     "data": {
      "text/html": [
       "<div>\n",
       "<style scoped>\n",
       "    .dataframe tbody tr th:only-of-type {\n",
       "        vertical-align: middle;\n",
       "    }\n",
       "\n",
       "    .dataframe tbody tr th {\n",
       "        vertical-align: top;\n",
       "    }\n",
       "\n",
       "    .dataframe thead th {\n",
       "        text-align: right;\n",
       "    }\n",
       "</style>\n",
       "<table border=\"1\" class=\"dataframe\">\n",
       "  <thead>\n",
       "    <tr style=\"text-align: right;\">\n",
       "      <th></th>\n",
       "      <th>Province/State</th>\n",
       "      <th>Country/Region</th>\n",
       "      <th>Lat</th>\n",
       "      <th>Long</th>\n",
       "      <th>1/22/20</th>\n",
       "      <th>1/23/20</th>\n",
       "      <th>1/24/20</th>\n",
       "      <th>1/25/20</th>\n",
       "      <th>1/26/20</th>\n",
       "      <th>1/27/20</th>\n",
       "      <th>...</th>\n",
       "      <th>1/30/21</th>\n",
       "      <th>1/31/21</th>\n",
       "      <th>2/1/21</th>\n",
       "      <th>2/2/21</th>\n",
       "      <th>2/3/21</th>\n",
       "      <th>2/4/21</th>\n",
       "      <th>2/5/21</th>\n",
       "      <th>2/6/21</th>\n",
       "      <th>2/7/21</th>\n",
       "      <th>2/8/21</th>\n",
       "    </tr>\n",
       "  </thead>\n",
       "  <tbody>\n",
       "    <tr>\n",
       "      <th>0</th>\n",
       "      <td>NaN</td>\n",
       "      <td>Afghanistan</td>\n",
       "      <td>33.93911</td>\n",
       "      <td>67.709953</td>\n",
       "      <td>0</td>\n",
       "      <td>0</td>\n",
       "      <td>0</td>\n",
       "      <td>0</td>\n",
       "      <td>0</td>\n",
       "      <td>0</td>\n",
       "      <td>...</td>\n",
       "      <td>55008</td>\n",
       "      <td>55023</td>\n",
       "      <td>55059</td>\n",
       "      <td>55121</td>\n",
       "      <td>55174</td>\n",
       "      <td>55231</td>\n",
       "      <td>55265</td>\n",
       "      <td>55330</td>\n",
       "      <td>55335</td>\n",
       "      <td>55359</td>\n",
       "    </tr>\n",
       "    <tr>\n",
       "      <th>1</th>\n",
       "      <td>NaN</td>\n",
       "      <td>Albania</td>\n",
       "      <td>41.15330</td>\n",
       "      <td>20.168300</td>\n",
       "      <td>0</td>\n",
       "      <td>0</td>\n",
       "      <td>0</td>\n",
       "      <td>0</td>\n",
       "      <td>0</td>\n",
       "      <td>0</td>\n",
       "      <td>...</td>\n",
       "      <td>77251</td>\n",
       "      <td>78127</td>\n",
       "      <td>78992</td>\n",
       "      <td>79934</td>\n",
       "      <td>80941</td>\n",
       "      <td>81993</td>\n",
       "      <td>83082</td>\n",
       "      <td>84212</td>\n",
       "      <td>85336</td>\n",
       "      <td>86289</td>\n",
       "    </tr>\n",
       "    <tr>\n",
       "      <th>2</th>\n",
       "      <td>NaN</td>\n",
       "      <td>Algeria</td>\n",
       "      <td>28.03390</td>\n",
       "      <td>1.659600</td>\n",
       "      <td>0</td>\n",
       "      <td>0</td>\n",
       "      <td>0</td>\n",
       "      <td>0</td>\n",
       "      <td>0</td>\n",
       "      <td>0</td>\n",
       "      <td>...</td>\n",
       "      <td>107122</td>\n",
       "      <td>107339</td>\n",
       "      <td>107578</td>\n",
       "      <td>107841</td>\n",
       "      <td>108116</td>\n",
       "      <td>108381</td>\n",
       "      <td>108629</td>\n",
       "      <td>108629</td>\n",
       "      <td>109088</td>\n",
       "      <td>109313</td>\n",
       "    </tr>\n",
       "    <tr>\n",
       "      <th>3</th>\n",
       "      <td>NaN</td>\n",
       "      <td>Andorra</td>\n",
       "      <td>42.50630</td>\n",
       "      <td>1.521800</td>\n",
       "      <td>0</td>\n",
       "      <td>0</td>\n",
       "      <td>0</td>\n",
       "      <td>0</td>\n",
       "      <td>0</td>\n",
       "      <td>0</td>\n",
       "      <td>...</td>\n",
       "      <td>9885</td>\n",
       "      <td>9937</td>\n",
       "      <td>9972</td>\n",
       "      <td>10017</td>\n",
       "      <td>10070</td>\n",
       "      <td>10137</td>\n",
       "      <td>10172</td>\n",
       "      <td>10206</td>\n",
       "      <td>10251</td>\n",
       "      <td>10275</td>\n",
       "    </tr>\n",
       "    <tr>\n",
       "      <th>4</th>\n",
       "      <td>NaN</td>\n",
       "      <td>Angola</td>\n",
       "      <td>-11.20270</td>\n",
       "      <td>17.873900</td>\n",
       "      <td>0</td>\n",
       "      <td>0</td>\n",
       "      <td>0</td>\n",
       "      <td>0</td>\n",
       "      <td>0</td>\n",
       "      <td>0</td>\n",
       "      <td>...</td>\n",
       "      <td>19782</td>\n",
       "      <td>19796</td>\n",
       "      <td>19829</td>\n",
       "      <td>19900</td>\n",
       "      <td>19937</td>\n",
       "      <td>19996</td>\n",
       "      <td>20030</td>\n",
       "      <td>20062</td>\n",
       "      <td>20086</td>\n",
       "      <td>20112</td>\n",
       "    </tr>\n",
       "  </tbody>\n",
       "</table>\n",
       "<p>5 rows × 388 columns</p>\n",
       "</div>"
      ],
      "text/plain": [
       "  Province/State Country/Region       Lat       Long  1/22/20  1/23/20  \\\n",
       "0            NaN    Afghanistan  33.93911  67.709953        0        0   \n",
       "1            NaN        Albania  41.15330  20.168300        0        0   \n",
       "2            NaN        Algeria  28.03390   1.659600        0        0   \n",
       "3            NaN        Andorra  42.50630   1.521800        0        0   \n",
       "4            NaN         Angola -11.20270  17.873900        0        0   \n",
       "\n",
       "   1/24/20  1/25/20  1/26/20  1/27/20  ...  1/30/21  1/31/21  2/1/21  2/2/21  \\\n",
       "0        0        0        0        0  ...    55008    55023   55059   55121   \n",
       "1        0        0        0        0  ...    77251    78127   78992   79934   \n",
       "2        0        0        0        0  ...   107122   107339  107578  107841   \n",
       "3        0        0        0        0  ...     9885     9937    9972   10017   \n",
       "4        0        0        0        0  ...    19782    19796   19829   19900   \n",
       "\n",
       "   2/3/21  2/4/21  2/5/21  2/6/21  2/7/21  2/8/21  \n",
       "0   55174   55231   55265   55330   55335   55359  \n",
       "1   80941   81993   83082   84212   85336   86289  \n",
       "2  108116  108381  108629  108629  109088  109313  \n",
       "3   10070   10137   10172   10206   10251   10275  \n",
       "4   19937   19996   20030   20062   20086   20112  \n",
       "\n",
       "[5 rows x 388 columns]"
      ]
     },
     "execution_count": 11,
     "metadata": {},
     "output_type": "execute_result"
    }
   ],
   "source": [
    "df.head()"
   ]
  },
  {
   "cell_type": "code",
   "execution_count": 12,
   "metadata": {},
   "outputs": [
    {
     "name": "stdout",
     "output_type": "stream",
     "text": [
      "348 [     1      1      3      4      4      6     10     10     23     23\n",
      "     35     90    262    442    615    801    827    864    914    977\n",
      "   1057   1151   1255   1326   1395   1450   1591   1724   1877   2046\n",
      "   2201   2395   2577   2860   3107   3386   3757   4077   4369   4681\n",
      "   5071   5402   5635   5819   5996   6174   6318   6511   6681   6879\n",
      "   7073   7242   7384   7515   7695   7912   8073   8210   8445   8575\n",
      "   8698   8851   9008   9158   9311   9407   9523   9670   9821   9938\n",
      "  10083  10218  10319  10429  10513  10591  10667  10713  10791  10858\n",
      "  10927  10968  11044  11117  11182  11230  11289  11360  11387  11428\n",
      "  11480  11512  11593  11633  11669  11699  11734  11771  11811  11875\n",
      "  11924  11948  11962  12001  12016  12035  12099  12139  12193  12217\n",
      "  12250  12294  12344  12391  12391  12391  12527  12561  12615  12636\n",
      "  12675  12675  12675  12751  12768  12794  12815  12832  12832  12832\n",
      "  12878  12888  12900  12916  12946  12946  12946  13037  13061  13092\n",
      "  13124  13173  13173  13173  13262  13302  13350  13390  13438  13438\n",
      "  13438  13547  13577  13634  13725  13789  13789  13789  13996  14073\n",
      "  14185  14306  14442  14442  14442  14815  14959  15070  15214  15379\n",
      "  15483  15617  15740  15855  15940  16056  16127  16239  16317  16397\n",
      "  16480  16537  16627  16700  16779  16891  16985  17084  17195  17374\n",
      "  17547  17736  17883  18113  18356  18607  18924  19216  19557  19890\n",
      "  20237  20571  20571  21393  21847  22436  22905  23323  23799  24357\n",
      "  24916  25594  26213  26637  27072  27464  27998  28396  28932  29302\n",
      "  29680  30057  30379  30710  31156  31638  32082  32422  32811  33101\n",
      "  33593  34023  34441  34941  35392  35844  36373  37003  37763  38622\n",
      "  39411  40356  41412  42157  43174  44034  45225  46351  47299  48241\n",
      "  49594  50530  51753  53180  54230  55121  55892  56958  57952  58963\n",
      "  60000  61078  62136  63331  64551  65808  67105  68362  69635  70485\n",
      "  71654  73021  74204  75395  76718  78354  79352  80481  81949  83535\n",
      "  85140  86743  88858  90603  92649  94799  97357 100489 103564 107116\n",
      " 109758 113095 116087 119779 123813 128321 131606 134434 137632 140175\n",
      " 143472 146341 149333 151167 153347 155826 158447 161230 163479 165930\n",
      " 167541 168711 170787 172779 174995 176837 178497 180240 181486 182725\n",
      " 183801 185159 185159 187320 188199 189088 189895 190619 191505 192265\n",
      " 193038 193917 194671 195296 195948 196540 197208 197664 198095 198472\n",
      " 198960 199357 199782 200335 200773 201186 201621 202051]\n"
     ]
    }
   ],
   "source": [
    "# data for Denmark\n",
    "DK = df.loc[(df[\"Country/Region\"] == \"Denmark\") & df[\"Province/State\"].isna()]  # Denmark\n",
    "DK = DK.drop(['Province/State','Country/Region','Lat','Long'], axis=1).T        # remove fields we don't need\n",
    "y = DK.to_numpy()   # turn series into a vector\n",
    "y = y[np.nonzero(y)] # remove the data before the first detected case\n",
    "x = range(len(y))    # for model-fitting and plotting\n",
    "print(len(y),y)"
   ]
  },
  {
   "cell_type": "code",
   "execution_count": 13,
   "metadata": {},
   "outputs": [
    {
     "data": {
      "text/plain": [
       "Text(0.5, 0, 'Days since first detected case')"
      ]
     },
     "execution_count": 13,
     "metadata": {},
     "output_type": "execute_result"
    },
    {
     "data": {
      "image/png": "[encoded data removed]",
      "text/plain": [
       "<Figure size 432x288 with 1 Axes>"
      ]
     },
     "metadata": {
      "needs_background": "light"
     },
     "output_type": "display_data"
    }
   ],
   "source": [
    "plt.plot(x,y, linestyle='-', color='r')\n",
    "plt.title('\"Confirmed\" COVID-19 Cases in Denmark')\n",
    "plt.xlabel('Days since first detected case')"
   ]
  },
  {
   "cell_type": "code",
   "execution_count": 14,
   "metadata": {},
   "outputs": [],
   "source": [
    "N = 5792202 # estimated population of DK in 2020\n",
    "i_0 = y[0]/N # initial prevalence\n",
    "x = np.array(range(len(y)))"
   ]
  },
  {
   "cell_type": "code",
   "execution_count": 15,
   "metadata": {},
   "outputs": [
    {
     "data": {
      "text/plain": [
       "array([1.02945792, 1.        ])"
      ]
     },
     "execution_count": 15,
     "metadata": {},
     "output_type": "execute_result"
    }
   ],
   "source": [
    "# fit the model by nonlinear least squares\n",
    "popt, pvoc = curve_fit(f, x, y, p0=[1, 0.5], bounds = (0, [500, 1]), maxfev=10000)\n",
    "popt"
   ]
  },
  {
   "cell_type": "code",
   "execution_count": 16,
   "metadata": {},
   "outputs": [
    {
     "data": {
      "image/png": "[encoded data removed]",
      "text/plain": [
       "<Figure size 432x288 with 1 Axes>"
      ]
     },
     "metadata": {
      "needs_background": "light"
     },
     "output_type": "display_data"
    }
   ],
   "source": [
    "S, I, R, C = sir_model(N, i_0, beta=popt[0], gamma=popt[1], delta=0, steps=len(y))\n",
    "times = list(range(len(y)))\n",
    "fig, ax = plt.subplots(nrows=1, ncols=1)\n",
    "ax.plot(times, y, linestyle='-', color='r', label='Data')\n",
    "ax.plot(times, C, linestyle='-.', color='k', label='SIR Model')\n",
    "ax.legend(loc='best')\n",
    "plt.xlabel('Days since first detected case')\n",
    "plt.title('\"Confirmed\" COVID-19 Infections in Denmark')\n",
    "plt.show()"
   ]
  },
  {
   "cell_type": "markdown",
   "metadata": {},
   "source": [
    "What happens if we run the model into the future?"
   ]
  },
  {
   "cell_type": "code",
   "execution_count": 17,
   "metadata": {},
   "outputs": [
    {
     "data": {
      "image/png": "[encoded data removed]",
      "text/plain": [
       "<Figure size 432x288 with 1 Axes>"
      ]
     },
     "metadata": {
      "needs_background": "light"
     },
     "output_type": "display_data"
    }
   ],
   "source": [
    "S, I, R, C = plot_sir(N, i_0, beta=popt[0], gamma=popt[1], delta=0, steps=1000, verbose=True)"
   ]
  },
  {
   "cell_type": "markdown",
   "metadata": {},
   "source": [
    "The total number of infections stabilizes, and the pandemic abates. The effective reproductive number $R_0$ is less than 1.\n",
    "\n",
    "Let's do a quick sanity check.\n",
    "Recall that $R_0 = \\beta/\\gamma$ for the SIR model _initially_, when the number infected, recovered, or dead are negligible compared to the total population.\n",
    "Once some of the population has recovered, some of the people an infectious person encounters wiil be people who have recovered and not susceptible to reinfection (according to the model).\n",
    "To first order, $\\beta$ is effectively reduced by $S/N$."
   ]
  },
  {
   "cell_type": "code",
   "execution_count": 18,
   "metadata": {},
   "outputs": [
    {
     "data": {
      "text/plain": [
       "1.0294579200337055"
      ]
     },
     "execution_count": 18,
     "metadata": {},
     "output_type": "execute_result"
    }
   ],
   "source": [
    "# R_0 at the time the first infection is detected\n",
    "popt[0]/popt[1] # greater than 1. According to the model, the infection will spread if R_0 > 1."
   ]
  },
  {
   "cell_type": "code",
   "execution_count": 19,
   "metadata": {},
   "outputs": [
    {
     "data": {
      "text/plain": [
       "0.9708226266749372"
      ]
     },
     "execution_count": 19,
     "metadata": {},
     "output_type": "execute_result"
    }
   ],
   "source": [
    "# After 1000 timesteps, R_0 is different \n",
    "(S[-1]/N)*popt[0]/popt[1] # less than 1: According to the model, the infection will abate."
   ]
  },
  {
   "cell_type": "markdown",
   "metadata": {},
   "source": [
    "# Fitting curves to the cumulative incidence function \n",
    "\n",
    "The SIR model and its variants attempt to capture the dynamics of transmission and recovery,\n",
    "For some parameter choices, that leads to a sigmoidal shape for the cumulative incidence of infections.\n",
    "\n",
    "Some pandemic predictions simply fit a sigmoidal function to the cumulative number of infections, an approach\n",
    "that dates back to William Farr in the 1800s. \n",
    "King et al. (2015) showed that this approach does not work well for AIDS or Ebola.\n",
    "Nonetheless, this is the approach the IHME takes: they fit a scaled and shifted Gaussian cdf to \n",
    "cumulative incidence.\n",
    "\n"
   ]
  },
  {
   "cell_type": "markdown",
   "metadata": {},
   "source": [
    "## Sigmoidal Models\n",
    "\n",
    "\n",
    "Common sigmoidal models include CDFs of unimodal distributions (such as the Gaussian) and the sigmoid function $1/(\\exp(-x) + 1)$, the inverse of the logistic function.\n",
    "\n",
    "To allow this function to be shifted and scaled, we can introduce the family of curves\n",
    "\n",
    "\\begin{equation}\n",
    "\\sigma(x; a, b, c) \\equiv c \\frac{1}{e^{-b(x-a)}+1}.\n",
    "\\end{equation}\n",
    "\n",
    "The parameter $a$ controls where the function crosses $c/2$; $b$ controls how rapidly it increases, and $c$ is its asymptotic limit.\n",
    "\n",
    "Let's fit this to the Danish data."
   ]
  },
  {
   "cell_type": "code",
   "execution_count": 20,
   "metadata": {},
   "outputs": [],
   "source": [
    "def g(x, a, b, c):\n",
    "    '''\n",
    "    Model cumulative infections using a sigmoid\n",
    "    '''    \n",
    "    return c/(np.exp(-b*(x-a))+1)"
   ]
  },
  {
   "cell_type": "code",
   "execution_count": 21,
   "metadata": {
    "scrolled": true
   },
   "outputs": [
    {
     "data": {
      "text/plain": [
       "[<matplotlib.lines.Line2D at 0x7f86592ea9d0>]"
      ]
     },
     "execution_count": 21,
     "metadata": {},
     "output_type": "execute_result"
    },
    {
     "data": {
      "image/png": "[encoded data removed]",
      "text/plain": [
       "<Figure size 432x288 with 1 Axes>"
      ]
     },
     "metadata": {
      "needs_background": "light"
     },
     "output_type": "display_data"
    }
   ],
   "source": [
    "# test g visually.\n",
    "z = np.array(range(-8,15,1))\n",
    "plt.plot(z, g(z,3,1/2,5))"
   ]
  },
  {
   "cell_type": "code",
   "execution_count": 22,
   "metadata": {},
   "outputs": [
    {
     "data": {
      "text/plain": [
       "array([3.13414705e+02, 2.46283393e-02, 3.17721793e+05])"
      ]
     },
     "execution_count": 22,
     "metadata": {},
     "output_type": "execute_result"
    }
   ],
   "source": [
    "# fit the DK data\n",
    "popts, pvocs = curve_fit(g, x, y, p0=[len(x)/2, 0.02, np.max(y)/2], bounds = ([0, 0, 0], [500, 500, N]), maxfev=10000)\n",
    "popts"
   ]
  },
  {
   "cell_type": "code",
   "execution_count": 23,
   "metadata": {},
   "outputs": [
    {
     "data": {
      "image/png": "[encoded data removed]",
      "text/plain": [
       "<Figure size 432x288 with 1 Axes>"
      ]
     },
     "metadata": {
      "needs_background": "light"
     },
     "output_type": "display_data"
    }
   ],
   "source": [
    "# plot\n",
    "Cs = g(x, popts[0], popts[1], popts[2])\n",
    "times = list(range(len(y)))\n",
    "fig, ax = plt.subplots(nrows=1, ncols=1)\n",
    "ax.plot(times, y, linestyle='-', color='r', label='Data')\n",
    "ax.plot(times, C[:len(times)], linestyle='-.', color='k', label='SIR Model')\n",
    "ax.plot(times, Cs, linestyle=':', color='b', label='Sigmoid Model')\n",
    "ax.legend(loc='best')\n",
    "plt.xlabel('Days since first detected case')\n",
    "plt.title('\"Confirmed\" COVID-19 Infections in Denmark')\n",
    "plt.show()"
   ]
  },
  {
   "cell_type": "markdown",
   "metadata": {},
   "source": [
    "Both models agree reasonably well with past data. But they have rather different predictions about the future."
   ]
  },
  {
   "cell_type": "code",
   "execution_count": 24,
   "metadata": {},
   "outputs": [
    {
     "data": {
      "image/png": "[encoded data removed]",
      "text/plain": [
       "<Figure size 432x288 with 1 Axes>"
      ]
     },
     "metadata": {
      "needs_background": "light"
     },
     "output_type": "display_data"
    }
   ],
   "source": [
    "# what does this model predict for the future?\n",
    "times = np.array(range(1000))\n",
    "Cs = g(times, popts[0], popts[1], popts[2])\n",
    "fig, ax = plt.subplots(nrows=1, ncols=1)\n",
    "ax.plot(times, Cs, linestyle='-.', color='k', label='Sigmoid Model')\n",
    "ax.plot(times, C, linestyle='-', color='b', label='SIR Model')\n",
    "ax.legend(loc='best')\n",
    "plt.xlabel('Days since first detected case')\n",
    "plt.title('Predicted \"Confirmed\" COVID-19 Infections in Denmark')\n",
    "plt.show()"
   ]
  },
  {
   "cell_type": "markdown",
   "metadata": {},
   "source": [
    "Let's look at how the predictions vary over time, as the dataset grows."
   ]
  },
  {
   "cell_type": "code",
   "execution_count": 25,
   "metadata": {},
   "outputs": [],
   "source": [
    "def plot_predictions(y, n, points=1000):\n",
    "    '''\n",
    "    plot predictions of the SIR and sigmoid models based on the first n data\n",
    "    \n",
    "    Parameters\n",
    "    ----------\n",
    "    y : list of floats\n",
    "        number of infections at each time in x\n",
    "    points : int\n",
    "        number of time points for which to plot the prediction\n",
    "        \n",
    "    Returns\n",
    "    -------\n",
    "    no return value\n",
    "    '''\n",
    "    # fit the two models\n",
    "    x = list(range(len(y)))\n",
    "    popt, pvoc = curve_fit(f, x[:n], y[:n], p0=[1, 0.5], bounds = (0, [500, 1]),\n",
    "                           maxfev=10000)\n",
    "    popts, pvocs = curve_fit(g, x[:n], y[:n], p0=[len(x)/2, 0.02, np.max(y)/2],\n",
    "                             bounds = ([0, 0, 0], [500, 500, N]), maxfev=10000)\n",
    "    times = list(range(points))\n",
    "    S, I, R, C = sir_model(N, i_0, beta=popt[0], gamma=popt[1], delta=0, steps=points)\n",
    "    Cs = g(times, popts[0], popts[1], popts[2])\n",
    "    fig, ax = plt.subplots(nrows=1, ncols=1)\n",
    "    ax.plot(x, y, linestyle='-', color='r', label='Data')\n",
    "    ax.plot(times, C, linestyle='-.', color='k', label='SIR Model')\n",
    "    ax.plot(times, Cs, linestyle=':', color='b', label='Sigmoid Model')\n",
    "    ax.vlines(x[n-1], 0, np.max([C, Cs]), label='truncation time')\n",
    "    ax.legend(loc='best')\n",
    "    plt.xlabel('Days since first detected case')\n",
    "    plt.title('\"Confirmed\" COVID-19 Infections in Denmark')\n",
    "    plt.show()"
   ]
  },
  {
   "cell_type": "code",
   "execution_count": 26,
   "metadata": {},
   "outputs": [
    {
     "data": {
      "application/vnd.jupyter.widget-view+json": {
       "model_id": "b5f875c38894494dae1ee70d0d6f1be0",
       "version_major": 2,
       "version_minor": 0
      },
      "text/plain": [
       "interactive(children=(IntSlider(value=100, description='n', max=348, min=20), Output()), _dom_classes=('widget…"
      ]
     },
     "metadata": {},
     "output_type": "display_data"
    },
    {
     "data": {
      "text/plain": [
       "<function __main__.plot_predictions(y, n, points=1000)>"
      ]
     },
     "execution_count": 26,
     "metadata": {},
     "output_type": "execute_result"
    }
   ],
   "source": [
    "interact(plot_predictions, y=fixed(y),\n",
    "                   n = widgets.IntSlider(min=20, max=len(y), value=100),\n",
    "                   points=fixed(1000))"
   ]
  },
  {
   "cell_type": "markdown",
   "metadata": {},
   "source": [
    "The predictions depend on the model and details of the data. Including a week more or a week less can drastically change the predictions. For some datasets, the two models have nearly identical predictions; for others, they can differ by a factor of 20 or more.\n",
    "\n",
    "This is not a reliable basis for predicting the course of the pandemic, predicting ICU demand, predicting the effect of an intervention, allocating resources, or setting public policy.\n",
    "It is a mechanical application of models and algorithms to data: mindless curve-fitting.\n",
    "\n",
    "Unsurprisingly, models of this type do not predict infections well in practice. \n",
    "The [most-cited predictions](https://covid19.healthdata.org/global?view=total-deaths&tab=trend) have been those promulgated by the [Institute for Health Metrics and Evaluation](http://www.healthdata.org/) (IHME) at the University of Washington.\n",
    "They say, \n",
    "\n",
    ">Our model is designed to be a planning tool for government officials who need to know how different policy decisions can radically alter the trajectory of COVID-19 for better or worse.\n",
    "\n",
    ">Our model aimed at helping hospital administrators and government officials understand when demand on health system resources will be greatest. (http://www.healthdata.org/covid/faqs#differences%20in%20modeling, last visited 23 January 2021)\n",
    "\n",
    "IHME's model is described [here](https://static-content.springer.com/esm/art%3A10.1038%2Fs41591-020-1132-9/MediaObjects/41591_2020_1132_MOESM1_ESM.pdf).\n",
    "Early in the pandemic, IHME predicted that there would be about 60,000 COVID-19 deaths in ths U.S.\n",
    "As of January 23, 2021, there have been about 414,000. \n",
    "Between March and August, 2020, next-day deaths were within the IHME 95% prediction interval only about \n",
    "30% of the time, despite revisions of the model https://arxiv.org/abs/2004.04734.\n",
    "(We shall not delve into how IHME produces its prediction intervals.)\n",
    "See also https://www.vox.com/future-perfect/2020/5/2/21241261/coronavirus-modeling-us-deaths-ihme-pandemic.\n",
    "\n",
    "One feature of the sigmoidal models is that they predict rapid declines after the peak, a feature that\n",
    "some politicians like. \n",
    "That feature is built into the sigmoidal curve: it is an _assumption_, not something that comes from the data.\n",
    "\n",
    "There are also more complicated models of pandemics, including models with more \"compartments,\" models based on other sigmoidal functions (such as the Gaussian CDF), and models that allow various kinds of heterogeneity within the population and simulate interactions between individuals.\n",
    "Some have proved more accurate than others.\n",
    "Just how poorly some models perform is obscured by the practice of revising the model and projections frequently--even daily. \n",
    "\n",
    "Sometimes, a moddle with little substantive foundation can nonetheless predict the behavior of a system, at least if the system is not changing quickly. \n",
    "Accurate predictions of the effect of interventions (masks, lockdowns, vaccination, and so on) require a close tie between the world and the model: the model needs a substantive basis. \n",
    "For causal inferences, the model needs to be a _generative model_ or _response schedule_.\n",
    "\n",
    "George Box famously wrote, \"all models are wrong, but some are useful.\"\n",
    "The questions are:\n",
    "\n",
    "* useful for what?\n",
    "* how can you tell whether a model is useful for a particular goal?\n",
    "\n",
    "In the same paper, Box wrote, \"It is inappropriate to be concerned with mice when there are tigers abroad.\"\n",
    "Most of the fretting people do about statistical models is at the level of mice (e.g., asymptotics under unrealistic assumptions), while the problems with most \n",
    "statistical models are tigers: the models have little or no basis in the actual scientific question."
   ]
  },
  {
   "cell_type": "markdown",
   "metadata": {},
   "source": [
    "## New variants\n",
    "\n",
    "As of this writing (9 February 2021), new strains of COVID-19 have been detected in the UK, South Africa, and the US, where cases of the new strain have a doubling time of about 10 days. The UK strain is estimated to be 50% to 70% more transmissible than the original virus. There is mounting evidence that the strain is also more lethal.\n",
    "https://www.wsj.com/articles/new-u-k-covid-19-variant-could-be-more-deadly-british-officials-say-11611338370 (last visited 22 January 2021).\n"
   ]
  }
 ],
 "metadata": {
  "kernelspec": {
   "display_name": "Python 3",
   "language": "python",
   "name": "python3"
  },
  "language_info": {
   "codemirror_mode": {
    "name": "ipython",
    "version": 3
   },
   "file_extension": ".py",
   "mimetype": "text/x-python",
   "name": "python",
   "nbconvert_exporter": "python",
   "pygments_lexer": "ipython3",
   "version": "3.7.6"
  }
 },
 "nbformat": 4,
 "nbformat_minor": 2
}
