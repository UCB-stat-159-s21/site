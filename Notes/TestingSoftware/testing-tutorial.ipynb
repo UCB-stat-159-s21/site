{
 "cells": [
  {
   "cell_type": "markdown",
   "metadata": {},
   "source": [
    "# Testing your software in Python\n",
    "\n",
    "We'll follow the concise [Software Carpentry Testing Tutorial](http://carpentries-incubator.github.io/python-testing), but today we will only cover the following sections:\n",
    "\n",
    "* [Unit Tests](http://carpentries-incubator.github.io/python-testing/04-units/index.html)\n",
    "* [Running Tests with pytest](http://carpentries-incubator.github.io/python-testing/05-pytest/index.html)\n",
    "* [Edge and Corner Cases](http://carpentries-incubator.github.io/python-testing/06-edges/index.html)\n",
    "* [Integration and Regression Tests](http://carpentries-incubator.github.io/python-testing/07-integration/index.html)\n",
    "* [Test Driven Development](http://carpentries-incubator.github.io/python-testing/09-tdd/index.html)\n",
    "* [Fixtures](http://carpentries-incubator.github.io/python-testing/10-fixtures/index.html)\n",
    "\n",
    "**Note:** the contents of this notebook are taken from the above tutorials, and are thus licensed according to the same terms, under the Creative Commons Attribution license ([CC BY 4.0](https://creativecommons.org/licenses/by/4.0))."
   ]
  },
  {
   "cell_type": "markdown",
   "metadata": {},
   "source": [
    "## A simple, testable `mean`\n",
    "\n",
    "Let's checkpoint here with a directory that should have:"
   ]
  },
  {
   "cell_type": "code",
   "execution_count": null,
   "metadata": {},
   "outputs": [],
   "source": [
    "%%writefile mean.py\n",
    "\n",
    "def mean(num_list):\n",
    "    try:\n",
    "        return sum(num_list)/len(num_list)\n",
    "    except ZeroDivisionError :\n",
    "        return 0\n",
    "    except TypeError as detail :\n",
    "        msg = \"The algebraic mean of an non-numerical list is undefined.\\\n",
    "               Please provide a list of numbers.\"\n",
    "        raise TypeError(detail.__str__() + \"\\n\" +  msg)"
   ]
  },
  {
   "cell_type": "code",
   "execution_count": null,
   "metadata": {},
   "outputs": [],
   "source": [
    "%%writefile test_mean.py\n",
    "\n",
    "from mean import *\n",
    "\n",
    "def test_ints():\n",
    "    num_list = [1, 2, 3, 4, 5]\n",
    "    obs = mean(num_list)\n",
    "    exp = 3\n",
    "    assert obs == exp\n",
    "\n",
    "def test_zero():\n",
    "    num_list=[0,2,4,6]\n",
    "    obs = mean(num_list)\n",
    "    exp = 3\n",
    "    assert obs == exp\n",
    "\n",
    "def test_double():\n",
    "    # This one will fail in Python 2\n",
    "    num_list=[1,2,3,4]\n",
    "    obs = mean(num_list)\n",
    "    exp = 2.5\n",
    "    assert obs == exp\n",
    "\n",
    "def test_long():\n",
    "    big = 100000000\n",
    "    obs = mean(range(1,big))\n",
    "    exp = big/2.0\n",
    "    assert obs == exp\n",
    "\n",
    "def test_complex():\n",
    "    # given that complex numbers are an unordered field\n",
    "    # the arithmetic mean of complex numbers is meaningless\n",
    "    num_list = [2 + 3j, 3 + 4j, -32 - 2j]\n",
    "    obs = mean(num_list)\n",
    "    exp = NotImplemented\n",
    "    assert obs == exp"
   ]
  },
  {
   "cell_type": "code",
   "execution_count": null,
   "metadata": {},
   "outputs": [],
   "source": [
    "from test_mean import *\n",
    "\n",
    "test_ints()\n",
    "test_zero()\n",
    "test_double()\n",
    "test_long()\n",
    "test_complex()  ## This might fail. You'll get an error message showing which tests failed"
   ]
  }
 ],
 "metadata": {
  "kernelspec": {
   "display_name": "Python 3",
   "language": "python",
   "name": "python3"
  },
  "language_info": {
   "codemirror_mode": {
    "name": "ipython",
    "version": 3
   },
   "file_extension": ".py",
   "mimetype": "text/x-python",
   "name": "python",
   "nbconvert_exporter": "python",
   "pygments_lexer": "ipython3",
   "version": "3.8.6"
  }
 },
 "nbformat": 4,
 "nbformat_minor": 4
}
