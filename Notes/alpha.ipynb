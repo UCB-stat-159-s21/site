{
 "cells": [
  {
   "cell_type": "markdown",
   "id": "0bea6224-b84b-4fa0-9efa-3f7d9e5abe57",
   "metadata": {},
   "source": [
    "# ALPHA: Audit that Learns from Previously Hand-Audited Ballots"
   ]
  },
  {
   "cell_type": "markdown",
   "id": "35810d00-fc57-4b92-8afb-7406be3ecf27",
   "metadata": {},
   "source": [
    "Consider draws from a population $\\{x_i\\}_{i=1}^N$, \n",
    "where each $x_i \\in [0, u]$.\n",
    "\n",
    "Let $\\theta = \\bar{x} := \\frac{1}{N} \\sum_{i=1}^N x_i$ be the population mean.\n",
    "Let $X_k$ be the value of $x_i$ selected on the $k$th draw. \n",
    "\n",
    "We start by developing a one-sided test of the hypothesis $\\theta = \\mu$, then show the $P$-value is monotone in\n",
    "$\\mu$, so the test is valid for the hypothesis $\\theta \\le \\mu$.\n",
    "\n",
    "Let $X^j := (X_1, \\ldots, X_j)$.\n",
    "Assume $X_j \\in [0, u_j]$ for some known $u_j$. \n",
    "\n",
    "Let $\\mu_j := \\mathbb{E}(X_j | X^{j-1})$ computed under the null hypothesis $\\theta = \\mu$. \n",
    "Let $\\eta_j = \\eta_j(X^{j-1}) \\in (\\mu_j, u_j]$, $j=1, \\ldots$, be a \\emph{predictable sequence} in the sense that \n",
    "$\\eta_j$ may depend on $X^{j-1}$, but not on $X_k$ for $k \\ge j$.\n",
    "We now define the ALPHA martingale $(T_j)$.\n",
    "Let $T_0 := 1$ and\n",
    "\\begin{equation}\n",
    "    T_j := T_{j-1} u_j^{-1}\\left ( X_j\\frac{\\eta_j}{\\mu_j} + (u_j-X_j) \\frac{u_j-\\eta_j}{u_j-\\mu_j} \\right ), \\;\\; j=1, \\ldots .\n",
    "\\end{equation}\n",
    "This can be rearranged to yield\n",
    "\\begin{equation}\n",
    "    T_j := T_{j-1} \\left ( \\frac{X_j}{\\mu_j} \\cdot \\frac{\\eta_j-\\mu_j}{u_j-\\mu_j} + \\frac{u_j-\\eta_j}{u_j-\\mu_j} \\right ). \\label{eq:alphaMult}\n",
    "\\end{equation}\n",
    "Equivalently,\n",
    "\\begin{equation}\n",
    "    T_j := \\prod_{i=1}^j \\left ( \\frac{X_i}{\\mu_i} \\cdot \\frac{\\eta_i-\\mu_i}{u_i-\\mu_i} + \\frac{u_i-\\eta_i}{u_i-\\mu_i} \\right ), \\;\\; j \\ge 1. \\label{eq:alphaMultProd}\n",
    "\\end{equation}\n",
    "Under the null hypothesis, $\\theta_j = \\mu_j$ and $T_j$ is nonnegative since $X_j$, $\\mu_j$, and $\\eta_j$\n",
    "are all in $[0, u_j]$.\n",
    "Also,\n",
    "\\begin{eqnarray}\n",
    "    \\mathbb{E} (T_j | X^{j-1} ) &=& T_{j-1} \\left ( \\frac{\\mu_j}{\\mu_j} \\cdot \\frac{\\eta_j-\\mu_j}{u_j-\\mu_j} + \\frac{u_j-\\eta_j}{u_j-\\mu_j} \\right ) \\nonumber \\\\\n",
    "    &=&  T_{j-1} \\left ( \\frac{\\eta_j-\\mu_j}{u_j-\\mu_j} + \\frac{u_j-\\eta_j}{u_j-\\mu_j} \\right ) \\nonumber \\\\\n",
    "    &=& T_{j-1}.\n",
    "\\end{eqnarray}\n",
    "\n",
    "Thus if $\\theta = \\mu$, $(T_j)$ is a nonnegative martingale with respect to $(X_j)$, starting at $1$.\n",
    "\n",
    "If $\\theta < \\mu$, then $\\mathbb{E} (X_j | X^{j-1}) < \\mu_j$ and $r_j = \\frac{\\mathbb{E} (X_j | X^{j-1})}{\\mu_j} < 1$, so\n",
    "\\begin{equation} \\label{eq:supermartingale}\n",
    "    \\mathbb{E} (T_j | X^{j-1} ) = T_{j-1} \\left ( r_j \\cdot \\frac{\\eta_j-\\mu_j}{u_j-\\mu_j} + \\frac{u_j-\\eta_j}{u_j-\\mu_j} \\right ) < T_{j-1}.\n",
    "\\end{equation}\n",
    "Thus $(T_j)$ is a nonnegative supermartingale starting at 1 if $\\theta \\le \\mu$.\n",
    "\n",
    "It follows from Ville's inequality (1939) that if $\\theta \\le \\mu$,\n",
    "\\begin{equation} \\label{eq:p-value-adapt}\n",
    "\\Pr \\{ \\exists j :  T_j \\ge \\alpha^{-1} \\} \\le \\alpha.\n",
    "\\end{equation}\n",
    "That is, $\\min(1, 1/T_j)$ is an \"anytime $P$-value\" for the null hypothesis $\\theta = \\mu$.\n",
    "\n",
    "The derivation did not use any information about $\\{x_i\\}$ other than $X_j \\in [0, u_j]$:\n",
    "it applies to populations $\\{x_i\\}$ that are nonnegative and bounded, not merely binary populations,\n",
    "to sampling with or without replacement, and to weighted sampling.\n",
    "\n",
    "These martingales comprise the same family of betting martingales studied by Waudby-Smith and Ramdas (2021) and\n",
    "Waudby-Smith et al. (2021), but are parametrized\n",
    "differently."
   ]
  },
  {
   "cell_type": "markdown",
   "id": "4981e51b-4727-4a55-b93b-cb4c902abcad",
   "metadata": {},
   "source": [
    "### Sampling without replacement\n",
    "For tests about the mean of a finite population from a sample drawn without replacement, we need $\\mathbb{E}(X_j | X^{j-1})$ computed on the assumption that\n",
    "$\\theta =  \\frac{1}{N} \\sum_{i=1}^N x_i = \\mu$.\n",
    "\n",
    "For sampling without replacement from a population with mean $\\mu$, after draw $j-1$, the mean of the remaining numbers is $(N\\mu - \\sum_{k=1}^{j-1}X_k)/(N-j+1)$.\n",
    "\n",
    "Thus the conditional expectation of $X_j$ given $X^{j-1}$ under the null is $(N\\mu - \\sum_{k=1}^{j-1}X_k)/(N-j+1)$.\n",
    "If $N\\mu - \\sum_{k=1}^{j-1}X_k < 0$ for any $k$, the null hypothesis $\\theta = \\mu$ is certainly false."
   ]
  },
  {
   "cell_type": "markdown",
   "id": "4388897c-667d-4cd3-9e44-23300ea5258b",
   "metadata": {},
   "source": [
    "Waudby-Smith and Ramdas (2021 and Waudby-Smith et al. (2021) develop tests and\n",
    "confidence sequences for the mean of a bounded population\n",
    "using \"betting\" martingales of the form\n",
    "\\begin{equation} \\label{eq:lambda-rilacs}\n",
    "M_j := \\prod_{i=1}^j (1 + \\lambda_i (X_i- \\mu_i)),\n",
    "\\end{equation}\n",
    "where, as above, $\\mu_i := \\mathbb{E}(X_i | X_{i-1})$ computed on the assumption that the null hypothesis is true.\n",
    "The sequence $(M_j)$ can be viewed as the fortune of a gambler in a series of wagers.\n",
    "The gambler starts with a stake of $1$ unit and bets a fraction $\\lambda_i$ of their current wealth on the outcome\n",
    "of the $i$th wager.\n",
    "The value $M_j$ is the gambler's wealth after the $j$th wager.\n",
    "The gambler is not permitted to borrow money, so to ensure that when $X_i = 0$ (corresponding to losing the $i$th bet)\n",
    "the gambler does not end up in debt ($M_i < 0$), $\\lambda_i$ cannot exceed $1/\\mu_i$.\n",
    "\n",
    "The ALPHA martingale is of the same form:\n",
    "\\begin{eqnarray} \\label{eq:lambda-form}\n",
    "T_j &=& \\prod_{i=1}^j \\left ( \\frac{X_i}{\\mu_i} \\cdot \\frac{\\eta_i-\\mu_i}{u_i-\\mu_i} + \\frac{u_i-\\eta_i}{u_i-\\mu_i} \\right ) \\nonumber \\\\\n",
    "&=& \\prod_{i=1}^j \\frac{X_i (\\eta_i/\\mu_i -1) + u_i - \\eta_i}{u_i-\\mu_i} \\nonumber \\\\\n",
    "&=& \\prod_{i=1}^j \\left ( 1 + \\frac{X_i (\\eta_i/\\mu_i -1) + \\mu_i - \\eta_i}{u_i-\\mu_i} \\right ) \\nonumber \\\\\n",
    "&=&  \\prod_{i=1}^j \\left ( 1 + \\frac{\\eta_i/\\mu_i -1}{u_i-\\mu_i} \\cdot (X_i - \\mu_i) \\right ),\n",
    "\\end{eqnarray}\n",
    "identifying $\\lambda_i \\equiv \\frac{\\eta_i/\\mu_i -1}{u_i-\\mu_i}$.\n",
    "Choosing $\\lambda_i$ is equivalent to choosing $\\eta_i$:\n",
    "\\begin{equation}\n",
    "\\lambda_i = \\frac{\\eta_i/\\mu_i -1}{u_i-\\mu_i} \\;\\; \\Longleftrightarrow \\;\\; \\eta_i = \\mu_i \\left ( 1 + \\lambda_i (u_i-\\mu_i) \\right ).\n",
    "\\end{equation}\n",
    "As $\\eta_i$ ranges from $\\mu_i$ to $u_i$, $\\frac{\\eta_i/\\mu_i -1}{u_i-\\mu_i}$ ranges continuously from\n",
    "0 to $1/\\mu_i$, the same range of values of $\\lambda_i$ permitted in Waudby-Smith et al.:\n",
    "selecting $\\lambda_i$ is equivalent to selecting a method for estimating $\\theta_i$."
   ]
  },
  {
   "cell_type": "code",
   "execution_count": null,
   "id": "dc6e987a-0b8e-4d11-8cb1-fce15fe9156b",
   "metadata": {},
   "outputs": [],
   "source": []
  }
 ],
 "metadata": {
  "kernelspec": {
   "display_name": "Python 3 (ipykernel)",
   "language": "python",
   "name": "python3"
  },
  "language_info": {
   "codemirror_mode": {
    "name": "ipython",
    "version": 3
   },
   "file_extension": ".py",
   "mimetype": "text/x-python",
   "name": "python",
   "nbconvert_exporter": "python",
   "pygments_lexer": "ipython3",
   "version": "3.8.12"
  }
 },
 "nbformat": 4,
 "nbformat_minor": 5
}
