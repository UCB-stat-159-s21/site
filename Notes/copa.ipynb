{
 "cells": [
  {
   "cell_type": "markdown",
   "metadata": {
    "slideshow": {
     "slide_type": "slide"
    }
   },
   "source": [
    "# The Child Online Protection Act and Internet Content Filtering"
   ]
  },
  {
   "cell_type": "code",
   "execution_count": 3,
   "metadata": {
    "slideshow": {
     "slide_type": "slide"
    }
   },
   "outputs": [
    {
     "data": {
      "text/html": [
       "<iframe width=\"560\" height=\"315\" src=\"https://www.youtube.com/embed/QKNnwLL991c\" frameborder=\"0\" allowfullscreen></iframe>"
      ],
      "text/plain": [
       "<IPython.core.display.HTML object>"
      ]
     },
     "execution_count": 3,
     "metadata": {},
     "output_type": "execute_result"
    }
   ],
   "source": [
    "from IPython.display import HTML\n",
    "HTML('<iframe width=\"560\" height=\"315\" src=\"https://www.youtube.com/embed/QKNnwLL991c\" frameborder=\"0\" allowfullscreen></iframe>')"
   ]
  },
  {
   "cell_type": "markdown",
   "metadata": {
    "slideshow": {
     "slide_type": "slide"
    }
   },
   "source": [
    "## Background\n",
    "\n",
    "\n",
    "+ Study commissioned by DoJ re Child Online Protection Act of 1998 (COPA).\n",
    "+ Apologies: stale data. 2005--2006.  Required subpoenas of Google, AOL, MSN, Yahoo!\n",
    "+ Attempts to legislate protection of minors: CDA, CIPA, COPA.\n",
    "+ I worked primarily on COPA; a little on CIPA.\n",
    "+ Team at CRAI led by Paul Mewett collected and categorized the webpages and ran filter tests.\n",
    "+ I designed the experiments, drew the random samples, analyzed the data. \n",
    "+ News coverage of Google subpoena generated lots of hate mail. "
   ]
  },
  {
   "cell_type": "markdown",
   "metadata": {
    "slideshow": {
     "slide_type": "slide"
    }
   },
   "source": [
    "## Legal\n",
    "\n",
    "### COPA\n",
    "\n",
    "\n",
    "+ 2nd attempt to legislate protection from commercial \"harmful-to-minors\" content \n",
    "+ NOT ABOUT CHILD PORNOGRAPHY\n",
    "+ Exemptions for literary, artistic, and educational content, ISPs, search engines.\n",
    "+ Requires age screen for commercial porn. \n",
    "+ Credit card number deemed adequate proof of age."
   ]
  },
  {
   "cell_type": "markdown",
   "metadata": {
    "slideshow": {
     "slide_type": "fragment"
    }
   },
   "source": [
    "### Supreme Court\n",
    "\n",
    "+ Feds have legitimate interest in protecting children.\n",
    "+ COPA potentially \"chilling\" of free speech.\n",
    "+ DoJ had to show that COPA is \"least restrictive alternative.\"\n",
    "+ How well do filters work? "
   ]
  },
  {
   "cell_type": "markdown",
   "metadata": {
    "slideshow": {
     "slide_type": "slide"
    }
   },
   "source": [
    "### My Role\n",
    "\n",
    "\n",
    "#### My job: figure out &hellip;\n",
    "\n",
    "\n",
    "+ How much porn is there on the Internet?\n",
    "+ How often do people come across it?\n",
    "+ How effective are filters at blocking it?\n",
    "+ How much \"clean stuff\" do filters block?"
   ]
  },
  {
   "cell_type": "markdown",
   "metadata": {
    "slideshow": {
     "slide_type": "slide"
    }
   },
   "source": [
    "## Data"
   ]
  },
  {
   "cell_type": "markdown",
   "metadata": {
    "slideshow": {
     "slide_type": "fragment"
    }
   },
   "source": [
    "### Data Sources: Search Engines\n",
    "\n",
    "Filters over-block and under-block (make Type I and II errors).\n",
    "\n",
    "Population of pages matters.  What's relevant? \n",
    "\n",
    "Internet largely mediated by search engines.\n",
    "\n",
    "+ Random sample of 50,000 webpages from Google search index in 2006. (Pages users might find.)\n",
    "+ Random sample of 1~million webpages from MSN search index in 2005. (Pages users might find.)\n",
    "+ Week of search queries from AOL, MSN and Yahoo! by subpoena, about 1.3 billion\n",
    "(Pages users do find.)\n",
    "+ 685 most popular queries from Wordtracker 11/12/05--2/20/06. (Pages users find most often.)"
   ]
  },
  {
   "cell_type": "markdown",
   "metadata": {
    "slideshow": {
     "slide_type": "slide"
    }
   },
   "source": [
    "### Categorizing Pages\n",
    "\n",
    "Team at CRA~International attempted to view and categorize\n",
    "\n",
    "+ 39,999 random webpages from MSN index\n",
    "+ 11,000 random the webpages from Google index\n",
    "+ first 10 results of each of a stratified random sample of 7,541 queries  (total weight 15,461)\n",
    "+ first 10 results of the 685 Wordtracker searches"
   ]
  },
  {
   "cell_type": "markdown",
   "metadata": {
    "slideshow": {
     "slide_type": "fragment"
    }
   },
   "source": [
    "### Raw results\n",
    "   \n",
    "+ 68,150 webpages of which 63,105 worked.\n",
    "\n",
    "+ 60,833 Category 1a: no reference to sex and no nudity.\n",
    "\n",
    "+ 1,382 Category 5f: adult entertainment.\n",
    "\n",
    "+ 890 in other categories, e.g., show genitalia in an artistic or\n",
    "educational context.\n",
    "  \n",
    "  \n",
    "I drew random samples of the Category 1a pages to test filters."
   ]
  },
  {
   "cell_type": "markdown",
   "metadata": {
    "slideshow": {
     "slide_type": "slide"
    }
   },
   "source": [
    "## Results"
   ]
  },
  {
   "cell_type": "markdown",
   "metadata": {
    "slideshow": {
     "slide_type": "subslide"
    }
   },
   "source": [
    "### Prevalence of Adult Content\n",
    "\n",
    "\n",
    "#### Sizes of populations and samples. Searches weighted by frequency.\n",
    "\n",
    "\n",
    "  result  | Google inx |  MSN inx  |   AOL, MSN, Y! srch    | Wordtracker srch\n",
    "--- | --- | --- | --- | --- |\n",
    "pages in sample |    11,100    | 39,999     |      22,405                    | 206 million \n",
    "working pages in sample       |     10,009   | 36,557     |      21,870                    | 195 million \n",
    "queries in pop      |              |            |   1.3 billion                  | 20.6 million \n",
    "queries in sample       |              |            |       2,345                    | 20.6 million "
   ]
  },
  {
   "cell_type": "markdown",
   "metadata": {
    "slideshow": {
     "slide_type": "subslide"
    }
   },
   "source": [
    "#### Estimated prevalence of adult pages\n",
    "\n",
    "| Source  |  Google inx  |  MSN inx |  AOL, MSN, Y! srch  | Wordtracker srch |\n",
    "|---|---|---|---|---|\n",
    "| adult webpages |  1.1%           |   1.1%      |     1.7%                        |  14.1%     |\n",
    "| domestic adult webpages |  44.2%          |  56.7%      |    88.4%                        |  87.4%     |\n",
    "| searches w adult results |                  |              |     6.0%                        |  37.1%     |\n",
    "| searches w domestic adult results |                  |              |     5.7%                        |  37.0%  |  "
   ]
  },
  {
   "cell_type": "markdown",
   "metadata": {
    "slideshow": {
     "slide_type": "subslide"
    }
   },
   "source": [
    "### Conservative 95% lower confidence limits found by inverting binomial tests.\n",
    "\n",
    "| bound | Google inx  |  MSN inx  |  AOL, MSN, Y! srch |\n",
    "|---|---|---|---|\n",
    "| adult |  1.0%           | 1.0%        | 2.5%   |\n",
    "| domestic adult  |  0.4%           | 0.5%        | 2.2%  |\n"
   ]
  },
  {
   "cell_type": "markdown",
   "metadata": {
    "slideshow": {
     "slide_type": "slide"
    }
   },
   "source": [
    "## Filtering"
   ]
  },
  {
   "cell_type": "markdown",
   "metadata": {
    "slideshow": {
     "slide_type": "subslide"
    }
   },
   "source": [
    "### Estimated underblocking &  overblocking\n",
    "\n",
    "| Filter |  Underblocking || Overblocking  ||\n",
    "|---|---:|---:|---:|---:|\n",
    "|        | Google     |    MSN     | Google      |  MSN     | \n",
    "| AOL Mature Teen  |  8.9%     |  8.6%     |  22.6%     |  23.6%  | \n",
    "| MSN Pornography  | 16.8%     | 18.7%     |  19.6%     | 10.3%   | \n",
    "| MSN Teen         | 17.7%     | 20.5%     |  21.9%     | 18.9%   | \n",
    "| ContentProtect Default  | 38.3%     | 45.4%     |   2.8%     |  3.0%   | \n",
    "| ContentProtect Custom   | 28.3%     | 46.7%     |   1.4%     |  0.7%   | \n",
    "| CyberPatrol Custom      | 31.0%     | 33.5%     |   1.4%     |  0.9%   | \n",
    "| CyberSitter Default          | 12.7%     | 16.5%     |   3.6%     |  4.1%   | \n",
    "| CyberSitter Custom           | 12.4%     | 18.9%     |   4.0%     |  3.7%   | \n",
    "| McAfee Young Teen             | 16.1%     | 26.0%     |  12.4%     | 13.2%   | \n",
    "| Net Nanny Level 2          | 44.0%     | 46.1%     |   3.3%     |  2.2%   | \n",
    "| Norton Default   | 60.2%     | 54.9%     |   1.4%     |  0.7%   | \n",
    "| Norton Custom    | 58.4%     | 54.2%     |   0.9%     |  0.4%   | \n",
    "| Verizon          | 41.8%     | 40.3%     |   9.4%     |  5.7%   | \n",
    "| 8e6              | 18.3%     | 23.0%     |   9.4%     |  7.5%   | \n",
    "| SafeEyes         | 16.2%     | 15.2%     |   3.3%     |  3.2%   | "
   ]
  },
  {
   "cell_type": "markdown",
   "metadata": {
    "slideshow": {
     "slide_type": "subslide"
    }
   },
   "source": [
    "#### Conservative 95% lower confidence limits\n",
    "\n",
    "| Filter | underblocking || overblocking  || \n",
    "|---|---|---|---|---|\n",
    "|       | Google  |  MSN    | Google  |   MSN    | \n",
    "| AOL Mature Teen |  5.6%  |  6.5%  | 18.4%  | 21.0%   | \n",
    "| MSN Pornography | 12.1%  | 15.7%  | 15.8%  |  8.5%   | \n",
    "| MSN Teen | 12.8%  | 17.4%  | 17.8%  | 16.6%   | \n",
    "| ContentProtect Default | 31.3%  | 41.3%  |  1.5%  |  2.1%   | \n",
    "| ContentProtect Custom | 22.2%  | 42.6%  |  0.6%  |  0.4%   | \n",
    "| CyberPatrol Custom | 24.6%  | 29.7%  |  0.6%  |  0.5%   | \n",
    "| CyberSitter Default |  8.6%  | 13.6%  |  2.1%  |  3.1%   | \n",
    "| CyberSitter Custom |  8.4%  | 15.9%  |  2.4%  |  2.7%   | \n",
    "| McAfee Young  Teen| 11.4%  | 22.5%  |  9.3%  | 11.3%   | \n",
    "| Net Nanny Level 2 | 36.8%  | 41.9%  |  1.9%  |  1.5%   | \n",
    "| Norton Default | 52.9%  | 50.7%  |  0.6%  |  0.4%   | \n",
    "| Norton Custom | 51.1%  | 50.1%  |  0.4%  |  0.2%   | \n",
    "| Verizon  | 34.7%  | 36.2%  |  6.7%  |  4.4%   | \n",
    "| 8e6  | 13.1%  | 19.6%  |  6.7%  |  6.0%   | \n",
    "| SafeEyes | 11.4%  | 12.3%  |  1.9%  | 2.3%    | \n"
   ]
  },
  {
   "cell_type": "markdown",
   "metadata": {
    "slideshow": {
     "slide_type": "subslide"
    }
   },
   "source": [
    "#### Of adult pages not blocked, estimated percentage that are domestic\n",
    "\n",
    "| Filter  |  Google  |  MSN |\n",
    "|---|---|---|\n",
    "| AOL Mature Teen| 40.0%  |  40.6%  |\n",
    "| MSN Pornography | 31.6%  |  42.9%  |\n",
    "| MSN Teen | 40.0%  |  37.7%  |\n",
    "| ContentProtect Default | 39.0%  |  45.8%  |\n",
    "| ContentProtect Custom | 40.6%  |  47.1%  |\n",
    "| CyberPatrol Custom | 48.6%  |  44.0%  |\n",
    "| CyberSitter Default | 50.0%  |  32.8%  |\n",
    "| CyberSitter Custom  | 57.1%  |  36.2%  |\n",
    "| McAfee Young Teen  | 44.4%  |  37.5%  |\n",
    "| Net Nanny Level 2 | 41.7%  |  48.1%  |\n",
    "| Norton Default | 35.3%  |  49.3%  |\n",
    "| Norton Custom | 36.4%  |  49.7%  |\n",
    "| Verizon | 37.0%  |  42.4%  |\n",
    "| 8e6 | 42.1%  |  46.8%  |\n",
    "| SafeEyes | 35.3%  |  40.4%  |\n"
   ]
  },
  {
   "cell_type": "markdown",
   "metadata": {
    "slideshow": {
     "slide_type": "subslide"
    }
   },
   "source": [
    "### Estimated underblocking and overblocking for AOL, MSN, & Yahoo! search results\n",
    "\n",
    "\n",
    "| filter  |  underblocking reslts  | overblocking reslts| domestic  underb    |  underblocking  queries | 95% CL | \n",
    "|---|---|---|---|---|---|\n",
    "| AOL Mature Teen | 6.2%  | 12.5%  | 57.0%  | 15.6% | 5.3% |\n",
    "| MSN Pornography| 21.4%  | 4.4%  | 86.1%  | 32.3% | 20.9% |\n",
    "| MSN Teen | 20.8%  | 5.8%  | 91.9%  | 28.1% | 18.8% |\n",
    "| ContentProtect Default | 18.4%  | 6.4%  | 70.1%  | 46.2% | 10.0% |\n",
    "| ContentProtect Custom | 20.4%  | 0.0%  | 62.1%  | 42.2% | 25.4% |\n",
    "| CyberPatrol Custom | 34.6%  | 0.4%  | 94.9%  | 65.6% | 24.4% |\n",
    "| CyberSitter Default | 11.2%  | 4.6%  | 33.8%  | 23.2% | 11.2% |\n",
    "| CyberSitter Custom | 10.0%  | 5.3%  | 44.1%  | 20.1% | 8.1% |\n",
    "| McAfee Young Teen | 14.2%  | 20.7% | 80.7%  | 30.9% | 10.4% |\n",
    "| Net Nanny Level 2 | 28.1%  | 3.7%  | 79.4%  | 36.6% | 20.8% |\n",
    "| Norton Default| 42.1%  | 0.8%  | 85.3%  | 51.6% | 49.3% |\n",
    "| Norton Custom | 43.4%  | 0.0%  | 85.6%  | 56.1% | 54.3% |\n",
    "| Verizon | 23.1%  | 1.3%  | 80.9%  | 41.6% | 31.4% |\n",
    "| 8e6|  7.3%  | 7.5%  | 78.0%  | 23.4% | 11.7% |\n",
    "| SafeEyes  | 13.7%  | 1.9%  | 87.8%  | 29.8% | 14.9% |"
   ]
  },
  {
   "cell_type": "markdown",
   "metadata": {
    "slideshow": {
     "slide_type": "subslide"
    }
   },
   "source": [
    "### Underblocking | estimated overblocking for Wordtracker query results\n",
    "\n",
    "| filter  |  underblocking reslts | overblocking reslts| domestic underblk   | underblocking  queries |\n",
    "|---|---|---|---|---|\n",
    "| AOL Mature Teen| 1.3%  | 19.6%  | 69.2%  | 4.3%  \n",
    "| MSN Pornography | 2.7%  | 13.3%  | 86.1%  | 8.2%  \n",
    "| MSN Teen| 2.6%  | 13.7%  | 83.1%  | 8.3%  \n",
    "| ContentProtect Default| 7.5%  | 12.4%  | 84.1%  | 23.1%  \n",
    "| ContentProtect Custom | 8.1%  |  7.8%  | 84.9%  | 25.3%  \n",
    "| CyberPatrol Custom | 3.9%  | 9.2%   | 86.4%  | 10.1%  \n",
    "| CyberSitter | 1.4%  | 19.9%  | 69.3%  | 5.1%  \n",
    "| CyberSitter Custom| 2.9%  | 18.2%  | 84.0%  | 9.4%  \n",
    "| McAfee Young  Teen | 2.8%  | 32.8%  | 70.7%  | 9.3%  \n",
    "| Net Nanny Level 2| 12.6%  | 9.5%  | 82.9%  | 34.4%  \n",
    "| Norton Default  | 9.9%  | 4.8%  | 79.4%  | 25.2%  \n",
    "| Norton Custom | 10.2%  | 2.9%  | 79.4%  | 25.9%  \n",
    "| Verizon |  4.4%  | 16.1%  | 67.9%  | 15.0%  \n",
    "| 8e6  |  3.4%  | 25.1%  | 93.0%  | 10.3%  \n",
    "| SafeEyes|  2.0%  | 16.5%  | 96.6%  | 6.4%  \n"
   ]
  },
  {
   "cell_type": "markdown",
   "metadata": {
    "slideshow": {
     "slide_type": "subslide"
    }
   },
   "source": [
    "### Filter Results\n",
    "\n",
    "\n",
    "+ Most restrictive filter blocked 91% of adult pages; also blocked about 23-24%\n",
    "of the clean webpages in the indexes.\n",
    "\n",
    "+ Would block 22--23 clean webpages for each adult page it blocks\n",
    "in Google or MSN search index\n",
    "\n",
    "+ Less restrictive filters blocked as little as 40% of the adult pages.\n",
    "\n",
    "+ The most restrictive filter blocked about 94% of the adult\n",
    "pages among search results; also blocked about 13% of\n",
    "clean search results.\n",
    "\n",
    "+ On average, it would block about 7.6 clean results for every adult result it blocks.\n",
    "\n",
    "+ For the most popular queries, the most restrictive filter blocks over 98% of adult results; \n",
    "also blocked  ~20% of clean results.\n",
    "\n",
    "+ Would block  ~1.1 clean results of popular searches for each adult result it blocks."
   ]
  },
  {
   "cell_type": "markdown",
   "metadata": {
    "slideshow": {
     "slide_type": "subslide"
    }
   },
   "source": [
    "### Location: Foreign Adult Websites with Commercial Ties to the US\n",
    "\n",
    "| Data Source | Percentage |\n",
    "|---|---|\n",
    "| Google index | 90.3% |\n",
    "| MSN index    | 89.8% |\n",
    "| AOL, MSN & Y! queries | 88.2% |\n",
    "| Wordtracker queries |  95.9% |\n",
    "\n",
    "Estimated percentage of nominally free adult foreign webpages\n",
    "that have commercial ties to the United States, based on data provided by\n",
    "CRA International.\n",
    "Estimates for query results take into account query weights."
   ]
  },
  {
   "cell_type": "markdown",
   "metadata": {
    "slideshow": {
     "slide_type": "slide"
    }
   },
   "source": [
    "## The other side"
   ]
  },
  {
   "cell_type": "markdown",
   "metadata": {
    "slideshow": {
     "slide_type": "subslide"
    }
   },
   "source": [
    "### Filtering studies cited by Plaintiffs' Expert\n",
    "\n",
    "| Reference |  Year |  Sample type |  Quantitative | Source of pages |\n",
    "|---|---|---|---|---|\n",
    "| eTesting Labs |  2001 | convenience |  yes  | searches on Google |\n",
    "| eTesting Labs | 2002 | convenience  |  yes | searches on Google; DMOZ |\n",
    "| NetAlert         | 2001 | quota |             yes  | unknown |\n",
    "| PC Magazine   | 2004 | unknown    |       no   |  unknown |\n",
    "| Consumer Reports |  2005 | convenience |  no | unknown |\n",
    "| Rulespace depo   | 2006 | convenience  |  yes | unknown |\n",
    "\n",
    "eTesting 1: Google search for \"free adult sex.\"\n",
    "\n",
    "eTesting 2: Added DMOZ; took sample of results.\n",
    "\n",
    "NetAlert: at most 30 webpages.\n",
    "\n",
    "\n",
    "<div class=\"alert alert-error\">This isn't science.</div>"
   ]
  },
  {
   "cell_type": "markdown",
   "metadata": {
    "slideshow": {
     "slide_type": "subslide"
    }
   },
   "source": [
    "### Plaintiffs' \"Internet Geography\" Study\n",
    "\n",
    "\n",
    "+ Claim: less than half of \"free\" porn sites are in US, and about \n",
    "2/3 of adult membership websites are in US\n",
    "+ Universe: Adultreviews.net, Adultwebmasters.org, Google Web Directory, Sextracker.com.  \n",
    "+ Sample of convenience, not census or random sample. \n",
    "+ According to his database, the following are porn sites: aol.com, msn.com, yahoo.com, about.com \n",
    "lycos.fr, lycos.co.uk, com.ar, com.au, com.br, co.hu, co.il, co.kr, com.mx, co.nz, com.pl, \n",
    "com.pt, com.tw, com.ua, co.uk, com.ve, co.yu, co.za\n",
    "+ Serious bug: claims entire commercial domains of at least 17 countries are porn sites.\n",
    "\n",
    "\n",
    "<div class=\"alert alert-error\">This isn't science.  Judge took his results at face value nonetheless.\n",
    "</div>"
   ]
  },
  {
   "cell_type": "markdown",
   "metadata": {
    "slideshow": {
     "slide_type": "slide"
    }
   },
   "source": [
    "### The Public\n",
    "\n",
    "Surprising outcry: thought the suit enabled DOJ to get personal info. Of course, \n",
    "\n",
    "+ every ISP, search engine, & e-commeerce site had the info&hellip;as did the NSA.\n",
    "+ the subpoenas specifically said not to include IP addresses or any other information that would identify users  http://www.nytimes.com/2006/01/20/technology/google-resists-us-subpoena-of-search-data.html\n",
    "+ the queries were not the point: the point was what results the queries retrieved\n",
    "+ [Google fought the subpoena for search records](https://www.npr.org/templates/story/story.php?storyId=5165530) at the same time it was [censoring search results in China](http://money.cnn.com/2006/02/21/news/international/pluggedin_fortune/)\n",
    "+ [Court ordered Google to give sample from search index](https://www.cnet.com/news/judge-google-must-give-feds-limited-access-to-records/), but no queries "
   ]
  },
  {
   "cell_type": "markdown",
   "metadata": {
    "slideshow": {
     "slide_type": "fragment"
    }
   },
   "source": [
    "well now good for you -- instead of teaching parents/caregivers of minors how to block unwanted porn sites you have given this administration an EXCUSE to peruse search\n",
    "engine data bases.\n",
    " \n",
    "enough erosion of civil liberties\n",
    " \n",
    "Dorothy Grimes\n",
    " \n",
    "earthchildren@comcast.net"
   ]
  },
  {
   "cell_type": "markdown",
   "metadata": {
    "slideshow": {
     "slide_type": "subslide"
    }
   },
   "source": [
    "Heartwood Books Heartwood@cstone.net to stark\n",
    "show details 1/20/06\n",
    "Dear Professor Stark,\n",
    "\n",
    "The Google user is an actual person, not just a statistic, and your attempt\n",
    "to expose my personal information (even buried in a large quantity of data)\n",
    "is at best short sighted on your part. It is also annoying. It is\n",
    "absolutely NONE OF YOUR BUSINESS what I search for on Google.\n",
    "\n",
    "I am aware of the fact that some people (especially the young) seem to\n",
    "place no value on privacy. But this is not the case for everyone. Do you\n",
    "think for a minute that the government will be satisfied with \"anonymous\"\n",
    "data if it sees \"suspicious\" patterns? Using statistical methods to\n",
    "identify criminals has enormous potential for misuse. Look at the early use\n",
    "of genetics that produced eugenics. Before you accept your next consulting\n",
    "fee, stop and talk with someone about the ethics of your work.\n",
    "\n",
    "Even if you do not value your personal privacy in this matter, ask yourself\n",
    "if you would want the public or the government examining all of your\n",
    "communication or internet use. When the government gains the right to watch\n",
    "our private non-criminal lives, this power will not exist only for the\n",
    "current well meaning Bush administration but will be available for the next\n",
    "Bush, Clinton or Nixon as well.\n",
    "\n",
    "It is absolutely NONE OF YOUR BUSINESS what I search for on Google. It is\n",
    "none of my business whether the baseball cap just looks cute or is hiding\n",
    "thinning hair. Some things are private.\n",
    "\n",
    "\n",
    "Paul Collinge\n",
    "\n",
    "Heartwood Books\n",
    "5 Elliewood Ave.\n",
    "Charlottesville, Va. 22903\n",
    "434 295 7083\n",
    " "
   ]
  }
 ],
 "metadata": {
  "celltoolbar": "Slideshow",
  "kernelspec": {
   "display_name": "Python 3",
   "language": "python",
   "name": "python3"
  },
  "language_info": {
   "codemirror_mode": {
    "name": "ipython",
    "version": 3
   },
   "file_extension": ".py",
   "mimetype": "text/x-python",
   "name": "python",
   "nbconvert_exporter": "python",
   "pygments_lexer": "ipython3",
   "version": "3.6.1"
  }
 },
 "nbformat": 4,
 "nbformat_minor": 2
}
