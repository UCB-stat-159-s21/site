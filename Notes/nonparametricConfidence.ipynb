{
 "cells": [
  {
   "cell_type": "markdown",
   "id": "6ed65551-b822-4da3-a8f1-cdead6622d9a",
   "metadata": {},
   "source": [
    "# Nonparametric tests and confidence bounds with applications to auditing"
   ]
  },
  {
   "cell_type": "markdown",
   "id": "81df315a-fc2f-472a-bb63-c654665ec958",
   "metadata": {},
   "source": [
    "+ The problem\n",
    "    - National Academies Panel on Nonstandard Mixtures of Distributions\n",
    "    - [Short overview of risk-limiting audits of elections](./audit.ipynb)\n",
    "+ The [normal approximation and the bootstrap don't help](./normApprox.ipynb)\n",
    "+ The need for _a priori bounds_\n",
    "+ [Duality between testing and confidence sets](./duality.ipynb)\n",
    "+ [Confidence sets derived from the Binomial](./binomial.ipynb)\n",
    "+ Bounds based on concentration inequalities for the mean\n",
    "    + [Lower confidence bounds via Markov's Inequality and methods based on the Empirical Distribution](./markov.ipynb)\n",
    "    + [Confidence bounds via the Chebychev and Hoeffding Inequalities](./hoeffding.ipynb)\n",
    "+ [Dollar-Unit Sampling and taint](./dus.ipynb)\n",
    "    - [Penny sampling](./pennySampling.ipynb)\n",
    "+ [Tests based on martingales and supermartingales](./martingale.ipynb)\n",
    "    - Ville's inequality and supermartingale tests\n",
    "    - [Wald's Sequential Probability Ratio Test (SPRT)](./sprt.ipynb)\n",
    "    - [The SPRT for sampling without replacement](./sprtNoReplacement.ipynb)\n",
    "    - [The SPRT with nuisance parameters](./SPRTNuisance.ipynb)\n",
    "    - [The Kaplan-Wald confidence bound](./kaplanWald.ipynb)\n",
    "    - [Kaplan's martingale](./kmart.ipynb)\n",
    "    - [ALPHA and betting martingales](./alpha.ipynb)\n",
    "+ The Stringer bound\n",
    "+ [The Gaffke bound](./gaffke.ipynb)"
   ]
  },
  {
   "cell_type": "markdown",
   "id": "6598b50b-6832-4a51-9e86-cb8e189bb6b9",
   "metadata": {},
   "source": [
    "## Collected references\n",
    "\n",
    "+ Anderson, T.W., 1969. Confidence limits for the value of an arbitrary bounded random variable with a continuous \n",
    "distribution function. _Bulletin of The International and Statistical Institute 43_, 249-251.\n",
    "+ Bickel, P.J., 1992. Inference and Auditing: The Stringer Bound, _International Statistical Review_, 60, 197-209 https://www.jstor.org/stable/1403650\n",
    "+ Breth, M., 1976. Non-parametric confidence intervals for a mean using censored data. _J. Roy. Statist. Soc. B 38_, 251-254.\n",
    "+ Breth, M., J.S. Maritz, and E.J. Williams, 1978. On distribution-free lower confidence limits for the mean of a nonnegative random variable. _Biometrika 65_, 529-534.\n",
    "+ Edwards, D., D. Gilliland, G. Ward-Besser, and J. Lasecki, 2015. Conservative Penny Sampling, _Journal of Survey Statistics and Methodology, 3_, 504-523, https://doi.org/10.1093/jssam/smv025\n",
    "+ Howard, S., A. Ramdas, J. McAuliffe, and J. Sekhon, 2021. Time-uniform, nonparametric, nonasymptotic confidence sequences,\n",
    "_Annals of Statistics_, 49(2): 1055-1080 DOI: 10.1214/20-AOS1991\n",
    "+ Kaplan, H.M., 1987. A Method of One-sided Nonparametric Inference for the Mean of a Nonnegative Population, _The American Statistician_, 41:2, 157-158, DOI: 10.1080/00031305.1987.10475470\n",
    "+ Gaffke, N., (unknown date), Three test statistics for a nonparametric one-sided hypothesis on the mean of a nonnegative variable, https://www.math.uni-magdeburg.de/institute/imst/ag_gaffke/files/pp1304.pdf\n",
    "+ Hoeffding, W., 1963. Probability Inequalities for Sums of Bounded Random Variables. _Journal of the American Statistical Association, 58(301)_, 13-30. https://doi.org/10.2307/2282952\n",
    "+ Learned-Miller, E., and P.S. Thomas, 2019. A New Confidence Interval for the Mean of a Bounded Random Variable https://arxiv.org/abs/1905.06208\n",
    "+ Luczak, T., K. Mieczkowska, and M. Sileikis, 2016. On Maximal Tail Probability of Sums of Nonnegative, Independent, and Identically Distributed Random Variables, \n",
    "+ Maurer, A., and M. Pontil, 2009. Empirical Bernstein Bounds and Sample-Variance Penalization, _COLT_\n",
    "+ Panel on Nonstandard Mixtures of Distributions, 1988. Statistical Models and Analysis in Auditing\n",
    "_A Study of Statistical Models and Methods for Analyzing Nonstandard Mixtures of Distributions in Auditing_,\n",
    "National Academies Press.\n",
    "https://nap.nationalacademies.org/initiative/panel-on-nonstandard-mixtures-of-distributions\n",
    "+ Phan, M., P.S. Thomas, and E. Learned-Miller, 2021. Towards practical mean bounds for small samples. https://arxiv.org/abs/2106.03163\n",
    "+ Serfling, R.J., 1974. Probability Inequalities for the Sum in Sampling without Replacement. _Ann. Statist. 2_, 39-48, https://doi.org/10.1214/aos/1176342611\n",
    "+ Stark, P.B., 2009. Risk-Limiting Postelection Audits: Conservative $P$-Values From Common Probability Inequalities, _IEEE Transactions on Information Forensics and Security, 4_, 1005-1014, doi: 10.1109/TIFS.2009.2034190 \n",
    "+ Stark, P.B., 2022. ALPHA: Audit that Learns from Previously Hand-Audited Ballots, https://arxiv.org/abs/2201.02707\n",
    "+ Wang, and Zhao, 2003. Nonparametric tests for the mean of a non-negative population. _J. Statist. Plann. Inference, 110_, 75-96.\n",
    "+ Waudby-Smith, I., and A. Ramdas, 2021. Estimating Means of Bounded Random Variables by Betting, https://arxiv.org/pdf/2010.09686.pdf\n",
    "+ Waudby-Smith, I., P.B. Stark, and A. Ramdas, 2021. RiLACS: Risk-Limiting Audits via Confidence Sequences,\n",
    "in _Electronic Voting. E-Vote-ID 2021_. Lecture Notes in Computer Science, 12900. Springer, Cham. https://doi.org/10.1007/978-3-030-86942-7_9"
   ]
  },
  {
   "cell_type": "code",
   "execution_count": null,
   "id": "c03c535b-cd42-4cb0-8f74-cb95475b72c7",
   "metadata": {},
   "outputs": [],
   "source": []
  }
 ],
 "metadata": {
  "kernelspec": {
   "display_name": "Python 3 (ipykernel)",
   "language": "python",
   "name": "python3"
  },
  "language_info": {
   "codemirror_mode": {
    "name": "ipython",
    "version": 3
   },
   "file_extension": ".py",
   "mimetype": "text/x-python",
   "name": "python",
   "nbconvert_exporter": "python",
   "pygments_lexer": "ipython3",
   "version": "3.8.12"
  }
 },
 "nbformat": 4,
 "nbformat_minor": 5
}
