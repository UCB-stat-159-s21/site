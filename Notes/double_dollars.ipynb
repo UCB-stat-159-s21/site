{
 "cells": [
  {
   "cell_type": "markdown",
   "id": "addressed-craft",
   "metadata": {},
   "source": [
    "# Double Dollars\n",
    "\n",
    "Replace double dollar math blocks with more modern LaTeX constructs in notebooks.\n",
    "\n",
    "## Needed libraries"
   ]
  },
  {
   "cell_type": "code",
   "execution_count": 1,
   "id": "higher-integer",
   "metadata": {},
   "outputs": [],
   "source": [
    "import sys\n",
    "import re\n",
    "import shutil\n",
    "from pathlib import Path"
   ]
  },
  {
   "cell_type": "markdown",
   "id": "surprised-inflation",
   "metadata": {},
   "source": [
    "## Interactive testing/development"
   ]
  },
  {
   "cell_type": "code",
   "execution_count": 34,
   "id": "sunset-infrared",
   "metadata": {},
   "outputs": [],
   "source": [
    "text = r\"\"\"\n",
    "\n",
    " \"cells\": [\n",
    "  {\n",
    "   \"cell_type\": \"markdown\",\n",
    "   \"id\": \"accessory-ribbon\",\n",
    "   \"metadata\": {},\n",
    "   \"source\": [\n",
    "    \"# Display math with double dollars\\n\",\n",
    "    \"\\n\",\n",
    "    \"Hence, for $\\\\alpha \\\\in (0, 1)$,\\n\",\n",
    "    \"\\n\",\n",
    "    \"$$\\n\",\n",
    "    \"  \\\\mathbb P (\\\\alpha \\\\bar{X} \\\\ge \\\\mu) \\\\le \\\\alpha;\\n\",\n",
    "    \"$$\\n\",\n",
    "    \"\\n\",\n",
    "    \"i.e., $[\\\\alpha \\\\bar{X}, \\\\infty)$ is a lower 1-sided $1-\\\\alpha$ confidence bound for $\\\\mu$.\\n\",\n",
    "    \"\\n\",\n",
    "    \"\\n\",\n",
    "    \"# More Display math with double dollars\\n\",\n",
    "    \"\\n\",\n",
    "    \"Hence\\n\",\n",
    "    \"\\n\",\n",
    "    \"$$ \\n\",\n",
    "    \"  more math \\n\",\n",
    "    \"$$\\n\",\n",
    "    \"\\n\",\n",
    "    \"i.e., great! \\n\",\n",
    "    \"\\n\",\n",
    "    \"\\n\",\n",
    "    \"That is, \\n\",\n",
    "    \"$$\\n\",\n",
    "    \"    \\\\mathcal C(X) \\\\equiv \\\\left \\\\{ \\\\mbox{cdfs } G: \\\\sup_x (G(x) - \\\\hat{F}_n(x)) \\\\le  \\\\sqrt{-\\\\frac{\n",
    "\\\\ln \\\\alpha}{2n}} \\\\right \\\\}\\n\",\n",
    "    \"$$\\n\",\n",
    "    \"is a nonparametric confidence set for the true population cdf $F$.\\n\",\n",
    "    \"\\n\",\n",
    "    \"Testing double dollar math in one line\\n\",\n",
    "    \"$$x+y=z.$$\\n\",\n",
    "    \"\\n\",\n",
    "    \"The above should become\\n\",\n",
    "    \"\\\\begin{equation*}\\n\",\n",
    "    \"x+y=z.\\n\",\n",
    "    \"\\\\end{equation*}\"    \n",
    "\"\"\""
   ]
  },
  {
   "cell_type": "code",
   "execution_count": 45,
   "id": "narrow-combination",
   "metadata": {},
   "outputs": [
    {
     "name": "stdout",
     "output_type": "stream",
     "text": [
      "<re.Match object; span=(220, 300), match='\"$$\\\\n\",\\n    \"  \\\\\\\\mathbb P (\\\\\\\\alpha \\\\\\\\bar{>\n",
      "\"$$\\n\",\n",
      "    \"  \\\\mathbb P (\\\\alpha \\\\bar{X} \\\\ge \\\\mu) \\\\le \\\\alpha;\\n\",\n",
      "    \"$$\n"
     ]
    }
   ],
   "source": [
    "fpat = r'\"\\$\\$\\s*(.*?)\"\\$\\$'\n",
    "fpat = r'\"\\s*\\$\\$(.*?)\\$\\$'\n",
    "rx = re.compile(fpat, re.DOTALL)\n",
    "x = rx.search(text)\n",
    "print(x)\n",
    "if x: print(x.group())"
   ]
  },
  {
   "cell_type": "code",
   "execution_count": 39,
   "id": "interim-instruction",
   "metadata": {},
   "outputs": [
    {
     "data": {
      "text/plain": [
       "'\"$$\\\\n\",\\n    \"  \\\\\\\\mathbb P (\\\\\\\\alpha \\\\\\\\bar{X} \\\\\\\\ge \\\\\\\\mu) \\\\\\\\le \\\\\\\\alpha;\\\\n\",\\n    \"$$'"
      ]
     },
     "execution_count": 39,
     "metadata": {},
     "output_type": "execute_result"
    }
   ],
   "source": [
    "x.group()"
   ]
  },
  {
   "cell_type": "code",
   "execution_count": 47,
   "id": "fifty-sheriff",
   "metadata": {},
   "outputs": [
    {
     "name": "stdout",
     "output_type": "stream",
     "text": [
      "\n",
      "\n",
      " \"cells\": [\n",
      "  {\n",
      "   \"cell_type\": \"markdown\",\n",
      "   \"id\": \"accessory-ribbon\",\n",
      "   \"metadata\": {},\n",
      "   \"source\": [\n",
      "    \"# Display math with double dollars\\n\",\n",
      "    \"\\n\",\n",
      "    \"Hence, for $\\\\alpha \\\\in (0, 1)$,\\n\",\n",
      "    \"\\n\",\n",
      "    \"\\\\begin{equation*} \\n\",\n",
      "    \"  \\\\mathbb P (\\\\alpha \\\\bar{X} \\\\ge \\\\mu) \\\\le \\\\alpha;\\n\",\n",
      "    \"\\\\end{equation*}\\n\",\n",
      "    \"\\n\",\n",
      "    \"i.e., $[\\\\alpha \\\\bar{X}, \\\\infty)$ is a lower 1-sided $1-\\\\alpha$ confidence bound for $\\\\mu$.\\n\",\n",
      "    \"\\n\",\n",
      "    \"\\n\",\n",
      "    \"# More Display math with double dollars\\n\",\n",
      "    \"\\n\",\n",
      "    \"Hence\\n\",\n",
      "    \"\\n\",\n",
      "    \"\\\\begin{equation*}  \\n\",\n",
      "    \"  more math \\n\",\n",
      "    \"\\\\end{equation*}\\n\",\n",
      "    \"\\n\",\n",
      "    \"i.e., great! \\n\",\n",
      "    \"\\n\",\n",
      "    \"\\n\",\n",
      "    \"That is, \\n\",\n",
      "    \"\\\\begin{equation*} \\n\",\n",
      "    \"    \\\\mathcal C(X) \\\\equiv \\\\left \\\\{ \\\\mbox{cdfs } G: \\\\sup_x (G(x) - \\\\hat{F}_n(x)) \\\\le  \\\\sqrt{-\\\\frac{\n",
      "\\\\ln \\\\alpha}{2n}} \\\\right \\\\}\\n\",\n",
      "    \"\\\\end{equation*}\\n\",\n",
      "    \"is a nonparametric confidence set for the true population cdf $F$.\\n\",\n",
      "    \"\\n\",\n",
      "    \"Testing double dollar math in one line\\n\",\n",
      "    \"\\\\begin{equation*} x+y=z.\\\\end{equation*}\\n\",\n",
      "    \"\\n\",\n",
      "    \"The above should become\\n\",\n",
      "    \"\\\\begin{equation*}\\n\",\n",
      "    \"x+y=z.\\n\",\n",
      "    \"\\\\end{equation*}\"    \n",
      "\n"
     ]
    }
   ],
   "source": [
    "spat = r'\"\\\\\\\\begin{equation*}\\1\"\\\\\\\\end{equation*}'\n",
    "spat = r'\"\\\\\\\\begin{equation*} \\1\\\\\\\\end{equation*}'\n",
    "print(rx.sub(spat, text))"
   ]
  },
  {
   "cell_type": "markdown",
   "id": "congressional-train",
   "metadata": {},
   "source": [
    "## Function implementation"
   ]
  },
  {
   "cell_type": "code",
   "execution_count": 51,
   "id": "mineral-cartridge",
   "metadata": {},
   "outputs": [],
   "source": [
    "def replace_dd(bdata):\n",
    "    # find/substitute patterns for $$ and the \\begin{eq*} replacement\n",
    "    fpat = r'\"\\s*\\$\\$(.*?)\\$\\$'\n",
    "    spat = r'\"\\\\\\\\begin{equation*} \\1\\\\\\\\end{equation*}'\n",
    "    # Create the regex and use it to edit the raw data\n",
    "    rx = re.compile(fpat, re.DOTALL)\n",
    "    return rx.sub(spat, bdata)"
   ]
  },
  {
   "cell_type": "code",
   "execution_count": 52,
   "id": "developmental-standard",
   "metadata": {},
   "outputs": [],
   "source": [
    "def remove_dd(fname):\n",
    "    nbfile = Path(fname)\n",
    "    if not nbfile.is_file():\n",
    "        raise ValueError(f\"Requested path {nbfile} does not exist/not a file\")\n",
    "        \n",
    "    nbkp = nbfile.parent/Path(nbfile.stem+'-original-ddm'+nbfile.suffix)\n",
    "    shutil.copy2(nbfile, nbkp)\n",
    "    print(f\"Backup created at {nbkp}.\")\n",
    "    \n",
    "    nbdata = nbfile.read_text()\n",
    "    newdata = replace_dd(nbdata)\n",
    "    with open(nbfile, 'w') as nb:\n",
    "        nb.write(newdata)\n",
    "    print(f\"Check modified file {fname} for incorrect changes.\")"
   ]
  },
  {
   "cell_type": "markdown",
   "id": "skilled-tongue",
   "metadata": {},
   "source": [
    "## Let's use it now to modify our notebooks..."
   ]
  },
  {
   "cell_type": "code",
   "execution_count": 203,
   "id": "ambient-squad",
   "metadata": {},
   "outputs": [
    {
     "name": "stdout",
     "output_type": "stream",
     "text": [
      "Backup created at SPRTNuisance-original-ddm.ipynb.\n",
      "Check modified file SPRTNuisance.ipynb for incorrect changes.\n"
     ]
    }
   ],
   "source": [
    "fname = 'SPRTNuisance.ipynb'\n",
    "remove_dd(fname)"
   ]
  },
  {
   "cell_type": "code",
   "execution_count": 204,
   "id": "elementary-ensemble",
   "metadata": {
    "scrolled": true
   },
   "outputs": [
    {
     "name": "stdout",
     "output_type": "stream",
     "text": [
      "\u001b[1mdiff --git a/Notes/SPRTNuisance.ipynb b/Notes/SPRTNuisance.ipynb\u001b[m\n",
      "\u001b[1mindex 17ad26e..676a718 100644\u001b[m\n",
      "\u001b[1m--- a/Notes/SPRTNuisance.ipynb\u001b[m\n",
      "\u001b[1m+++ b/Notes/SPRTNuisance.ipynb\u001b[m\n",
      "\u001b[36m@@ -26,15 +26,15 @@\u001b[m\n",
      "     \"Let us consider testing $H_k$ against $H_{kd}: N_w - N_\\\\ell = c+d_k, N_u = k$. \\n\",\u001b[m\n",
      "     \"The hypotheses are equivalent to\\n\",\u001b[m\n",
      "     \"\\n\",\u001b[m\n",
      "\u001b[31m-    \"$$\\n\",\u001b[m\n",
      "\u001b[32m+\u001b[m\u001b[32m    \"\\\\begin{equation*} \\n\",\u001b[m\n",
      "     \"  H_k: N_u = k, N_w \\\\le (N-k+c)/2, N_\\\\ell \\\\ge (N-k-c)/2\\n\",\u001b[m\n",
      "\u001b[31m-    \"$$\\n\",\u001b[m\n",
      "\u001b[32m+\u001b[m\u001b[32m    \"\\\\end{equation*}\\n\",\u001b[m\n",
      "     \"\\n\",\u001b[m\n",
      "     \"and\\n\",\u001b[m\n",
      "     \"\\n\",\u001b[m\n",
      "\u001b[31m-    \"$$\\n\",\u001b[m\n",
      "\u001b[32m+\u001b[m\u001b[32m    \"\\\\begin{equation*} \\n\",\u001b[m\n",
      "     \"  H_{kd}: N_u = k, N_w = (N-k+c+d_k)/2, N_\\\\ell = (N-k-c-d_k)/2.\\n\",\u001b[m\n",
      "\u001b[31m-    \"$$\\n\",\u001b[m\n",
      "\u001b[32m+\u001b[m\u001b[32m    \"\\\\end{equation*}\\n\",\u001b[m\n",
      "     \"\\n\",\u001b[m\n",
      "     \"Suppose we draw a sample sequentially without replacement, and that in $n$\\n\",\u001b[m\n",
      "     \"draws we see $W_n$ items labeled \\\"w\\\" and $L_n$ items labeled \\\"l,\\\" \\n\",\u001b[m\n",
      "\u001b[36m@@ -51,9 +51,9 @@\u001b[m\n",
      "     \"\\n\",\u001b[m\n",
      "     \"The likelihood ratio for $H_{kd}$ to $H_k$ to is\\n\",\u001b[m\n",
      "     \"\\n\",\u001b[m\n",
      "\u001b[31m-    \"$$\\n\",\u001b[m\n",
      "\u001b[32m+\u001b[m\u001b[32m    \"\\\\begin{equation*} \\n\",\u001b[m\n",
      "     \"  \\\\mathcal{L}_{k,n} \\\\equiv  \\\\frac{\\\\prod_{i=0}^{W_n} (N_{wkd} - i) \\\\prod_{i=0}^{L_n} (N_{\\\\ell kd} - i) \\\\prod_{i=0}^{U_n} (k - i)}{\\\\prod_{i=0}^{W_n} (N_{wk} - i) \\\\prod_{i=0}^{L_n} (N_{\\\\ell k} - i) \\\\prod_{i=0}^{U_n} (k - i)} = \\\\frac{\\\\prod_{i=0}^{W_n} (N_{wkd} - i) \\\\prod_{i=0}^{L_n} (N_{\\\\ell kd} - i)}{\\\\prod_{i=0}^{W_n} (N_{wk} - i) \\\\prod_{i=0}^{L_n} (N_{\\\\ell k} - i)}.\\n\",\u001b[m\n",
      "\u001b[31m-    \"$$\\n\",\u001b[m\n",
      "\u001b[32m+\u001b[m\u001b[32m    \"\\\\end{equation*}\\n\",\u001b[m\n",
      "     \"\\n\",\u001b[m\n",
      "     \"**This might need additional restrictions in case a value of $c$, $d$, or $k$\\n\",\u001b[m\n",
      "     \"is impossible given $n$, $W_n$, $L_n$.**\\n\",\u001b[m\n"
     ]
    }
   ],
   "source": [
    "!git diff {fname}"
   ]
  },
  {
   "cell_type": "code",
   "execution_count": 205,
   "id": "owned-dragon",
   "metadata": {
    "scrolled": true
   },
   "outputs": [
    {
     "name": "stdout",
     "output_type": "stream",
     "text": [
      "\u001b[32m\u001b[1mRunning Jupyter-Book v0.9.1\u001b[0m\n",
      "\u001b[34m\u001b[1mSource Folder: \u001b[0m/Users/fperez/teach/stat159/2021sp/site/Notes/..\n",
      "\u001b[34m\u001b[1mConfig Path: \u001b[0m/Users/fperez/teach/stat159/2021sp/site/Notes/../_config.yml\n",
      "\u001b[34m\u001b[1mOutput Path: \u001b[0m/Users/fperez/teach/stat159/2021sp/site/Notes/../_build/html\n",
      "\u001b[01mRunning Sphinx v3.4.3\u001b[39;49;00m\n",
      "\u001b[01mloading pickled environment... \u001b[39;49;00mdone\n",
      "\u001b[01mmyst v0.12.10:\u001b[39;49;00m MdParserConfig(renderer='sphinx', commonmark_only=False, dmath_enable=True, dmath_allow_labels=True, dmath_allow_space=True, dmath_allow_digits=True, amsmath_enable=True, deflist_enable=True, update_mathjax=True, admonition_enable=True, figure_enable=True, disable_syntax=[], html_img_enable=True, url_schemes=['mailto', 'http', 'https'], heading_anchors=None)\n",
      "\u001b[01mbuilding [mo]: \u001b[39;49;00mtargets for 0 po files that are out of date\n",
      "\u001b[01mbuilding [html]: \u001b[39;49;00mtargets for 2 source files that are out of date\n",
      "\u001b[01mupdating environment: \u001b[39;49;00m1 added, 2 changed, 0 removed\n",
      "\u001b[01mreading sources... \u001b[39;49;00m[100%] \u001b[35mNotes/double_dollars\u001b[39;49;00m                                  \n",
      "\u001b[91mWARNING: Found a content page that is not in _toc.yml: Notes/SPRTNuisance.ipynb.\u001b[39;49;00m\n",
      "\u001b[91mWARNING: Found a content page that is not in _toc.yml: Notes/SPRTNuisance-original-ddm.ipynb.\u001b[39;49;00m\n",
      "\u001b[91mWARNING: Found a content page that is not in _toc.yml: Notes/double_dollars.ipynb.\u001b[39;49;00m\n",
      "\u001b[01mlooking for now-outdated files... \u001b[39;49;00mnone found\n",
      "\u001b[01mpickling environment... \u001b[39;49;00mdone\n",
      "\u001b[01mchecking consistency... \u001b[39;49;00m\u001b[91m/Users/fperez/teach/stat159/2021sp/site/.pytest_cache/README.md: WARNING: document isn't included in any toctree\u001b[39;49;00m\n",
      "\u001b[91m/Users/fperez/teach/stat159/2021sp/site/Notes/01/collaboration-exercise.ipynb: WARNING: document isn't included in any toctree\u001b[39;49;00m\n",
      "\u001b[91m/Users/fperez/teach/stat159/2021sp/site/Notes/01/git-extras.ipynb: WARNING: document isn't included in any toctree\u001b[39;49;00m\n",
      "\u001b[91m/Users/fperez/teach/stat159/2021sp/site/Notes/01/git-first-tasks.ipynb: WARNING: document isn't included in any toctree\u001b[39;49;00m\n",
      "\u001b[91m/Users/fperez/teach/stat159/2021sp/site/Notes/01/git-intro-concepts.ipynb: WARNING: document isn't included in any toctree\u001b[39;49;00m\n",
      "\u001b[91m/Users/fperez/teach/stat159/2021sp/site/Notes/01/intro-jupyter-hub.ipynb: WARNING: document isn't included in any toctree\u001b[39;49;00m\n",
      "\u001b[91m/Users/fperez/teach/stat159/2021sp/site/Notes/01/intro-shell.ipynb: WARNING: document isn't included in any toctree\u001b[39;49;00m\n",
      "\u001b[91m/Users/fperez/teach/stat159/2021sp/site/Notes/README.md: WARNING: document isn't included in any toctree\u001b[39;49;00m\n",
      "\u001b[91m/Users/fperez/teach/stat159/2021sp/site/Notes/SPRTNuisance.ipynb: WARNING: document isn't included in any toctree\u001b[39;49;00m\n",
      "\u001b[91m/Users/fperez/teach/stat159/2021sp/site/Notes/SPRTNuisance-original-ddm.ipynb: WARNING: document isn't included in any toctree\u001b[39;49;00m\n",
      "\u001b[91m/Users/fperez/teach/stat159/2021sp/site/Notes/Untitled.ipynb: WARNING: document isn't included in any toctree\u001b[39;49;00m\n",
      "\u001b[91m/Users/fperez/teach/stat159/2021sp/site/Notes/audit.ipynb: WARNING: document isn't included in any toctree\u001b[39;49;00m\n",
      "\u001b[91m/Users/fperez/teach/stat159/2021sp/site/Notes/bayes.ipynb: WARNING: document isn't included in any toctree\u001b[39;49;00m\n",
      "\u001b[91m/Users/fperez/teach/stat159/2021sp/site/Notes/biblio.md: WARNING: document isn't included in any toctree\u001b[39;49;00m\n",
      "\u001b[91m/Users/fperez/teach/stat159/2021sp/site/Notes/binom.ipynb: WARNING: document isn't included in any toctree\u001b[39;49;00m\n",
      "\u001b[91m/Users/fperez/teach/stat159/2021sp/site/Notes/canonical.ipynb: WARNING: document isn't included in any toctree\u001b[39;49;00m\n",
      "\u001b[91m/Users/fperez/teach/stat159/2021sp/site/Notes/combining-tests.ipynb: WARNING: document isn't included in any toctree\u001b[39;49;00m\n",
      "\u001b[91m/Users/fperez/teach/stat159/2021sp/site/Notes/copa.ipynb: WARNING: document isn't included in any toctree\u001b[39;49;00m\n",
      "\u001b[91m/Users/fperez/teach/stat159/2021sp/site/Notes/double_dollars.ipynb: WARNING: document isn't included in any toctree\u001b[39;49;00m\n",
      "\u001b[91m/Users/fperez/teach/stat159/2021sp/site/Notes/duality.ipynb: WARNING: document isn't included in any toctree\u001b[39;49;00m\n",
      "\u001b[91m/Users/fperez/teach/stat159/2021sp/site/Notes/dus.ipynb: WARNING: document isn't included in any toctree\u001b[39;49;00m\n",
      "\u001b[91m/Users/fperez/teach/stat159/2021sp/site/Notes/election_audits.ipynb: WARNING: document isn't included in any toctree\u001b[39;49;00m\n",
      "\u001b[91m/Users/fperez/teach/stat159/2021sp/site/Notes/em.ipynb: WARNING: document isn't included in any toctree\u001b[39;49;00m\n",
      "\u001b[91m/Users/fperez/teach/stat159/2021sp/site/Notes/goodness_of_fit.ipynb: WARNING: document isn't included in any toctree\u001b[39;49;00m\n",
      "\u001b[91m/Users/fperez/teach/stat159/2021sp/site/Notes/hoeffding.ipynb: WARNING: document isn't included in any toctree\u001b[39;49;00m\n",
      "\u001b[91m/Users/fperez/teach/stat159/2021sp/site/Notes/inference.ipynb: WARNING: document isn't included in any toctree\u001b[39;49;00m\n",
      "\u001b[91m/Users/fperez/teach/stat159/2021sp/site/Notes/kaplanWald.ipynb: WARNING: document isn't included in any toctree\u001b[39;49;00m\n",
      "\u001b[91m/Users/fperez/teach/stat159/2021sp/site/Notes/karpEtal15.ipynb: WARNING: document isn't included in any toctree\u001b[39;49;00m\n",
      "\u001b[91m/Users/fperez/teach/stat159/2021sp/site/Notes/least_squares.ipynb: WARNING: document isn't included in any toctree\u001b[39;49;00m\n",
      "\u001b[91m/Users/fperez/teach/stat159/2021sp/site/Notes/linalg.ipynb: WARNING: document isn't included in any toctree\u001b[39;49;00m\n",
      "\u001b[91m/Users/fperez/teach/stat159/2021sp/site/Notes/markov.ipynb: WARNING: document isn't included in any toctree\u001b[39;49;00m\n",
      "\u001b[91m/Users/fperez/teach/stat159/2021sp/site/Notes/math-foundations.ipynb: WARNING: document isn't included in any toctree\u001b[39;49;00m\n",
      "\u001b[91m/Users/fperez/teach/stat159/2021sp/site/Notes/math-inequalities.ipynb: WARNING: document isn't included in any toctree\u001b[39;49;00m\n",
      "\u001b[91m/Users/fperez/teach/stat159/2021sp/site/Notes/math-inequalities-original-ddm.ipynb: WARNING: document isn't included in any toctree\u001b[39;49;00m\n",
      "\u001b[91m/Users/fperez/teach/stat159/2021sp/site/Notes/models.ipynb: WARNING: document isn't included in any toctree\u001b[39;49;00m\n",
      "\u001b[91m/Users/fperez/teach/stat159/2021sp/site/Notes/normApprox.ipynb: WARNING: document isn't included in any toctree\u001b[39;49;00m\n",
      "\u001b[91m/Users/fperez/teach/stat159/2021sp/site/Notes/overview.ipynb: WARNING: document isn't included in any toctree\u001b[39;49;00m\n",
      "\u001b[91m/Users/fperez/teach/stat159/2021sp/site/Notes/overview-scratch.md: WARNING: document isn't included in any toctree\u001b[39;49;00m\n",
      "\u001b[91m/Users/fperez/teach/stat159/2021sp/site/Notes/pSPRTnoReplacement.ipynb: WARNING: document isn't included in any toctree\u001b[39;49;00m\n",
      "\u001b[91m/Users/fperez/teach/stat159/2021sp/site/Notes/pSPRTnoReplacement-original-ddm.ipynb: WARNING: document isn't included in any toctree\u001b[39;49;00m\n",
      "\u001b[91m/Users/fperez/teach/stat159/2021sp/site/Notes/pennySampling.ipynb: WARNING: document isn't included in any toctree\u001b[39;49;00m\n",
      "\u001b[91m/Users/fperez/teach/stat159/2021sp/site/Notes/permute-distance.ipynb: WARNING: document isn't included in any toctree\u001b[39;49;00m\n",
      "\u001b[91m/Users/fperez/teach/stat159/2021sp/site/Notes/permute-distance-original-ddm.ipynb: WARNING: document isn't included in any toctree\u001b[39;49;00m\n",
      "\u001b[91m/Users/fperez/teach/stat159/2021sp/site/Notes/permute-intro.ipynb: WARNING: document isn't included in any toctree\u001b[39;49;00m\n",
      "\u001b[91m/Users/fperez/teach/stat159/2021sp/site/Notes/permute-intro-original-ddm.ipynb: WARNING: document isn't included in any toctree\u001b[39;49;00m\n",
      "\u001b[91m/Users/fperez/teach/stat159/2021sp/site/Notes/permute-sample.ipynb: WARNING: document isn't included in any toctree\u001b[39;49;00m\n",
      "\u001b[91m/Users/fperez/teach/stat159/2021sp/site/Notes/permute-sample-original-ddm.ipynb: WARNING: document isn't included in any toctree\u001b[39;49;00m\n",
      "\u001b[91m/Users/fperez/teach/stat159/2021sp/site/Notes/probTheory.ipynb: WARNING: document isn't included in any toctree\u001b[39;49;00m\n",
      "\u001b[91m/Users/fperez/teach/stat159/2021sp/site/Notes/probTheory-original-ddm.ipynb: WARNING: document isn't included in any toctree\u001b[39;49;00m\n",
      "\u001b[91m/Users/fperez/teach/stat159/2021sp/site/Notes/probVectors.ipynb: WARNING: document isn't included in any toctree\u001b[39;49;00m\n",
      "\u001b[91m/Users/fperez/teach/stat159/2021sp/site/Notes/probVectors-original-ddm.ipynb: WARNING: document isn't included in any toctree\u001b[39;49;00m\n",
      "\u001b[91m/Users/fperez/teach/stat159/2021sp/site/Notes/pseudo-random.ipynb: WARNING: document isn't included in any toctree\u001b[39;49;00m\n",
      "\u001b[91m/Users/fperez/teach/stat159/2021sp/site/Notes/pseudo-random-original-ddm.ipynb: WARNING: document isn't included in any toctree\u001b[39;49;00m\n",
      "\u001b[91m/Users/fperez/teach/stat159/2021sp/site/Notes/rabbits.ipynb: WARNING: document isn't included in any toctree\u001b[39;49;00m\n",
      "\u001b[91m/Users/fperez/teach/stat159/2021sp/site/Notes/rabbits-original-ddm.ipynb: WARNING: document isn't included in any toctree\u001b[39;49;00m\n",
      "\u001b[91m/Users/fperez/teach/stat159/2021sp/site/Notes/setsCombinatorics.ipynb: WARNING: document isn't included in any toctree\u001b[39;49;00m\n",
      "\u001b[91m/Users/fperez/teach/stat159/2021sp/site/Notes/setsCombinatorics-original-ddm.ipynb: WARNING: document isn't included in any toctree\u001b[39;49;00m\n",
      "\u001b[91m/Users/fperez/teach/stat159/2021sp/site/Notes/shootout.ipynb: WARNING: document isn't included in any toctree\u001b[39;49;00m\n",
      "\u001b[91m/Users/fperez/teach/stat159/2021sp/site/Notes/shootout-original-ddm.ipynb: WARNING: document isn't included in any toctree\u001b[39;49;00m\n",
      "\u001b[91m/Users/fperez/teach/stat159/2021sp/site/Notes/sprt.ipynb: WARNING: document isn't included in any toctree\u001b[39;49;00m\n",
      "\u001b[91m/Users/fperez/teach/stat159/2021sp/site/Notes/sprt-original-ddm.ipynb: WARNING: document isn't included in any toctree\u001b[39;49;00m\n",
      "\u001b[91m/Users/fperez/teach/stat159/2021sp/site/Notes/themes-scratch.md: WARNING: document isn't included in any toctree\u001b[39;49;00m\n",
      "\u001b[91m/Users/fperez/teach/stat159/2021sp/site/README.md: WARNING: document isn't included in any toctree\u001b[39;49;00m\n",
      "\u001b[91m/Users/fperez/teach/stat159/2021sp/site/math-tests.ipynb: WARNING: document isn't included in any toctree\u001b[39;49;00m\n",
      "done\n",
      "\u001b[01mpreparing documents... \u001b[39;49;00mdone\n",
      "\u001b[01mwriting output... \u001b[39;49;00m[100%] \u001b[32moverview\u001b[39;49;00m                                               \n",
      "\u001b[01mgenerating indices... \u001b[39;49;00mgenindex done\n",
      "\u001b[01mwriting additional pages... \u001b[39;49;00msearch done\n",
      "\u001b[01mcopying static files... \u001b[39;49;00mdone\n",
      "\u001b[01mcopying extra files... \u001b[39;49;00mdone\n",
      "\u001b[01mdumping search index in English (code: en)... \u001b[39;49;00mdone\n",
      "\u001b[01mdumping object inventory... \u001b[39;49;00mdone\n",
      "\u001b[01mbuild succeeded, 67 warnings.\u001b[39;49;00m\n",
      "\n",
      "The HTML pages are in ../_build/html.\n",
      "\n",
      "\u001b[92m===============================================================================\u001b[0m\n",
      "\n",
      "Finished generating HTML for book.\n",
      "Your book's HTML pages are here:\n",
      "    ../_build/html/\n",
      "You can look at your book by opening this file in a browser:\n",
      "    ../_build/html/index.html\n",
      "Or paste this line directly into your browser bar:\n",
      "    file:///Users/fperez/teach/stat159/2021sp/site/_build/html/index.html            \n",
      "\n",
      "\u001b[92m===============================================================================\u001b[0m\n",
      "\n"
     ]
    }
   ],
   "source": [
    "!jupyter-book build .."
   ]
  },
  {
   "cell_type": "code",
   "execution_count": 206,
   "id": "successful-professional",
   "metadata": {},
   "outputs": [],
   "source": [
    "!open ../_build/html/Notes/{fname.replace('ipynb', 'html')}"
   ]
  },
  {
   "cell_type": "markdown",
   "id": "spread-baghdad",
   "metadata": {},
   "source": [
    "## Stop! Check the build above first, and run the next cell to commit if all looks OK."
   ]
  },
  {
   "cell_type": "code",
   "execution_count": 207,
   "id": "metropolitan-activation",
   "metadata": {},
   "outputs": [
    {
     "name": "stdout",
     "output_type": "stream",
     "text": [
      "[main 2de3e05] SPRTNuisance notebook: replace $$ math with equation environments, that render OK in Sphinx.\n",
      " 1 file changed, 6 insertions(+), 6 deletions(-)\n"
     ]
    }
   ],
   "source": [
    "!git commit -m\"{Path(fname).stem} notebook: replace \\$\\$ math with equation environments, that render OK in Sphinx.\" {fname}"
   ]
  },
  {
   "cell_type": "code",
   "execution_count": null,
   "id": "driven-association",
   "metadata": {},
   "outputs": [],
   "source": []
  }
 ],
 "metadata": {
  "kernelspec": {
   "display_name": "Python 3",
   "language": "python",
   "name": "python3"
  },
  "language_info": {
   "codemirror_mode": {
    "name": "ipython",
    "version": 3
   },
   "file_extension": ".py",
   "mimetype": "text/x-python",
   "name": "python",
   "nbconvert_exporter": "python",
   "pygments_lexer": "ipython3",
   "version": "3.8.6"
  }
 },
 "nbformat": 4,
 "nbformat_minor": 5
}
